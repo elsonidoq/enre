{
 "cells": [
  {
   "cell_type": "code",
   "execution_count": 1,
   "id": "a67d0639",
   "metadata": {},
   "outputs": [],
   "source": [
    "import requests\n",
    "from datetime import datetime\n",
    "\n",
    "import os\n",
    "from apiclient.http import MediaFileUpload, MediaIoBaseDownload\n",
    "from google.oauth2 import service_account\n",
    "from googleapiclient.discovery import build\n",
    "\n",
    "def setup_gdrive(credentials_secret):\n",
    "    with open('credentials.json', 'w') as f:\n",
    "        f.write(os.environ[credentials_secret])\n",
    "        \n",
    "    # Load the credentials from the JSON key file\n",
    "    credentials = service_account.Credentials.from_service_account_file(\n",
    "        'credentials.json',\n",
    "        scopes=['https://www.googleapis.com/auth/drive']\n",
    "    )\n",
    "\n",
    "    drive_service = build('drive', 'v3', credentials=credentials)\n",
    "    return drive_service\n",
    "\n"
   ]
  },
  {
   "cell_type": "code",
   "execution_count": 123,
   "id": "9b094307",
   "metadata": {
    "scrolled": true
   },
   "outputs": [],
   "source": [
    "with open('/Users/przivic/Downloads/quetiene-3acd3a3a2117.json') as f:\n",
    "    credentials = f.read()\n",
    "\n",
    "os.environ['GDRIVE_SECRET'] = credentials"
   ]
  },
  {
   "cell_type": "code",
   "execution_count": 124,
   "id": "a0505ffd",
   "metadata": {},
   "outputs": [],
   "source": [
    "drive_service = setup_gdrive('GDRIVE_SECRET')\n",
    "response = drive_service.files().list().execute()\n",
    "\n",
    "    \n"
   ]
  },
  {
   "cell_type": "code",
   "execution_count": 125,
   "id": "3fabef53",
   "metadata": {},
   "outputs": [
    {
     "data": {
      "text/plain": [
       "[{'kind': 'drive#file',\n",
       "  'mimeType': 'text/plain',\n",
       "  'id': '1s_j644Z1eR4av3X8UJGsj5xvlUsKhFmT',\n",
       "  'name': 'demanda-enre-2024-02-11T12-1078.txt'},\n",
       " {'kind': 'drive#file',\n",
       "  'mimeType': 'text/plain',\n",
       "  'id': '1qUB52EP_sw3l22b3bR44wH8Vnc3NZSIt',\n",
       "  'name': 'demanda-enre-2024-02-11T12-1077.txt'},\n",
       " {'kind': 'drive#file',\n",
       "  'mimeType': 'text/plain',\n",
       "  'id': '1hF8c7gO5JYkJw8oBroBrYuoP4zwb-VCi',\n",
       "  'name': 'cortes-enre-2024-02-11T12.txt'},\n",
       " {'kind': 'drive#file',\n",
       "  'mimeType': 'text/plain',\n",
       "  'id': '1mRndJSlG3jHYjjrRJ3ZuTX1PKr96J4NY',\n",
       "  'name': 'demanda-enre-2024-02-11T11-1078.txt'},\n",
       " {'kind': 'drive#file',\n",
       "  'mimeType': 'text/plain',\n",
       "  'id': '1-x1tdHhvH42Rrs5_aMdZwBkE9la1hak1',\n",
       "  'name': 'demanda-enre-2024-02-11T11-1077.txt'},\n",
       " {'kind': 'drive#file',\n",
       "  'mimeType': 'text/plain',\n",
       "  'id': '1_j0MAbzi0kwQe8jeFeWVfcmfWTEn5w5b',\n",
       "  'name': 'cortes-enre-2024-02-11T11.txt'},\n",
       " {'kind': 'drive#file',\n",
       "  'mimeType': 'text/plain',\n",
       "  'id': '1GXB6yDVwwrw_6GWv_fKdJ3_G7uvckXsl',\n",
       "  'name': 'demanda-enre-2024-02-11T10-1078.txt'},\n",
       " {'kind': 'drive#file',\n",
       "  'mimeType': 'text/plain',\n",
       "  'id': '1dCneWk65Hf-8Idfvoc3GHH49tzMaCUBs',\n",
       "  'name': 'demanda-enre-2024-02-11T10-1077.txt'},\n",
       " {'kind': 'drive#file',\n",
       "  'mimeType': 'text/plain',\n",
       "  'id': '1IAS_2R6ATGezGna48Wt9PenVZttums8D',\n",
       "  'name': 'cortes-enre-2024-02-11T10.txt'},\n",
       " {'kind': 'drive#file',\n",
       "  'mimeType': 'text/plain',\n",
       "  'id': '1RxCJzSkARqiHEH_e13Jert7qCMvgqmIM',\n",
       "  'name': 'demanda-enre-2024-02-11T09-1078.txt'},\n",
       " {'kind': 'drive#file',\n",
       "  'mimeType': 'text/plain',\n",
       "  'id': '1akGhn0vwtsll4tQAsFMR7840IKwBXjiq',\n",
       "  'name': 'demanda-enre-2024-02-11T09-1077.txt'},\n",
       " {'kind': 'drive#file',\n",
       "  'mimeType': 'text/plain',\n",
       "  'id': '1goEmTOpKdV24vtnvlLdnAxlBHa-1jLtP',\n",
       "  'name': 'cortes-enre-2024-02-11T09.txt'},\n",
       " {'kind': 'drive#file',\n",
       "  'mimeType': 'text/plain',\n",
       "  'id': '1wKtIOIWQ1AvxyQ2jXty_mnSc5nmMlo1y',\n",
       "  'name': 'demanda-enre-2024-02-11T08-1078.txt'},\n",
       " {'kind': 'drive#file',\n",
       "  'mimeType': 'text/plain',\n",
       "  'id': '1yQHG1e8ZUfZrXDzXBAuffdPw8yTOCQcv',\n",
       "  'name': 'demanda-enre-2024-02-11T08-1077.txt'},\n",
       " {'kind': 'drive#file',\n",
       "  'mimeType': 'text/plain',\n",
       "  'id': '1PPOuFWOkWcqYjTth2aapDUy24UWQ8waY',\n",
       "  'name': 'cortes-enre-2024-02-11T08.txt'},\n",
       " {'kind': 'drive#file',\n",
       "  'mimeType': 'text/plain',\n",
       "  'id': '1MCXPMaA5KB6y_l5Y6_Ge-g2aCQZ3icg4',\n",
       "  'name': 'demanda-enre-2024-02-11T07-1078.txt'},\n",
       " {'kind': 'drive#file',\n",
       "  'mimeType': 'text/plain',\n",
       "  'id': '1mN-xy8Y2E60GZhc8UDypbELxbUkUa8pT',\n",
       "  'name': 'demanda-enre-2024-02-11T07-1077.txt'},\n",
       " {'kind': 'drive#file',\n",
       "  'mimeType': 'text/plain',\n",
       "  'id': '16aTKyvDYSepCnaxe42aMsT-rfVnZSFGr',\n",
       "  'name': 'cortes-enre-2024-02-11T07.txt'},\n",
       " {'kind': 'drive#file',\n",
       "  'mimeType': 'text/plain',\n",
       "  'id': '1trN1AVgwTr_Lpbc7PxIS-UwP-gtQ3t8F',\n",
       "  'name': 'demanda-enre-2024-02-11T06-1078.txt'},\n",
       " {'kind': 'drive#file',\n",
       "  'mimeType': 'text/plain',\n",
       "  'id': '1nK_IoJKIw3EstGv2pN94SlFKEgCiVlmO',\n",
       "  'name': 'demanda-enre-2024-02-11T06-1077.txt'},\n",
       " {'kind': 'drive#file',\n",
       "  'mimeType': 'text/plain',\n",
       "  'id': '1xcF7C53q7z8UR45o3uqqF2Sh2c5JhHE9',\n",
       "  'name': 'cortes-enre-2024-02-11T06.txt'},\n",
       " {'kind': 'drive#file',\n",
       "  'mimeType': 'text/plain',\n",
       "  'id': '1jjbPh1Xv1Dps57O8hKl8ViGL_sfPDFGs',\n",
       "  'name': 'demanda-enre-2024-02-11T05-1078.txt'},\n",
       " {'kind': 'drive#file',\n",
       "  'mimeType': 'text/plain',\n",
       "  'id': '1he2cBTAhVyf0pF_papdpL5TfhfmsEoZu',\n",
       "  'name': 'demanda-enre-2024-02-11T05-1077.txt'},\n",
       " {'kind': 'drive#file',\n",
       "  'mimeType': 'text/plain',\n",
       "  'id': '1uy32aUxEY2kWFzVtgq-bxR_qu81yBbDa',\n",
       "  'name': 'cortes-enre-2024-02-11T05.txt'},\n",
       " {'kind': 'drive#file',\n",
       "  'mimeType': 'text/plain',\n",
       "  'id': '1gtIM4zKrPMI-mxlEGDoZD8WM1c8oOGPL',\n",
       "  'name': 'demanda-enre-2024-02-11T04-1078.txt'},\n",
       " {'kind': 'drive#file',\n",
       "  'mimeType': 'text/plain',\n",
       "  'id': '1wVLhFxqibPbjNVOsqD1MJHfegszAGnP6',\n",
       "  'name': 'demanda-enre-2024-02-11T04-1077.txt'},\n",
       " {'kind': 'drive#file',\n",
       "  'mimeType': 'text/plain',\n",
       "  'id': '1tqkaBP6Vk8xfGVppbLKCFJgBAtJbrUKY',\n",
       "  'name': 'cortes-enre-2024-02-11T04.txt'},\n",
       " {'kind': 'drive#file',\n",
       "  'mimeType': 'text/plain',\n",
       "  'id': '1-V0SGP3zohD_nKFq9aiV0wnxZAdwgGgN',\n",
       "  'name': 'demanda-enre-2024-02-11T03-1078.txt'},\n",
       " {'kind': 'drive#file',\n",
       "  'mimeType': 'text/plain',\n",
       "  'id': '17pC1HCTH80S_wQ-29NWLGUehDtt8mDNN',\n",
       "  'name': 'demanda-enre-2024-02-11T03-1077.txt'},\n",
       " {'kind': 'drive#file',\n",
       "  'mimeType': 'text/plain',\n",
       "  'id': '1JNyMUkfghnYNM14K4_O3TiWiv_29e5oR',\n",
       "  'name': 'cortes-enre-2024-02-11T03.txt'},\n",
       " {'kind': 'drive#file',\n",
       "  'mimeType': 'text/plain',\n",
       "  'id': '1JahXu9CYuwclEyKZ3Xkl3KX3_lizB0Xv',\n",
       "  'name': 'demanda-enre-2024-02-11T02-1078.txt'},\n",
       " {'kind': 'drive#file',\n",
       "  'mimeType': 'text/plain',\n",
       "  'id': '1AiUJFJ071dVJn-3LJE5mxydtkII8bb66',\n",
       "  'name': 'demanda-enre-2024-02-11T02-1077.txt'},\n",
       " {'kind': 'drive#file',\n",
       "  'mimeType': 'text/plain',\n",
       "  'id': '19p0pHULp0QRujSIVjJu0M_I5DjxzZjct',\n",
       "  'name': 'cortes-enre-2024-02-11T02.txt'},\n",
       " {'kind': 'drive#file',\n",
       "  'mimeType': 'text/plain',\n",
       "  'id': '1mRPdfOB7yxJ1jHBx1XmeXsr_dCBe1ihJ',\n",
       "  'name': 'demanda-enre-2024-02-11T01-1078.txt'},\n",
       " {'kind': 'drive#file',\n",
       "  'mimeType': 'text/plain',\n",
       "  'id': '1ls8SCIgikH_CZp6Eh6sYS_WHcLoszGLu',\n",
       "  'name': 'demanda-enre-2024-02-11T01-1077.txt'},\n",
       " {'kind': 'drive#file',\n",
       "  'mimeType': 'text/plain',\n",
       "  'id': '1oWFgqaeFgRmPYix8V3X5Aw8XiWMnIwk_',\n",
       "  'name': 'cortes-enre-2024-02-11T01.txt'},\n",
       " {'kind': 'drive#file',\n",
       "  'mimeType': 'text/plain',\n",
       "  'id': '1zOOKKJkXiPVVGFBGgEd5S4KOGZy7FIcq',\n",
       "  'name': 'demanda-enre-2024-02-11T01-1078.txt'},\n",
       " {'kind': 'drive#file',\n",
       "  'mimeType': 'text/plain',\n",
       "  'id': '1G0CwzRcz0Bzb1qYaq9pwbflVKEcfhrnq',\n",
       "  'name': 'demanda-enre-2024-02-11T01-1077.txt'},\n",
       " {'kind': 'drive#file',\n",
       "  'mimeType': 'text/plain',\n",
       "  'id': '1QHorQ_ihnB2dXwRr9YWGbKoJzYFb23qN',\n",
       "  'name': 'cortes-enre-2024-02-11T01.txt'},\n",
       " {'kind': 'drive#file',\n",
       "  'mimeType': 'text/plain',\n",
       "  'id': '12MJzXooKZ5gYvBlhn7W8mzoB0kzvs9Uh',\n",
       "  'name': 'demanda-enre-2024-02-11T01-1078.txt'},\n",
       " {'kind': 'drive#file',\n",
       "  'mimeType': 'text/plain',\n",
       "  'id': '1UdcqJgSx7zil_8eXUP0P6k5kpL0L-NQG',\n",
       "  'name': 'demanda-enre-2024-02-11T01-1077.txt'},\n",
       " {'kind': 'drive#file',\n",
       "  'mimeType': 'text/plain',\n",
       "  'id': '1VvQvKv-EIvOYCCIGZYiehenqyPJ4brqn',\n",
       "  'name': 'cortes-enre-2024-02-11T01.txt'}]"
      ]
     },
     "execution_count": 125,
     "metadata": {},
     "output_type": "execute_result"
    }
   ],
   "source": [
    "response = drive_service.files().list().execute()\n",
    "files = response['files']\n",
    "files"
   ]
  },
  {
   "cell_type": "code",
   "execution_count": 126,
   "id": "45643d94",
   "metadata": {},
   "outputs": [
    {
     "name": "stdout",
     "output_type": "stream",
     "text": [
      "Download 100%. 1s_j644Z1eR4av3X8UJGsj5xvlUsKhFmT\n",
      "Download 100%. 1qUB52EP_sw3l22b3bR44wH8Vnc3NZSIt\n",
      "Download 100%. 1hF8c7gO5JYkJw8oBroBrYuoP4zwb-VCi\n",
      "Download 100%. 1mRndJSlG3jHYjjrRJ3ZuTX1PKr96J4NY\n",
      "Download 100%. 1-x1tdHhvH42Rrs5_aMdZwBkE9la1hak1\n",
      "Download 100%. 1_j0MAbzi0kwQe8jeFeWVfcmfWTEn5w5b\n",
      "Download 100%. 1GXB6yDVwwrw_6GWv_fKdJ3_G7uvckXsl\n",
      "Download 100%. 1dCneWk65Hf-8Idfvoc3GHH49tzMaCUBs\n",
      "Download 100%. 1IAS_2R6ATGezGna48Wt9PenVZttums8D\n",
      "Download 100%. 1RxCJzSkARqiHEH_e13Jert7qCMvgqmIM\n",
      "Download 100%. 1akGhn0vwtsll4tQAsFMR7840IKwBXjiq\n",
      "Download 100%. 1goEmTOpKdV24vtnvlLdnAxlBHa-1jLtP\n",
      "Download 100%. 1wKtIOIWQ1AvxyQ2jXty_mnSc5nmMlo1y\n",
      "Download 100%. 1yQHG1e8ZUfZrXDzXBAuffdPw8yTOCQcv\n",
      "Download 100%. 1PPOuFWOkWcqYjTth2aapDUy24UWQ8waY\n",
      "Download 100%. 1MCXPMaA5KB6y_l5Y6_Ge-g2aCQZ3icg4\n",
      "Download 100%. 1mN-xy8Y2E60GZhc8UDypbELxbUkUa8pT\n",
      "Download 100%. 16aTKyvDYSepCnaxe42aMsT-rfVnZSFGr\n",
      "Download 100%. 1trN1AVgwTr_Lpbc7PxIS-UwP-gtQ3t8F\n",
      "Download 100%. 1nK_IoJKIw3EstGv2pN94SlFKEgCiVlmO\n",
      "Download 100%. 1xcF7C53q7z8UR45o3uqqF2Sh2c5JhHE9\n",
      "Download 100%. 1jjbPh1Xv1Dps57O8hKl8ViGL_sfPDFGs\n",
      "Download 100%. 1he2cBTAhVyf0pF_papdpL5TfhfmsEoZu\n",
      "Download 100%. 1uy32aUxEY2kWFzVtgq-bxR_qu81yBbDa\n",
      "Download 100%. 1gtIM4zKrPMI-mxlEGDoZD8WM1c8oOGPL\n",
      "Download 100%. 1wVLhFxqibPbjNVOsqD1MJHfegszAGnP6\n",
      "Download 100%. 1tqkaBP6Vk8xfGVppbLKCFJgBAtJbrUKY\n",
      "Download 100%. 1-V0SGP3zohD_nKFq9aiV0wnxZAdwgGgN\n",
      "Download 100%. 17pC1HCTH80S_wQ-29NWLGUehDtt8mDNN\n",
      "Download 100%. 1JNyMUkfghnYNM14K4_O3TiWiv_29e5oR\n",
      "Download 100%. 1JahXu9CYuwclEyKZ3Xkl3KX3_lizB0Xv\n",
      "Download 100%. 1AiUJFJ071dVJn-3LJE5mxydtkII8bb66\n",
      "Download 100%. 19p0pHULp0QRujSIVjJu0M_I5DjxzZjct\n",
      "Download 100%. 1mRPdfOB7yxJ1jHBx1XmeXsr_dCBe1ihJ\n",
      "Download 100%. 1ls8SCIgikH_CZp6Eh6sYS_WHcLoszGLu\n",
      "Download 100%. 1oWFgqaeFgRmPYix8V3X5Aw8XiWMnIwk_\n",
      "Download 100%. 1zOOKKJkXiPVVGFBGgEd5S4KOGZy7FIcq\n",
      "Download 100%. 1G0CwzRcz0Bzb1qYaq9pwbflVKEcfhrnq\n",
      "Download 100%. 1QHorQ_ihnB2dXwRr9YWGbKoJzYFb23qN\n",
      "Download 100%. 12MJzXooKZ5gYvBlhn7W8mzoB0kzvs9Uh\n",
      "Download 100%. 1UdcqJgSx7zil_8eXUP0P6k5kpL0L-NQG\n",
      "Download 100%. 1VvQvKv-EIvOYCCIGZYiehenqyPJ4brqn\n"
     ]
    }
   ],
   "source": [
    "import os\n",
    "\n",
    "if not os.path.exists('data'): os.makedirs('data')\n",
    "\n",
    "for file in files:\n",
    "    file_id = file['id']\n",
    "    request = drive_service.files().get_media(fileId=file_id)\n",
    "    fh = io.BytesIO()\n",
    "    with open('data/' + file['name'], 'wb') as fh:\n",
    "        downloader = MediaIoBaseDownload(fh, request)\n",
    "        done = False\n",
    "        while not done:\n",
    "            status, done = downloader.next_chunk()\n",
    "            print(f\"Download {int(status.progress() * 100)}%. {file_id}\")"
   ]
  },
  {
   "cell_type": "code",
   "execution_count": 18,
   "id": "98e51944",
   "metadata": {},
   "outputs": [],
   "source": [
    "import json\n",
    "import re\n",
    "import os\n",
    "\n",
    "def parse_fname_date(fname):\n",
    "    date_pat = re.compile('(\\d{4}-\\d{2}-\\d{2}T\\d{2})')\n",
    "    return datetime.strptime(date_pat.search(fname).group(0), '%Y-%m-%dT%H')\n",
    "\n",
    "def parse_cortes(fname):\n",
    "    with open(fname) as f:\n",
    "        contents = f.read()\n",
    "\n",
    "    var_pat = re.compile('addressPoints_Cuadro_D.*?=.*?(?P<lista>.*?);')\n",
    "    lista = var_pat.search(contents).groupdict()['lista'].strip()[1:-1].strip()\n",
    "\n",
    "    corte_pat = re.compile('(\\[.*?\\])')\n",
    "    cortes = []\n",
    "    fname_date = parse_fname_date(fname)\n",
    "    keys = ['latitud', 'longitud', 'misc', 'descr']\n",
    "    for corte_match in corte_pat.finditer(lista):\n",
    "        corte = json.loads(corte_match.group(0))\n",
    "        corte = dict(zip(keys, corte))\n",
    "        \n",
    "        lines = corte['descr'].split(',')\n",
    "        descr_dict = {'tipo': lines[0], 'empresa': lines[1].strip()}\n",
    "        for line in lines[2:]:\n",
    "            colon_pos = line.find(':')\n",
    "            k = line[:colon_pos]\n",
    "            v = line[colon_pos:]\n",
    "            descr_dict[k.strip().lower()] = v.strip()\n",
    "\n",
    "        corte.update(descr_dict)\n",
    "        corte['date_hour'] = fname_date\n",
    "\n",
    "        cortes.append(corte)\n",
    "        \n",
    "    return cortes"
   ]
  },
  {
   "cell_type": "code",
   "execution_count": 54,
   "id": "37e497df",
   "metadata": {},
   "outputs": [],
   "source": [
    "def parse_demanda(fname):\n",
    "    region = int(fname.split('-')[-1].split('.')[0])\n",
    "    with open(fname) as f:\n",
    "        res = json.load(f)\n",
    "        for doc in res:\n",
    "            doc['region'] = region\n",
    "    return res"
   ]
  },
  {
   "cell_type": "code",
   "execution_count": 41,
   "id": "0aee52b7",
   "metadata": {},
   "outputs": [],
   "source": [
    "fname = 'data/' + os.listdir('data')[1]"
   ]
  },
  {
   "cell_type": "code",
   "execution_count": 42,
   "id": "8a3c6a5d",
   "metadata": {},
   "outputs": [
    {
     "data": {
      "text/plain": [
       "'data/demanda-enre-2024-02-11T07-1077.txt'"
      ]
     },
     "execution_count": 42,
     "metadata": {},
     "output_type": "execute_result"
    }
   ],
   "source": [
    "fname"
   ]
  },
  {
   "cell_type": "code",
   "execution_count": 55,
   "id": "5061a839",
   "metadata": {},
   "outputs": [],
   "source": [
    "cortes = []\n",
    "demanda = []\n",
    "\n",
    "for fname in os.listdir('data'):\n",
    "    if fname.startswith('cortes'):\n",
    "        parsing_func = parse_cortes\n",
    "        output_list = cortes\n",
    "    else:\n",
    "        parsing_func = parse_demanda\n",
    "        output_list = demanda\n",
    "        \n",
    "    fname = 'data/' + fname\n",
    "    output_list.extend(parsing_func(fname))\n",
    "    "
   ]
  },
  {
   "cell_type": "code",
   "execution_count": 56,
   "id": "f1f78be9",
   "metadata": {},
   "outputs": [],
   "source": [
    "for doc in demanda:\n",
    "    doc['fecha'] = datetime.strptime(doc['fecha'][:19], '%Y-%m-%dT%H:%M:%S')"
   ]
  },
  {
   "cell_type": "code",
   "execution_count": 57,
   "id": "e7c6b27b",
   "metadata": {},
   "outputs": [],
   "source": [
    "import pandas as pd\n",
    "\n",
    "demanda_df = pd.DataFrame(demanda)"
   ]
  },
  {
   "cell_type": "code",
   "execution_count": 73,
   "id": "b187ebc9",
   "metadata": {},
   "outputs": [],
   "source": [
    "demanda_df.drop_duplicates(subset=['fecha', 'region'], inplace=True)"
   ]
  },
  {
   "cell_type": "code",
   "execution_count": 74,
   "id": "088d0577",
   "metadata": {},
   "outputs": [
    {
     "data": {
      "text/plain": [
       "578"
      ]
     },
     "execution_count": 74,
     "metadata": {},
     "output_type": "execute_result"
    }
   ],
   "source": [
    "len(demanda_df)"
   ]
  },
  {
   "cell_type": "code",
   "execution_count": 80,
   "id": "2f84cd0a",
   "metadata": {},
   "outputs": [
    {
     "data": {
      "text/plain": [
       "<matplotlib.legend.Legend at 0x7fafd1bae5b0>"
      ]
     },
     "execution_count": 80,
     "metadata": {},
     "output_type": "execute_result"
    },
    {
     "data": {
      "image/png": "[encoded data removed]",
      "text/plain": [
       "<Figure size 432x288 with 1 Axes>"
      ]
     },
     "metadata": {
      "needs_background": "light"
     },
     "output_type": "display_data"
    }
   ],
   "source": [
    "import matplotlib.pyplot as plt\n",
    "\n",
    "for region in demanda_df.region.unique():\n",
    "    demanda_df[demanda_df.region==region].set_index('fecha').demHoy.plot(label=str(region))\n",
    "    \n",
    "plt.legend(loc='best')"
   ]
  },
  {
   "cell_type": "code",
   "execution_count": 82,
   "id": "843418d8",
   "metadata": {},
   "outputs": [],
   "source": [
    "cortes_df = pd.DataFrame(cortes)"
   ]
  },
  {
   "cell_type": "code",
   "execution_count": null,
   "id": "f769939d",
   "metadata": {},
   "outputs": [],
   "source": []
  }
 ],
 "metadata": {
  "kernelspec": {
   "display_name": "Python 3 (ipykernel)",
   "language": "python",
   "name": "python3"
  },
  "language_info": {
   "codemirror_mode": {
    "name": "ipython",
    "version": 3
   },
   "file_extension": ".py",
   "mimetype": "text/x-python",
   "name": "python",
   "nbconvert_exporter": "python",
   "pygments_lexer": "ipython3",
   "version": "3.9.12"
  }
 },
 "nbformat": 4,
 "nbformat_minor": 5
}
