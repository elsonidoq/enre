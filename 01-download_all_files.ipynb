{
 "cells": [
  {
   "cell_type": "code",
   "execution_count": 1,
   "id": "fb548201",
   "metadata": {},
   "outputs": [],
   "source": [
    "import requests\n",
    "from datetime import datetime\n",
    "\n",
    "import os\n",
    "from apiclient.http import MediaFileUpload, MediaIoBaseDownload\n",
    "from google.oauth2 import service_account\n",
    "from googleapiclient.discovery import build\n",
    "\n",
    "def setup_gdrive(credentials_secret):\n",
    "    with open('credentials.json', 'w') as f:\n",
    "        f.write(os.environ[credentials_secret])\n",
    "        \n",
    "    # Load the credentials from the JSON key file\n",
    "    credentials = service_account.Credentials.from_service_account_file(\n",
    "        'credentials.json',\n",
    "        scopes=['https://www.googleapis.com/auth/drive']\n",
    "    )\n",
    "\n",
    "    drive_service = build('drive', 'v3', credentials=credentials)\n",
    "    return drive_service\n",
    "\n"
   ]
  },
  {
   "cell_type": "code",
   "execution_count": 5,
   "id": "14622f0e",
   "metadata": {
    "scrolled": true
   },
   "outputs": [],
   "source": [
    "with open('enre-414003-3724f64a117f.json') as f:\n",
    "    credentials = f.read()\n",
    "\n",
    "os.environ['GDRIVE_SECRET'] = credentials"
   ]
  },
  {
   "cell_type": "code",
   "execution_count": 8,
   "id": "71258477",
   "metadata": {},
   "outputs": [],
   "source": [
    "drive_service = setup_gdrive('GDRIVE_SECRET')"
   ]
  },
  {
   "cell_type": "code",
   "execution_count": 18,
   "id": "e2a2ee45",
   "metadata": {},
   "outputs": [],
   "source": [
    "import os\n",
    "\n",
    "def download_file(file, path, skip_existing=False):\n",
    "    file_id = file['id']\n",
    "    request = drive_service.files().get_media(fileId=file_id)\n",
    "    if skip_existing and os.path.exists(os.path.join(path, file['name'])):\n",
    "        print('\\t skipping')\n",
    "        return\n",
    "    \n",
    "    with open(os.path.join(path, file['name']), 'wb') as fh:\n",
    "        downloader = MediaIoBaseDownload(fh, request)\n",
    "        done = False\n",
    "        while not done:\n",
    "            status, done = downloader.next_chunk()\n",
    "            print(f\"Download {int(status.progress() * 100)}%. {file_id}\")"
   ]
  },
  {
   "cell_type": "code",
   "execution_count": 19,
   "id": "48adda3e",
   "metadata": {},
   "outputs": [],
   "source": [
    "def download_all_files(path, skip_existing):\n",
    "    response = drive_service.files().list().execute()\n",
    "    \n",
    "    files = response['files']\n",
    "    page_no = 1\n",
    "    while response.get('nextPageToken'):\n",
    "        print('Downloading page', page_no)\n",
    "        for file in files:\n",
    "            download_file(file, path, skip_existing=skip_existing)\n",
    "        \n",
    "        response = drive_service.files().list(pageToken=response['nextPageToken']).execute()\n",
    "        files = response['files']\n",
    "\n",
    "    print('Finished Downloading')"
   ]
  },
  {
   "cell_type": "code",
   "execution_count": null,
   "id": "b938cab6",
   "metadata": {},
   "outputs": [
    {
     "name": "stdout",
     "output_type": "stream",
     "text": [
      "Downloading page 1\n",
      "\t skipping\n",
      "\t skipping\n",
      "\t skipping\n",
      "\t skipping\n",
      "\t skipping\n",
      "\t skipping\n",
      "\t skipping\n",
      "\t skipping\n",
      "\t skipping\n",
      "\t skipping\n",
      "\t skipping\n",
      "\t skipping\n",
      "\t skipping\n",
      "\t skipping\n",
      "\t skipping\n",
      "\t skipping\n",
      "\t skipping\n",
      "\t skipping\n",
      "\t skipping\n",
      "\t skipping\n",
      "\t skipping\n",
      "\t skipping\n",
      "\t skipping\n",
      "\t skipping\n",
      "\t skipping\n",
      "\t skipping\n",
      "\t skipping\n",
      "\t skipping\n",
      "\t skipping\n",
      "\t skipping\n",
      "\t skipping\n",
      "\t skipping\n",
      "\t skipping\n",
      "\t skipping\n",
      "\t skipping\n",
      "\t skipping\n",
      "\t skipping\n",
      "\t skipping\n",
      "\t skipping\n",
      "\t skipping\n",
      "\t skipping\n",
      "\t skipping\n",
      "\t skipping\n",
      "\t skipping\n",
      "\t skipping\n",
      "Download 100%. 1i3mXETF1-ahVd_YaCkv7RxL62JFJ6ZOa\n",
      "Download 100%. 1zCYyr9ZOYssnGVS7GlMgVrhixOk43u09\n",
      "Download 100%. 1IOlLXOd_5Be_EOb1UZhuNYRvyiXwskQW\n",
      "Download 100%. 1OOV1dmYhUXJInwLMzFQ7Ev8KgXH5gOeI\n",
      "Download 100%. 1kTfltcc21qV3ZMJSi3PP5bcA4P7pZE1B\n",
      "Download 100%. 1FlwaWSITvVbkHHus7xZZC4szXeTVBJDI\n",
      "Download 100%. 1M2M0ixzyqb-jHyURQhax7-wEBYC-1ej3\n",
      "Download 100%. 1p8kIlewkyP41PMOj-ucahzYm2wF4miGL\n",
      "Download 100%. 1noH60IfeO02_loA-0S2nfE24Tpb-iuR8\n",
      "Download 100%. 1QRywP8zoStHVolJgLE0aGiXfmuip-tFL\n",
      "Download 100%. 1GKQ3BOrN14uJFHKM81_6wNXEOvqqkv2R\n",
      "Download 100%. 1Q-uACVZKEPIJwJ-hd27wx3kaHTkHNbnj\n",
      "Download 100%. 1yzZojFnSzh2uNzw_Y-9ditS6Ixdb5LHc\n",
      "Download 100%. 1ILEnM-IXZBwGnVl-c6sFGf4FcVuFSaN4\n",
      "Download 100%. 14zltaq59T99povSYrgQ2vBBD77-PSpdz\n"
     ]
    }
   ],
   "source": [
    "import os\n",
    "\n",
    "if not os.path.exists('data'): os.makedirs('data')\n",
    "    \n",
    "download_all_files('data', skip_existing=True)"
   ]
  }
 ],
 "metadata": {
  "kernelspec": {
   "display_name": "Python 3 (ipykernel)",
   "language": "python",
   "name": "python3"
  },
  "language_info": {
   "codemirror_mode": {
    "name": "ipython",
    "version": 3
   },
   "file_extension": ".py",
   "mimetype": "text/x-python",
   "name": "python",
   "nbconvert_exporter": "python",
   "pygments_lexer": "ipython3",
   "version": "3.9.12"
  }
 },
 "nbformat": 4,
 "nbformat_minor": 5
}
