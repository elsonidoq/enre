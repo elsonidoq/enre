{
 "cells": [
  {
   "cell_type": "code",
   "execution_count": 1,
   "id": "30e33f81",
   "metadata": {},
   "outputs": [],
   "source": [
    "import requests\n",
    "from datetime import datetime\n",
    "\n",
    "import os\n",
    "from apiclient.http import MediaFileUpload, MediaIoBaseDownload\n",
    "from google.oauth2 import service_account\n",
    "from googleapiclient.discovery import build\n",
    "\n",
    "def setup_gdrive(credentials_secret):\n",
    "    with open('credentials.json', 'w') as f:\n",
    "        f.write(os.environ[credentials_secret])\n",
    "        \n",
    "    # Load the credentials from the JSON key file\n",
    "    credentials = service_account.Credentials.from_service_account_file(\n",
    "        'credentials.json',\n",
    "        scopes=['https://www.googleapis.com/auth/drive']\n",
    "    )\n",
    "\n",
    "    drive_service = build('drive', 'v3', credentials=credentials)\n",
    "    return drive_service\n",
    "\n"
   ]
  },
  {
   "cell_type": "code",
   "execution_count": 2,
   "id": "a23f7ec6",
   "metadata": {},
   "outputs": [],
   "source": [
    "with open('/Users/przivic/Downloads/quetiene-3acd3a3a2117.json') as f:\n",
    "    credentials = f.read()\n",
    "\n",
    "os.environ['GDRIVE_SECRET'] = credentials"
   ]
  },
  {
   "cell_type": "code",
   "execution_count": 3,
   "id": "1cbb7c5b",
   "metadata": {},
   "outputs": [],
   "source": [
    "with open('/Users/przivic/Downloads/enre-414003-3724f64a117f.json') as f:\n",
    "    credentials = f.read()\n",
    "\n",
    "os.environ['NEW_PROD_GDRIVE_SECRET'] = credentials"
   ]
  },
  {
   "cell_type": "code",
   "execution_count": 4,
   "id": "7a84988c",
   "metadata": {},
   "outputs": [],
   "source": [
    "prod_drive_service = setup_gdrive('GDRIVE_SECRET')\n",
    "new_prod_drive_service = setup_gdrive('NEW_PROD_GDRIVE_SECRET')"
   ]
  },
  {
   "cell_type": "code",
   "execution_count": 10,
   "id": "c707ea64",
   "metadata": {},
   "outputs": [],
   "source": [
    "a = prod_drive_service.files()\n",
    "a.list?"
   ]
  },
  {
   "cell_type": "code",
   "execution_count": 20,
   "id": "21214922",
   "metadata": {},
   "outputs": [],
   "source": [
    "a = prod_drive_service.files()"
   ]
  },
  {
   "cell_type": "code",
   "execution_count": 23,
   "id": "cc3ba9b3",
   "metadata": {},
   "outputs": [
    {
     "name": "stdout",
     "output_type": "stream",
     "text": [
      "a\n",
      "a\n"
     ]
    }
   ],
   "source": [
    "all_files = []\n",
    "page_token = None\n",
    "while True:\n",
    "    print('a')\n",
    "    response = prod_drive_service.files().list(pageToken=page_token).execute()\n",
    "    all_files.extend(response['files'])\n",
    "    if 'nextPageToken' not in response: break\n",
    "    page_token = response['nextPageToken']"
   ]
  },
  {
   "cell_type": "code",
   "execution_count": 27,
   "id": "eb5d622d",
   "metadata": {},
   "outputs": [],
   "source": [
    "import re\n",
    "\n",
    "def parse_fname_date(fname):\n",
    "    date_pat = re.compile('(\\d{4}-\\d{2}-\\d{2}T\\d{2})')\n",
    "    return datetime.strptime(date_pat.search(fname).group(0), '%Y-%m-%dT%H')\n",
    "\n",
    "\n",
    "from collections import Counter\n",
    "\n",
    "cnt = Counter()\n",
    "for file in all_files:\n",
    "    cnt[parse_fname_date(file['name'])] += 1"
   ]
  },
  {
   "cell_type": "code",
   "execution_count": 32,
   "id": "6a8c0f27",
   "metadata": {},
   "outputs": [
    {
     "name": "stdout",
     "output_type": "stream",
     "text": [
      "Download 100%. 1rU_Ww15J-1X44F3dl4B0SXNqIM1NO2cs\n",
      "Download 100%. 1UjdL2oQJ20Tt5bKuiJzvFbN1XL7kAfEr\n",
      "Download 100%. 1Kpy0aZQ7DZzZWoApL3MwC9OpCcswlWzD\n",
      "Download 100%. 1Y7m_NQdbhF2A_EnTHpM3VTELwODwUymU\n",
      "Download 100%. 1oPUa6wsV2hteX0Q93jCGtudvd47XHy3m\n",
      "Download 100%. 1lXsN8Z4kCSu-piUyaLY8X9w_QC738l5J\n",
      "Download 100%. 1LuZa5X-QLq7nlKLCzCfp2qFFlSSscB3W\n",
      "Download 100%. 1aETljUHlgyGa_wClNq50xPME4c9JB6PC\n",
      "Download 100%. 1f6zoBozwrAMaHvwiU1hKH4gWFxko20ai\n",
      "Download 100%. 1nORJMayorKQ9eImklmHfuI0d8MwLW8aQ\n",
      "Download 100%. 1sOObJdSwvHVzbPuY33MbEpHarIC9hcGH\n",
      "Download 100%. 1toFkwowvYoYhW6J098ywRYiZiN86c1VJ\n",
      "Download 100%. 1XcZyoumH0WZP-VaODfhJcUK3yvRAx8uO\n",
      "Download 100%. 16l4DN02Qx6AUIpa2y6iy95XyTzA7vdBy\n",
      "Download 100%. 1YS6DuwdQgtW6liknpyGWrI3NdIvSA281\n",
      "Download 100%. 1LjGzzpHXgvXjkNzrv4fjggaJsjOb_RD2\n",
      "Download 100%. 1NM9fucAKFdYvQPspmy92FIdMeN3B5YQ3\n",
      "Download 100%. 1khDqkdNVJKP8TJGtHUYF4JfYvzJ156rl\n",
      "Download 100%. 15wIm33tDCjiqXEkNzuSZJWgQJyCuA43U\n",
      "Download 100%. 1Y7wo4_vNQQN-TWswKH27eS4-juRFeNiw\n",
      "Download 100%. 1AroS6atWbiJKXb2-fLRRtgUUD3B45pTb\n",
      "Download 100%. 1vIGWokcrF-016ohvVvH5jTmX6Az_R-I-\n",
      "Download 100%. 1oFzbpm6q1aiwz4MdQR--uswubHzWl3aR\n",
      "Download 100%. 13zD2_QUNqOKwnuFUsOMZe3ict1JuAPNi\n",
      "Download 100%. 1tbb4WkjiGAFNTiC-YKFeHlIJDfDlLfpt\n",
      "Download 100%. 1tstkC_GgUVUIrG9duMfK3MK-Olj87tv9\n",
      "Download 100%. 1Ucash3Eib5fYJfKUjFzpwDZ8DmMBFJMz\n",
      "Download 100%. 1mvI1956j6xGwiLmIOJ9YfNHaNXN3Ff_J\n",
      "Download 100%. 1nGL_u6hQr3sQ7qChCGlaZ8miCsnXD2-D\n",
      "Download 100%. 1AOLKLi_oErx3ZkrlrDyjLyJmgMJfkKkj\n",
      "Download 100%. 1N3m_WTPvObzgF05fokOYceinw0AiU_Mp\n",
      "Download 100%. 1h3ap2NqpGeTBcDUHIEW-QcnYef7iUcBe\n",
      "Download 100%. 1kb_HceX933-k5L3Ij-dIYwlLWa-97dUK\n",
      "Download 100%. 1y6Kd0DBsAOTMt8nl6OcZfCA09nzoMUVk\n",
      "Download 100%. 1szG7D5a2umaJfTBk43EbztF7gwG3YkUd\n",
      "Download 100%. 1uC8KbcDi3BLdLSmfyQYJAwaDzMAz2KPb\n",
      "Download 100%. 1EfvJi8MaYhNoCpGY6w_S9XadjGoPrOE3\n",
      "Download 100%. 1GCud_LxEooD5bDFbzD6kwZ_ibEBWQl53\n",
      "Download 100%. 14a1YNVUdRrWpmER8KfPF9XN-9kZPAgOJ\n",
      "Download 100%. 1NGAtR_wDiyd5wYUyJH4pK9NSYcTkUtf9\n",
      "Download 100%. 1w4Z0RkW0AkaTtP5EOP1sz8G12rL-xEVx\n",
      "Download 100%. 1bUyRKN-_2eB_jGNw6b_MtKUy7aE5aVJo\n",
      "Download 100%. 1IFGPhvNQ9LLdrxoMv6nGqfz6XU1eGe42\n",
      "Download 100%. 1qXPHWQW3k4ukn7eNHkwi8YRH_46khOmG\n",
      "Download 100%. 1-WU0XTQ2v1ERYACK-QtmHvRpVe6_91Ee\n",
      "Download 100%. 1jJto568w2Qq6g4j5f1aClyDueKI0dMVm\n",
      "Download 100%. 1iB1ogysB-u0buu1MGLA-VfmcC4E4hY3D\n",
      "Download 100%. 1smAu-ggUiqGabtll64mkX5XrYGt1kBzu\n",
      "Download 100%. 1pSqIYChU7K71oohxPu4lgWJF9_rtxuUT\n",
      "Download 100%. 1tJ_sPl44IVb9UQrWknvO7AxkGuQrjLW8\n",
      "Download 100%. 1e0QpbyMlMcO5iMFBmcvHvbp5Gt2Bo-le\n",
      "Download 100%. 181y2oOXirLA9Whqc3ifKAqeYzhVoYipq\n",
      "Download 100%. 1yeTIcG980Bp64u5MCN-FimfYyzV_9ai9\n",
      "Download 100%. 1dvM367o45yZUriiTWKi_YHBOCwA0wHW0\n",
      "Download 100%. 1kNRCMI3Mkp_GVKiP4CM4dl0REGHYdGJZ\n",
      "Download 100%. 1nYDiYvGiydNVuRkNui4Ot6EWsjEe24Yf\n",
      "Download 100%. 1fQD4hhVhzAgHEYNwhVse4ifRvLm9giku\n",
      "Download 100%. 1i-4FAm0eGAb0O7EEtiWU4rfGCCvwVBDp\n",
      "Download 100%. 15Q_c3GSRaEhRKcP6hhL-7hkPLdShDrIJ\n",
      "Download 100%. 1XedYQNDNCNZJ93_SeXRtQJ95LbVumfVv\n",
      "Download 100%. 1AkCt2egRGF6tJdrRisR5vM3uM24HTXfh\n",
      "Download 100%. 1nJPn6hV_GKrHXzptkEQTQ955OX2gswfO\n",
      "Download 100%. 1J9RdGZUUKPERGHmOGeqyKJezMzX5BUt8\n",
      "Download 100%. 1CDwumZuRjR-ijhJ8bJIpL055qgbSNiR1\n",
      "Download 100%. 1p-0rS_IzzOoiQy3XQ-tcKHAI32K6G_1O\n",
      "Download 100%. 1z1pDPlQFctkgyDdr41M3tPNRQ9GV-hGF\n",
      "Download 100%. 1FVIKJWs4BgX3q0poc7pqC345T_y9uOLd\n",
      "Download 100%. 1_60j5exeKVP4SQL2VU-P85rHvWDWF1uE\n",
      "Download 100%. 1fLYkWCxuGVGwVMrrbd5wiIC1QZ-2R3kb\n",
      "Download 100%. 1W_dignvd1PkqPTTRXVERxk7wxNlvpYHq\n",
      "Download 100%. 1Gq2NBQtDP2eukoN9u_tmK40dAKcHkwjW\n",
      "Download 100%. 18j11Eor9jcSOMt5ZKRBGIf0RAAe4JpHY\n",
      "Download 100%. 1NSD18dAYlK31wRX6KgJjK2Zj1qVcGYIb\n",
      "Download 100%. 1CYl0c3a_YQj1olY85zRvwEkLINwP1IcS\n",
      "Download 100%. 19Ys4RjVN3QlV6r9XUJarS0XWidWhBTkB\n",
      "Download 100%. 1FKQ8NQ_qO7tF8HeR5FEvWPfj8RrlUMgP\n",
      "Download 100%. 1qj7-kbh9tt_tqCCi_3ozJfvPZ-TRf46C\n",
      "Download 100%. 1dAuxYLSMO-xih0tYIl80dxeCjclktrQC\n",
      "Download 100%. 1bRg8m4Y9tZHJiuWSNurAssaHSk_tREyK\n",
      "Download 100%. 1KO586xv_cLMep4K-YAoE0RpbwI-9xj8v\n",
      "Download 100%. 1O2I-6M6fZxJpQqlv-Nnsqg_JTklhfhFf\n",
      "Download 100%. 1XWfukbOas-ZMqtekenj_nA6WQLRGa_gp\n",
      "Download 100%. 1U9WNp9S5W4D_aCfP7i-i9Fqh44Klai_I\n",
      "Download 100%. 11JQUVmtktqSACXNdFSYHC_6zpiip2vbc\n",
      "Download 100%. 1JbRAaM7dYMjKaYUtqZUK6qw7Fy0XPUoX\n",
      "Download 100%. 1tn3hhvvxnkaQp8D3Te6LTw3z5L76KpE5\n",
      "Download 100%. 1zkAqCJZKjLr7qGHX3hXFZjLCXq0iuLM5\n",
      "Download 100%. 1RnQqxBti80m9OvS2Ykooc-elticXCuRQ\n",
      "Download 100%. 1OXp2kMtUnSBCab6bNc-oMnuxWPS-4vK0\n",
      "Download 100%. 1yTJGL82I_mi4dQLgdBc3f64nAroetjN8\n",
      "Download 100%. 1XVX8fwC46rqQCnrqjI3fo7PQ9sW2rKbt\n",
      "Download 100%. 1_QkN9ccVILeQh4DnWxjmhtFNx6cIm9q_\n",
      "Download 100%. 1zQ7BXkaIlIU-gCWKWZP1WQEsGQ_8Y3E0\n",
      "Download 100%. 1daUBNctyidUyh9sMgQo6xUWoIsa221CH\n",
      "Download 100%. 1HBYyWzSkfDc_qBNFH_9JK6b194Ar4TXq\n",
      "Download 100%. 1v64GJrNC_nTtDM0n4x-yHLo9AwOLjKRN\n",
      "Download 100%. 11HtFSvRh2G7FurTfWRIs7Gt2HF5FxO9O\n",
      "Download 100%. 1ryEEHMVcWHWBl4T5fa-XY-CYNQYYh1Pr\n",
      "Download 100%. 1UmOusRXX_VItcRGdbwvwU9SXe8RujODd\n",
      "Download 100%. 1u9IxvU4HWVd9rkT2Ld6wPK-koaVeWPAP\n",
      "Download 100%. 1y3jhrUmNY8pec5uLmfvPa9phRQ_3bwoH\n",
      "Download 100%. 1_gjGCs8u_0dAApXPovtYuOZ3VLoncx1q\n",
      "Download 100%. 1vx4MQjrU_t6YlYOUbjD3a9vU957xdVTm\n",
      "skipping already downloaded file demanda-enre-2024-02-11T13-1078.txt\n",
      "skipping already downloaded file demanda-enre-2024-02-11T13-1077.txt\n",
      "skipping already downloaded file cortes-enre-2024-02-11T13.txt\n",
      "skipping already downloaded file demanda-enre-2024-02-11T12-1078.txt\n",
      "skipping already downloaded file demanda-enre-2024-02-11T12-1077.txt\n",
      "skipping already downloaded file cortes-enre-2024-02-11T12.txt\n",
      "skipping already downloaded file demanda-enre-2024-02-11T11-1078.txt\n",
      "skipping already downloaded file demanda-enre-2024-02-11T11-1077.txt\n",
      "skipping already downloaded file cortes-enre-2024-02-11T11.txt\n",
      "skipping already downloaded file demanda-enre-2024-02-11T10-1078.txt\n",
      "skipping already downloaded file demanda-enre-2024-02-11T10-1077.txt\n",
      "skipping already downloaded file cortes-enre-2024-02-11T10.txt\n",
      "skipping already downloaded file demanda-enre-2024-02-11T09-1078.txt\n",
      "skipping already downloaded file demanda-enre-2024-02-11T09-1077.txt\n",
      "skipping already downloaded file cortes-enre-2024-02-11T09.txt\n",
      "skipping already downloaded file demanda-enre-2024-02-11T08-1078.txt\n",
      "skipping already downloaded file demanda-enre-2024-02-11T08-1077.txt\n",
      "skipping already downloaded file cortes-enre-2024-02-11T08.txt\n",
      "skipping already downloaded file demanda-enre-2024-02-11T07-1078.txt\n",
      "skipping already downloaded file demanda-enre-2024-02-11T07-1077.txt\n",
      "skipping already downloaded file cortes-enre-2024-02-11T07.txt\n",
      "skipping already downloaded file demanda-enre-2024-02-11T06-1078.txt\n",
      "skipping already downloaded file demanda-enre-2024-02-11T06-1077.txt\n",
      "skipping already downloaded file cortes-enre-2024-02-11T06.txt\n",
      "skipping already downloaded file demanda-enre-2024-02-11T05-1078.txt\n",
      "skipping already downloaded file demanda-enre-2024-02-11T05-1077.txt\n",
      "skipping already downloaded file cortes-enre-2024-02-11T05.txt\n",
      "skipping already downloaded file demanda-enre-2024-02-11T04-1078.txt\n",
      "skipping already downloaded file demanda-enre-2024-02-11T04-1077.txt\n",
      "skipping already downloaded file cortes-enre-2024-02-11T04.txt\n",
      "skipping already downloaded file demanda-enre-2024-02-11T03-1078.txt\n",
      "skipping already downloaded file demanda-enre-2024-02-11T03-1077.txt\n",
      "skipping already downloaded file cortes-enre-2024-02-11T03.txt\n",
      "skipping already downloaded file demanda-enre-2024-02-11T02-1078.txt\n",
      "skipping already downloaded file demanda-enre-2024-02-11T02-1077.txt\n",
      "skipping already downloaded file cortes-enre-2024-02-11T02.txt\n",
      "skipping already downloaded file demanda-enre-2024-02-11T01-1078.txt\n",
      "skipping already downloaded file demanda-enre-2024-02-11T01-1077.txt\n",
      "skipping already downloaded file cortes-enre-2024-02-11T01.txt\n",
      "skipping already downloaded file demanda-enre-2024-02-11T01-1078.txt\n",
      "skipping already downloaded file demanda-enre-2024-02-11T01-1077.txt\n",
      "skipping already downloaded file cortes-enre-2024-02-11T01.txt\n",
      "skipping already downloaded file demanda-enre-2024-02-11T01-1078.txt\n",
      "skipping already downloaded file demanda-enre-2024-02-11T01-1077.txt\n",
      "skipping already downloaded file cortes-enre-2024-02-11T01.txt\n"
     ]
    }
   ],
   "source": [
    "import os\n",
    "\n",
    "if not os.path.exists('data'): os.makedirs('data')\n",
    "\n",
    "for file in all_files:\n",
    "    file_id = file['id']\n",
    "    request = prod_drive_service.files().get_media(fileId=file_id)\n",
    "    if os.path.exists('data/' + file['name']): \n",
    "        print('skipping already downloaded file',  file['name'])\n",
    "        continue\n",
    "        \n",
    "    with open('data/' + file['name'], 'wb') as fh:\n",
    "        downloader = MediaIoBaseDownload(fh, request)\n",
    "        done = False\n",
    "        while not done:\n",
    "            status, done = downloader.next_chunk()\n",
    "            print(f\"Download {int(status.progress() * 100)}%. {file_id}\")"
   ]
  },
  {
   "cell_type": "code",
   "execution_count": 33,
   "id": "f3a1c442",
   "metadata": {},
   "outputs": [
    {
     "name": "stdout",
     "output_type": "stream",
     "text": [
      "     140\r\n"
     ]
    }
   ],
   "source": [
    "!ls data | wc -l"
   ]
  },
  {
   "cell_type": "code",
   "execution_count": 35,
   "id": "3d50770c",
   "metadata": {},
   "outputs": [
    {
     "data": {
      "text/plain": [
       "148"
      ]
     },
     "execution_count": 35,
     "metadata": {},
     "output_type": "execute_result"
    }
   ],
   "source": [
    "len(all_files)"
   ]
  },
  {
   "cell_type": "code",
   "execution_count": 36,
   "id": "962b3245",
   "metadata": {},
   "outputs": [],
   "source": [
    "def upload_fname(drive_service, fname):\n",
    "    file_metadata = {'name': fname}\n",
    "    media = MediaFileUpload(fname, mimetype='text/plain')\n",
    "    file = drive_service.files().create(body=file_metadata, media_body=media, fields='id').execute()\n",
    "    print(f\"File ID: {file.get('id')}\")"
   ]
  },
  {
   "cell_type": "code",
   "execution_count": 37,
   "id": "c2618ed7",
   "metadata": {},
   "outputs": [
    {
     "name": "stderr",
     "output_type": "stream",
     "text": [
      "  1%|▋                                                                                                 | 1/140 [00:01<03:50,  1.66s/it]"
     ]
    },
    {
     "name": "stdout",
     "output_type": "stream",
     "text": [
      "File ID: 1_feIWaD20rQYkJ5_g2pIZ_SdTtd4ryVO\n"
     ]
    },
    {
     "name": "stderr",
     "output_type": "stream",
     "text": [
      "\r",
      "  1%|█▍                                                                                                | 2/140 [00:03<03:30,  1.53s/it]"
     ]
    },
    {
     "name": "stdout",
     "output_type": "stream",
     "text": [
      "File ID: 1s0IPaAN_eRV63n1KqGMnd-ToIL1XvrGx\n"
     ]
    },
    {
     "name": "stderr",
     "output_type": "stream",
     "text": [
      "\r",
      "  2%|██                                                                                                | 3/140 [00:04<03:36,  1.58s/it]"
     ]
    },
    {
     "name": "stdout",
     "output_type": "stream",
     "text": [
      "File ID: 1N4w4jYYeTydNLe_599JMucrBh-S7Sq5a\n"
     ]
    },
    {
     "name": "stderr",
     "output_type": "stream",
     "text": [
      "\r",
      "  3%|██▊                                                                                               | 4/140 [00:06<03:21,  1.48s/it]"
     ]
    },
    {
     "name": "stdout",
     "output_type": "stream",
     "text": [
      "File ID: 1SAbVDvjpI2LDzKieedxTkNzi-iqEEm3Q\n"
     ]
    },
    {
     "name": "stderr",
     "output_type": "stream",
     "text": [
      "\r",
      "  4%|███▌                                                                                              | 5/140 [00:07<03:22,  1.50s/it]"
     ]
    },
    {
     "name": "stdout",
     "output_type": "stream",
     "text": [
      "File ID: 1f1lntqCdhp-Au5rzfJ2pVv9wbemWW36I\n"
     ]
    },
    {
     "name": "stderr",
     "output_type": "stream",
     "text": [
      "\r",
      "  4%|████▏                                                                                             | 6/140 [00:08<03:10,  1.42s/it]"
     ]
    },
    {
     "name": "stdout",
     "output_type": "stream",
     "text": [
      "File ID: 1dLoPNjSJ2cFahaVRnRrTwpBJjIkng3U6\n"
     ]
    },
    {
     "name": "stderr",
     "output_type": "stream",
     "text": [
      "\r",
      "  5%|████▉                                                                                             | 7/140 [00:10<03:38,  1.64s/it]"
     ]
    },
    {
     "name": "stdout",
     "output_type": "stream",
     "text": [
      "File ID: 1_yyuqDcQ2_KiOl8fCvpHXFyBY5Hy6ql3\n"
     ]
    },
    {
     "name": "stderr",
     "output_type": "stream",
     "text": [
      "\r",
      "  6%|█████▌                                                                                            | 8/140 [00:12<03:28,  1.58s/it]"
     ]
    },
    {
     "name": "stdout",
     "output_type": "stream",
     "text": [
      "File ID: 1It2Y4WxLcLIVoVVlqZdlv_55D3Np4x7_\n"
     ]
    },
    {
     "name": "stderr",
     "output_type": "stream",
     "text": [
      "\r",
      "  6%|██████▎                                                                                           | 9/140 [00:13<03:13,  1.47s/it]"
     ]
    },
    {
     "name": "stdout",
     "output_type": "stream",
     "text": [
      "File ID: 1uwYJfPEIRIVpAr0DOsoE3Pm_kTe-Htuf\n"
     ]
    },
    {
     "name": "stderr",
     "output_type": "stream",
     "text": [
      "\r",
      "  7%|██████▉                                                                                          | 10/140 [00:15<03:13,  1.49s/it]"
     ]
    },
    {
     "name": "stdout",
     "output_type": "stream",
     "text": [
      "File ID: 1exT6BVDatCfF-whaRkVeFXW6lp4Z8C-B\n"
     ]
    },
    {
     "name": "stderr",
     "output_type": "stream",
     "text": [
      "\r",
      "  8%|███████▌                                                                                         | 11/140 [00:16<03:10,  1.48s/it]"
     ]
    },
    {
     "name": "stdout",
     "output_type": "stream",
     "text": [
      "File ID: 10qBu1mhc6-lGw6FOqcJd5FUWDdlxwwaP\n"
     ]
    },
    {
     "name": "stderr",
     "output_type": "stream",
     "text": [
      "\r",
      "  9%|████████▎                                                                                        | 12/140 [00:18<03:26,  1.62s/it]"
     ]
    },
    {
     "name": "stdout",
     "output_type": "stream",
     "text": [
      "File ID: 1vbsqhk1U3MbA0RFSUSrkArJYIO0u7CAf\n"
     ]
    },
    {
     "name": "stderr",
     "output_type": "stream",
     "text": [
      "\r",
      "  9%|█████████                                                                                        | 13/140 [00:20<03:38,  1.72s/it]"
     ]
    },
    {
     "name": "stdout",
     "output_type": "stream",
     "text": [
      "File ID: 1vytXPMhthQCjgNWSR8nc3noj0SsDk842\n"
     ]
    },
    {
     "name": "stderr",
     "output_type": "stream",
     "text": [
      "\r",
      " 10%|█████████▋                                                                                       | 14/140 [00:23<04:27,  2.13s/it]"
     ]
    },
    {
     "name": "stdout",
     "output_type": "stream",
     "text": [
      "File ID: 1Vt0-i60-gkD-zgJMAAOWpnc7qlrvkIx_\n"
     ]
    },
    {
     "name": "stderr",
     "output_type": "stream",
     "text": [
      "\r",
      " 11%|██████████▍                                                                                      | 15/140 [00:24<03:55,  1.89s/it]"
     ]
    },
    {
     "name": "stdout",
     "output_type": "stream",
     "text": [
      "File ID: 1XjBn5NKqqfbZEgbvSM58leXN2J_LgjZK\n"
     ]
    },
    {
     "name": "stderr",
     "output_type": "stream",
     "text": [
      "\r",
      " 11%|███████████                                                                                      | 16/140 [00:26<03:44,  1.81s/it]"
     ]
    },
    {
     "name": "stdout",
     "output_type": "stream",
     "text": [
      "File ID: 1XV5sbt_6HFa8rS70xCxtbUecGLomj8ci\n"
     ]
    },
    {
     "name": "stderr",
     "output_type": "stream",
     "text": [
      "\r",
      " 12%|███████████▊                                                                                     | 17/140 [00:29<04:29,  2.19s/it]"
     ]
    },
    {
     "name": "stdout",
     "output_type": "stream",
     "text": [
      "File ID: 1FsoLG26b0xvoHe2ZPn_P2vnwqFB_YiBR\n"
     ]
    },
    {
     "name": "stderr",
     "output_type": "stream",
     "text": [
      "\r",
      " 13%|████████████▍                                                                                    | 18/140 [00:30<03:51,  1.90s/it]"
     ]
    },
    {
     "name": "stdout",
     "output_type": "stream",
     "text": [
      "File ID: 1VJIcRX7Vj1Zbk4g56YP9eMbjgCIKN-5R\n"
     ]
    },
    {
     "name": "stderr",
     "output_type": "stream",
     "text": [
      "\r",
      " 14%|█████████████▏                                                                                   | 19/140 [00:32<03:48,  1.88s/it]"
     ]
    },
    {
     "name": "stdout",
     "output_type": "stream",
     "text": [
      "File ID: 192roDLR_59vxL-VjyWUjYp-OvRYkqMCa\n"
     ]
    },
    {
     "name": "stderr",
     "output_type": "stream",
     "text": [
      "\r",
      " 14%|█████████████▊                                                                                   | 20/140 [00:34<03:33,  1.78s/it]"
     ]
    },
    {
     "name": "stdout",
     "output_type": "stream",
     "text": [
      "File ID: 14BRJ73WDoA-3xkJsC9RAK2EXIkrOpnZM\n"
     ]
    },
    {
     "name": "stderr",
     "output_type": "stream",
     "text": [
      "\r",
      " 15%|██████████████▌                                                                                  | 21/140 [00:35<03:19,  1.68s/it]"
     ]
    },
    {
     "name": "stdout",
     "output_type": "stream",
     "text": [
      "File ID: 1Gcx7CKKVk-CRdiTWcX84GPPGqz_2H7Pf\n"
     ]
    },
    {
     "name": "stderr",
     "output_type": "stream",
     "text": [
      "\r",
      " 16%|███████████████▏                                                                                 | 22/140 [00:37<03:29,  1.77s/it]"
     ]
    },
    {
     "name": "stdout",
     "output_type": "stream",
     "text": [
      "File ID: 1bpXBBQJXixCdhO7Devx5dKmwh9Q2cmtX\n"
     ]
    },
    {
     "name": "stderr",
     "output_type": "stream",
     "text": [
      "\r",
      " 16%|███████████████▉                                                                                 | 23/140 [00:39<03:35,  1.84s/it]"
     ]
    },
    {
     "name": "stdout",
     "output_type": "stream",
     "text": [
      "File ID: 1dL_0OeaAC2Dztb6-co5U5T2oNZrdav0h\n"
     ]
    },
    {
     "name": "stderr",
     "output_type": "stream",
     "text": [
      "\r",
      " 17%|████████████████▋                                                                                | 24/140 [00:40<03:15,  1.69s/it]"
     ]
    },
    {
     "name": "stdout",
     "output_type": "stream",
     "text": [
      "File ID: 1q8mQLM8Wxg_W6f3yzYDZ4iQtLu5muJuM\n"
     ]
    },
    {
     "name": "stderr",
     "output_type": "stream",
     "text": [
      "\r",
      " 18%|█████████████████▎                                                                               | 25/140 [00:42<03:12,  1.67s/it]"
     ]
    },
    {
     "name": "stdout",
     "output_type": "stream",
     "text": [
      "File ID: 10w4UugF2bd0nyA8PJ8_qU6d5vbes4yCC\n"
     ]
    },
    {
     "name": "stderr",
     "output_type": "stream",
     "text": [
      "\r",
      " 19%|██████████████████                                                                               | 26/140 [00:43<02:55,  1.54s/it]"
     ]
    },
    {
     "name": "stdout",
     "output_type": "stream",
     "text": [
      "File ID: 1NLKSkamEib5nDdCWLhfBHd5nI_ZBMpkx\n"
     ]
    },
    {
     "name": "stderr",
     "output_type": "stream",
     "text": [
      "\r",
      " 19%|██████████████████▋                                                                              | 27/140 [00:45<02:43,  1.45s/it]"
     ]
    },
    {
     "name": "stdout",
     "output_type": "stream",
     "text": [
      "File ID: 1X5f4IIvbUlD83EzTg5ROS7NGBzxyRWtP\n"
     ]
    },
    {
     "name": "stderr",
     "output_type": "stream",
     "text": [
      "\r",
      " 20%|███████████████████▍                                                                             | 28/140 [00:47<03:03,  1.64s/it]"
     ]
    },
    {
     "name": "stdout",
     "output_type": "stream",
     "text": [
      "File ID: 1hOlJ8ZBkMU-PpBvQN5asC3aQyUBmbIFr\n"
     ]
    },
    {
     "name": "stderr",
     "output_type": "stream",
     "text": [
      "\r",
      " 21%|████████████████████                                                                             | 29/140 [00:49<03:14,  1.75s/it]"
     ]
    },
    {
     "name": "stdout",
     "output_type": "stream",
     "text": [
      "File ID: 1GQfMuhxa7sLMchiwjf-7944COJP_x7PO\n"
     ]
    },
    {
     "name": "stderr",
     "output_type": "stream",
     "text": [
      "\r",
      " 21%|████████████████████▊                                                                            | 30/140 [00:50<03:01,  1.65s/it]"
     ]
    },
    {
     "name": "stdout",
     "output_type": "stream",
     "text": [
      "File ID: 1rPnSTfyyLNXAWTS2vEiwWyV11LO8Qm5U\n"
     ]
    },
    {
     "name": "stderr",
     "output_type": "stream",
     "text": [
      "\r",
      " 22%|█████████████████████▍                                                                           | 31/140 [00:52<02:54,  1.60s/it]"
     ]
    },
    {
     "name": "stdout",
     "output_type": "stream",
     "text": [
      "File ID: 15oJWl2i5FgDvetVmNq-53VwqheXFFf28\n"
     ]
    },
    {
     "name": "stderr",
     "output_type": "stream",
     "text": [
      "\r",
      " 23%|██████████████████████▏                                                                          | 32/140 [00:53<02:39,  1.48s/it]"
     ]
    },
    {
     "name": "stdout",
     "output_type": "stream",
     "text": [
      "File ID: 1LkJuojdXz2ILrCyuc7mTRHNiMSqSSwdD\n"
     ]
    },
    {
     "name": "stderr",
     "output_type": "stream",
     "text": [
      "\r",
      " 24%|██████████████████████▊                                                                          | 33/140 [00:55<02:59,  1.68s/it]"
     ]
    },
    {
     "name": "stdout",
     "output_type": "stream",
     "text": [
      "File ID: 1QkBLg5ReEAA71btUs0okNv7OX78oWv7L\n"
     ]
    },
    {
     "name": "stderr",
     "output_type": "stream",
     "text": [
      "\r",
      " 24%|███████████████████████▌                                                                         | 34/140 [00:57<03:16,  1.85s/it]"
     ]
    },
    {
     "name": "stdout",
     "output_type": "stream",
     "text": [
      "File ID: 1tuAF7dpwjosnBRdSBXTNi7h9cQ2bcNhD\n"
     ]
    },
    {
     "name": "stderr",
     "output_type": "stream",
     "text": [
      "\r",
      " 25%|████████████████████████▎                                                                        | 35/140 [00:58<02:54,  1.66s/it]"
     ]
    },
    {
     "name": "stdout",
     "output_type": "stream",
     "text": [
      "File ID: 1V2G_EaXfA2k2HcwH0H1eM_iAnKVOSN4R\n"
     ]
    },
    {
     "name": "stderr",
     "output_type": "stream",
     "text": [
      "\r",
      " 26%|████████████████████████▉                                                                        | 36/140 [01:00<02:49,  1.63s/it]"
     ]
    },
    {
     "name": "stdout",
     "output_type": "stream",
     "text": [
      "File ID: 1OBsYxDv6ogXUqKHGNIsfu7BxCKmkMigY\n"
     ]
    },
    {
     "name": "stderr",
     "output_type": "stream",
     "text": [
      "\r",
      " 26%|█████████████████████████▋                                                                       | 37/140 [01:02<02:56,  1.71s/it]"
     ]
    },
    {
     "name": "stdout",
     "output_type": "stream",
     "text": [
      "File ID: 1e5DsnyNDkoD0defVl4Y_zVou1imZdR32\n"
     ]
    },
    {
     "name": "stderr",
     "output_type": "stream",
     "text": [
      "\r",
      " 27%|██████████████████████████▎                                                                      | 38/140 [01:03<02:50,  1.67s/it]"
     ]
    },
    {
     "name": "stdout",
     "output_type": "stream",
     "text": [
      "File ID: 1QsQ5BDqdK_UGKd7zMfCY_e-VYECUZXkM\n"
     ]
    },
    {
     "name": "stderr",
     "output_type": "stream",
     "text": [
      "\r",
      " 28%|███████████████████████████                                                                      | 39/140 [01:05<02:50,  1.69s/it]"
     ]
    },
    {
     "name": "stdout",
     "output_type": "stream",
     "text": [
      "File ID: 1pIMlTEJQCeX1k1E6fsbKuZhlB_KBsm9x\n"
     ]
    },
    {
     "name": "stderr",
     "output_type": "stream",
     "text": [
      "\r",
      " 29%|███████████████████████████▋                                                                     | 40/140 [01:07<02:47,  1.67s/it]"
     ]
    },
    {
     "name": "stdout",
     "output_type": "stream",
     "text": [
      "File ID: 1TOCBW6GKsqp93N7HKwIkQkltGUWLDhrx\n"
     ]
    },
    {
     "name": "stderr",
     "output_type": "stream",
     "text": [
      "\r",
      " 29%|████████████████████████████▍                                                                    | 41/140 [01:08<02:38,  1.60s/it]"
     ]
    },
    {
     "name": "stdout",
     "output_type": "stream",
     "text": [
      "File ID: 1Dq-FyF4K0QgX2vp8dafne4TdS2nm3pV9\n"
     ]
    },
    {
     "name": "stderr",
     "output_type": "stream",
     "text": [
      "\r",
      " 30%|█████████████████████████████                                                                    | 42/140 [01:10<02:29,  1.52s/it]"
     ]
    },
    {
     "name": "stdout",
     "output_type": "stream",
     "text": [
      "File ID: 1FeV3fqXbw0gznJvvZsM-sLQOArWpXynZ\n"
     ]
    },
    {
     "name": "stderr",
     "output_type": "stream",
     "text": [
      "\r",
      " 31%|█████████████████████████████▊                                                                   | 43/140 [01:11<02:27,  1.52s/it]"
     ]
    },
    {
     "name": "stdout",
     "output_type": "stream",
     "text": [
      "File ID: 1RXNtpMVxHpZJCgdUtwB9rw2i8XhU_zSz\n"
     ]
    },
    {
     "name": "stderr",
     "output_type": "stream",
     "text": [
      "\r",
      " 31%|██████████████████████████████▍                                                                  | 44/140 [01:13<02:41,  1.68s/it]"
     ]
    },
    {
     "name": "stdout",
     "output_type": "stream",
     "text": [
      "File ID: 1ksKplkNsoxi5e7_lyM3Q2h8l3iz3_nBQ\n"
     ]
    },
    {
     "name": "stderr",
     "output_type": "stream",
     "text": [
      "\r",
      " 32%|███████████████████████████████▏                                                                 | 45/140 [01:15<02:56,  1.85s/it]"
     ]
    },
    {
     "name": "stdout",
     "output_type": "stream",
     "text": [
      "File ID: 1yhpxiQ61E3rg4Bny9hCJSYSiUHaet_ZZ\n"
     ]
    },
    {
     "name": "stderr",
     "output_type": "stream",
     "text": [
      "\r",
      " 33%|███████████████████████████████▊                                                                 | 46/140 [01:17<02:35,  1.66s/it]"
     ]
    },
    {
     "name": "stdout",
     "output_type": "stream",
     "text": [
      "File ID: 1MrQ4vrtx8cG8Ika--V9VDp7rl7tCKPM3\n"
     ]
    },
    {
     "name": "stderr",
     "output_type": "stream",
     "text": [
      "\r",
      " 34%|████████████████████████████████▌                                                                | 47/140 [01:18<02:32,  1.64s/it]"
     ]
    },
    {
     "name": "stdout",
     "output_type": "stream",
     "text": [
      "File ID: 1XfEMfk4-ifZFWrdOWsJfntl_CDEz1oUT\n"
     ]
    },
    {
     "name": "stderr",
     "output_type": "stream",
     "text": [
      "\r",
      " 34%|█████████████████████████████████▎                                                               | 48/140 [01:20<02:30,  1.64s/it]"
     ]
    },
    {
     "name": "stdout",
     "output_type": "stream",
     "text": [
      "File ID: 1eMpQZWixqIwKa0hT1bRUvLIP54w7WKn2\n"
     ]
    },
    {
     "name": "stderr",
     "output_type": "stream",
     "text": [
      "\r",
      " 35%|█████████████████████████████████▉                                                               | 49/140 [01:21<02:29,  1.64s/it]"
     ]
    },
    {
     "name": "stdout",
     "output_type": "stream",
     "text": [
      "File ID: 1thQfgpbdtTnwBRCYYVJZqt5Pdxr5Pu5M\n"
     ]
    },
    {
     "name": "stderr",
     "output_type": "stream",
     "text": [
      "\r",
      " 36%|██████████████████████████████████▋                                                              | 50/140 [01:23<02:17,  1.53s/it]"
     ]
    },
    {
     "name": "stdout",
     "output_type": "stream",
     "text": [
      "File ID: 1h0jMJeZjk_J9qpG9zl-ng3EiV1ZcKb8f\n"
     ]
    },
    {
     "name": "stderr",
     "output_type": "stream",
     "text": [
      "\r",
      " 36%|███████████████████████████████████▎                                                             | 51/140 [01:24<02:14,  1.51s/it]"
     ]
    },
    {
     "name": "stdout",
     "output_type": "stream",
     "text": [
      "File ID: 1JF25NG3INna2Hz8zSiUVLt5V6ha2XoG_\n"
     ]
    },
    {
     "name": "stderr",
     "output_type": "stream",
     "text": [
      "\r",
      " 37%|████████████████████████████████████                                                             | 52/140 [01:26<02:26,  1.67s/it]"
     ]
    },
    {
     "name": "stdout",
     "output_type": "stream",
     "text": [
      "File ID: 1GxeNlC0IQQU2lhXgXN7urkO0y8l3y2C2\n"
     ]
    },
    {
     "name": "stderr",
     "output_type": "stream",
     "text": [
      "\r",
      " 38%|████████████████████████████████████▋                                                            | 53/140 [01:27<02:11,  1.51s/it]"
     ]
    },
    {
     "name": "stdout",
     "output_type": "stream",
     "text": [
      "File ID: 1H1hZ9RjZ0uvAfVQmyYQHGLG9tXEr-R9Y\n"
     ]
    },
    {
     "name": "stderr",
     "output_type": "stream",
     "text": [
      "\r",
      " 39%|█████████████████████████████████████▍                                                           | 54/140 [01:29<02:00,  1.41s/it]"
     ]
    },
    {
     "name": "stdout",
     "output_type": "stream",
     "text": [
      "File ID: 1ULbaCK5lr9GYlSbgcIhQi7funhgYgrv2\n"
     ]
    },
    {
     "name": "stderr",
     "output_type": "stream",
     "text": [
      "\r",
      " 39%|██████████████████████████████████████                                                           | 55/140 [01:30<01:55,  1.36s/it]"
     ]
    },
    {
     "name": "stdout",
     "output_type": "stream",
     "text": [
      "File ID: 1kMOTl4qIOmw0NRyc5WAJ_bdYgPi0kgTV\n"
     ]
    },
    {
     "name": "stderr",
     "output_type": "stream",
     "text": [
      "\r",
      " 40%|██████████████████████████████████████▊                                                          | 56/140 [01:31<01:58,  1.41s/it]"
     ]
    },
    {
     "name": "stdout",
     "output_type": "stream",
     "text": [
      "File ID: 1Wpgvsw3K1PojaI5-yqGAPlZOU611ldDu\n"
     ]
    },
    {
     "name": "stderr",
     "output_type": "stream",
     "text": [
      "\r",
      " 41%|███████████████████████████████████████▍                                                         | 57/140 [01:33<01:53,  1.37s/it]"
     ]
    },
    {
     "name": "stdout",
     "output_type": "stream",
     "text": [
      "File ID: 1oF_Wiw4kI9_4wYaPASfCHz7zebTICN0O\n"
     ]
    },
    {
     "name": "stderr",
     "output_type": "stream",
     "text": [
      "\r",
      " 41%|████████████████████████████████████████▏                                                        | 58/140 [01:34<01:48,  1.32s/it]"
     ]
    },
    {
     "name": "stdout",
     "output_type": "stream",
     "text": [
      "File ID: 1zcrBjZ9e85BGFJwAuTAjM7Pv9SnWmdBO\n"
     ]
    },
    {
     "name": "stderr",
     "output_type": "stream",
     "text": [
      "\r",
      " 42%|████████████████████████████████████████▉                                                        | 59/140 [01:35<01:45,  1.31s/it]"
     ]
    },
    {
     "name": "stdout",
     "output_type": "stream",
     "text": [
      "File ID: 1JJ81Rfk0ITwKMGayWGXJu5Zv-s0u-xwk\n"
     ]
    },
    {
     "name": "stderr",
     "output_type": "stream",
     "text": [
      "\r",
      " 43%|█████████████████████████████████████████▌                                                       | 60/140 [01:37<02:01,  1.52s/it]"
     ]
    },
    {
     "name": "stdout",
     "output_type": "stream",
     "text": [
      "File ID: 1RfeJeoNIz6l2YvpUeaMnF3Cop2Jc6wm1\n"
     ]
    },
    {
     "name": "stderr",
     "output_type": "stream",
     "text": [
      "\r",
      " 44%|██████████████████████████████████████████▎                                                      | 61/140 [01:39<01:57,  1.49s/it]"
     ]
    },
    {
     "name": "stdout",
     "output_type": "stream",
     "text": [
      "File ID: 1GUma3TP1DjVsUaLGtHQVTcRFAb5kMHjN\n"
     ]
    },
    {
     "name": "stderr",
     "output_type": "stream",
     "text": [
      "\r",
      " 44%|██████████████████████████████████████████▉                                                      | 62/140 [01:40<01:52,  1.44s/it]"
     ]
    },
    {
     "name": "stdout",
     "output_type": "stream",
     "text": [
      "File ID: 1hPplISc86KWcg-ZNRodlgBNT67N_xN2Z\n"
     ]
    },
    {
     "name": "stderr",
     "output_type": "stream",
     "text": [
      "\r",
      " 45%|███████████████████████████████████████████▋                                                     | 63/140 [01:41<01:49,  1.42s/it]"
     ]
    },
    {
     "name": "stdout",
     "output_type": "stream",
     "text": [
      "File ID: 1Jyg3yU3p4oXvL_br5wNqDPAtrXBoCDUn\n"
     ]
    },
    {
     "name": "stderr",
     "output_type": "stream",
     "text": [
      "\r",
      " 46%|████████████████████████████████████████████▎                                                    | 64/140 [01:43<01:52,  1.48s/it]"
     ]
    },
    {
     "name": "stdout",
     "output_type": "stream",
     "text": [
      "File ID: 1bu-VUCwPZU3IPzhR15uMFw_YO1a5tLhc\n"
     ]
    },
    {
     "name": "stderr",
     "output_type": "stream",
     "text": [
      "\r",
      " 46%|█████████████████████████████████████████████                                                    | 65/140 [01:44<01:47,  1.43s/it]"
     ]
    },
    {
     "name": "stdout",
     "output_type": "stream",
     "text": [
      "File ID: 18lWCK2lDu9HMZRT4Yi59PZTOvZUKQvRF\n"
     ]
    },
    {
     "name": "stderr",
     "output_type": "stream",
     "text": [
      "\r",
      " 47%|█████████████████████████████████████████████▋                                                   | 66/140 [01:46<01:48,  1.46s/it]"
     ]
    },
    {
     "name": "stdout",
     "output_type": "stream",
     "text": [
      "File ID: 1SLEQzwg4zIsldG0Mi5VmTfWaAVEfUT89\n"
     ]
    },
    {
     "name": "stderr",
     "output_type": "stream",
     "text": [
      "\r",
      " 48%|██████████████████████████████████████████████▍                                                  | 67/140 [01:47<01:48,  1.48s/it]"
     ]
    },
    {
     "name": "stdout",
     "output_type": "stream",
     "text": [
      "File ID: 14RxYNc-K4di8K42N6laSvUjWSIgaAk55\n"
     ]
    },
    {
     "name": "stderr",
     "output_type": "stream",
     "text": [
      "\r",
      " 49%|███████████████████████████████████████████████                                                  | 68/140 [01:48<01:41,  1.41s/it]"
     ]
    },
    {
     "name": "stdout",
     "output_type": "stream",
     "text": [
      "File ID: 1TA3w-QfchiAJXcQQQoEcZmkzcgZUV3hm\n"
     ]
    },
    {
     "name": "stderr",
     "output_type": "stream",
     "text": [
      "\r",
      " 49%|███████████████████████████████████████████████▊                                                 | 69/140 [01:50<01:38,  1.38s/it]"
     ]
    },
    {
     "name": "stdout",
     "output_type": "stream",
     "text": [
      "File ID: 1pazjn0yeuHJ65qroaGrKfxdghUYvvf_I\n"
     ]
    },
    {
     "name": "stderr",
     "output_type": "stream",
     "text": [
      "\r",
      " 50%|████████████████████████████████████████████████▌                                                | 70/140 [01:51<01:37,  1.40s/it]"
     ]
    },
    {
     "name": "stdout",
     "output_type": "stream",
     "text": [
      "File ID: 1GQ9kx4iaQsG39IA2e-gMrNVk4w4dqmmT\n"
     ]
    },
    {
     "name": "stderr",
     "output_type": "stream",
     "text": [
      "\r",
      " 51%|█████████████████████████████████████████████████▏                                               | 71/140 [01:53<01:38,  1.43s/it]"
     ]
    },
    {
     "name": "stdout",
     "output_type": "stream",
     "text": [
      "File ID: 1AYq_0Yjc9rMQYYNRHn-3VRpOGShWvZjr\n"
     ]
    },
    {
     "name": "stderr",
     "output_type": "stream",
     "text": [
      "\r",
      " 51%|█████████████████████████████████████████████████▉                                               | 72/140 [01:54<01:38,  1.44s/it]"
     ]
    },
    {
     "name": "stdout",
     "output_type": "stream",
     "text": [
      "File ID: 1urak_ym-gfyTjdx6kEaFyEHeO3YYAS7d\n"
     ]
    },
    {
     "name": "stderr",
     "output_type": "stream",
     "text": [
      "\r",
      " 52%|██████████████████████████████████████████████████▌                                              | 73/140 [01:56<01:36,  1.44s/it]"
     ]
    },
    {
     "name": "stdout",
     "output_type": "stream",
     "text": [
      "File ID: 1e7XcREf8IgJfJZbDmzv_pJmMYHSWpqIG\n"
     ]
    },
    {
     "name": "stderr",
     "output_type": "stream",
     "text": [
      "\r",
      " 53%|███████████████████████████████████████████████████▎                                             | 74/140 [01:57<01:36,  1.47s/it]"
     ]
    },
    {
     "name": "stdout",
     "output_type": "stream",
     "text": [
      "File ID: 1Umlulv0jBfpsY3-_90DWB_BUAKLECVry\n"
     ]
    },
    {
     "name": "stderr",
     "output_type": "stream",
     "text": [
      "\r",
      " 54%|███████████████████████████████████████████████████▉                                             | 75/140 [01:58<01:28,  1.37s/it]"
     ]
    },
    {
     "name": "stdout",
     "output_type": "stream",
     "text": [
      "File ID: 1ySXKv7oW7M93xWIsBowT7U_JpyFYCykS\n"
     ]
    },
    {
     "name": "stderr",
     "output_type": "stream",
     "text": [
      "\r",
      " 54%|████████████████████████████████████████████████████▋                                            | 76/140 [01:59<01:21,  1.28s/it]"
     ]
    },
    {
     "name": "stdout",
     "output_type": "stream",
     "text": [
      "File ID: 1e_ftxQs0NEWGEXyz6HrKrICh3oPZSICz\n"
     ]
    },
    {
     "name": "stderr",
     "output_type": "stream",
     "text": [
      "\r",
      " 55%|█████████████████████████████████████████████████████▎                                           | 77/140 [02:01<01:32,  1.46s/it]"
     ]
    },
    {
     "name": "stdout",
     "output_type": "stream",
     "text": [
      "File ID: 1Sty2YvAC2BANqFX1L0AQ70gwjP-_84g7\n"
     ]
    },
    {
     "name": "stderr",
     "output_type": "stream",
     "text": [
      "\r",
      " 56%|██████████████████████████████████████████████████████                                           | 78/140 [02:03<01:34,  1.52s/it]"
     ]
    },
    {
     "name": "stdout",
     "output_type": "stream",
     "text": [
      "File ID: 1uyPJ_TDsdJ6hKTtLFD3doGMK2NbRyRJ-\n"
     ]
    },
    {
     "name": "stderr",
     "output_type": "stream",
     "text": [
      "\r",
      " 56%|██████████████████████████████████████████████████████▋                                          | 79/140 [02:04<01:29,  1.46s/it]"
     ]
    },
    {
     "name": "stdout",
     "output_type": "stream",
     "text": [
      "File ID: 19HzmHExwHLWnaudrZzVLdpFxsiBlCeVo\n"
     ]
    },
    {
     "name": "stderr",
     "output_type": "stream",
     "text": [
      "\r",
      " 57%|███████████████████████████████████████████████████████▍                                         | 80/140 [02:05<01:23,  1.39s/it]"
     ]
    },
    {
     "name": "stdout",
     "output_type": "stream",
     "text": [
      "File ID: 10fBeZdbuUe5qAbz9AR3L2zEr22PH3SvA\n"
     ]
    },
    {
     "name": "stderr",
     "output_type": "stream",
     "text": [
      "\r",
      " 58%|████████████████████████████████████████████████████████                                         | 81/140 [02:07<01:22,  1.40s/it]"
     ]
    },
    {
     "name": "stdout",
     "output_type": "stream",
     "text": [
      "File ID: 1YI_hFfdiGQc3Wx32GC1HgB8BkzKj7ELs\n"
     ]
    },
    {
     "name": "stderr",
     "output_type": "stream",
     "text": [
      "\r",
      " 59%|████████████████████████████████████████████████████████▊                                        | 82/140 [02:08<01:22,  1.42s/it]"
     ]
    },
    {
     "name": "stdout",
     "output_type": "stream",
     "text": [
      "File ID: 1PoEt_AO6Zta9NJHX4LU-l0sVnQq6jcvL\n"
     ]
    },
    {
     "name": "stderr",
     "output_type": "stream",
     "text": [
      "\r",
      " 59%|█████████████████████████████████████████████████████████▌                                       | 83/140 [02:10<01:29,  1.57s/it]"
     ]
    },
    {
     "name": "stdout",
     "output_type": "stream",
     "text": [
      "File ID: 12TmLM5GH6WGnN3aMaqcAVWYVMqdyZ240\n"
     ]
    },
    {
     "name": "stderr",
     "output_type": "stream",
     "text": [
      "\r",
      " 60%|██████████████████████████████████████████████████████████▏                                      | 84/140 [02:12<01:25,  1.53s/it]"
     ]
    },
    {
     "name": "stdout",
     "output_type": "stream",
     "text": [
      "File ID: 1L0rnnUx8JO1opeVIiWLh85F1sm7s4M9R\n"
     ]
    },
    {
     "name": "stderr",
     "output_type": "stream",
     "text": [
      "\r",
      " 61%|██████████████████████████████████████████████████████████▉                                      | 85/140 [02:13<01:24,  1.53s/it]"
     ]
    },
    {
     "name": "stdout",
     "output_type": "stream",
     "text": [
      "File ID: 1yY044NgvLTb-eWvtvWqyS5NPBcWdn-_f\n"
     ]
    },
    {
     "name": "stderr",
     "output_type": "stream",
     "text": [
      "\r",
      " 61%|███████████████████████████████████████████████████████████▌                                     | 86/140 [02:15<01:19,  1.47s/it]"
     ]
    },
    {
     "name": "stdout",
     "output_type": "stream",
     "text": [
      "File ID: 1ZtvAxTwApwrvnuFqBhGn2g5RDqoHYQY1\n"
     ]
    },
    {
     "name": "stderr",
     "output_type": "stream",
     "text": [
      "\r",
      " 62%|████████████████████████████████████████████████████████████▎                                    | 87/140 [02:16<01:18,  1.47s/it]"
     ]
    },
    {
     "name": "stdout",
     "output_type": "stream",
     "text": [
      "File ID: 1JNOMXCeRm6iov8za07ZbRWbB4Kws9gNd\n"
     ]
    },
    {
     "name": "stderr",
     "output_type": "stream",
     "text": [
      "\r",
      " 63%|████████████████████████████████████████████████████████████▉                                    | 88/140 [02:17<01:15,  1.45s/it]"
     ]
    },
    {
     "name": "stdout",
     "output_type": "stream",
     "text": [
      "File ID: 1a41BW0YtWDbwdgXdHCQjVUvdwwquREx_\n"
     ]
    },
    {
     "name": "stderr",
     "output_type": "stream",
     "text": [
      "\r",
      " 64%|█████████████████████████████████████████████████████████████▋                                   | 89/140 [02:19<01:11,  1.40s/it]"
     ]
    },
    {
     "name": "stdout",
     "output_type": "stream",
     "text": [
      "File ID: 1oBb_MSqf9cLZo-6NBZBGJvaBWbuBmkBb\n"
     ]
    },
    {
     "name": "stderr",
     "output_type": "stream",
     "text": [
      "\r",
      " 64%|██████████████████████████████████████████████████████████████▎                                  | 90/140 [02:20<01:11,  1.42s/it]"
     ]
    },
    {
     "name": "stdout",
     "output_type": "stream",
     "text": [
      "File ID: 1niKF92_MdTxRFpWvmBBqG7z_bUTtvzqg\n"
     ]
    },
    {
     "name": "stderr",
     "output_type": "stream",
     "text": [
      "\r",
      " 65%|███████████████████████████████████████████████████████████████                                  | 91/140 [02:22<01:09,  1.42s/it]"
     ]
    },
    {
     "name": "stdout",
     "output_type": "stream",
     "text": [
      "File ID: 1ZS7vfi14-qVd5WsdP5MCGDIaGYG7MWhu\n"
     ]
    },
    {
     "name": "stderr",
     "output_type": "stream",
     "text": [
      "\r",
      " 66%|███████████████████████████████████████████████████████████████▋                                 | 92/140 [02:23<01:10,  1.47s/it]"
     ]
    },
    {
     "name": "stdout",
     "output_type": "stream",
     "text": [
      "File ID: 14GLr_CepyaGgdOQe37h-3K_zeWj3e7JE\n"
     ]
    },
    {
     "name": "stderr",
     "output_type": "stream",
     "text": [
      "\r",
      " 66%|████████████████████████████████████████████████████████████████▍                                | 93/140 [02:25<01:07,  1.44s/it]"
     ]
    },
    {
     "name": "stdout",
     "output_type": "stream",
     "text": [
      "File ID: 1rtxF4yRANYJQNUl1Oexj8Dvhubw3yWyF\n"
     ]
    },
    {
     "name": "stderr",
     "output_type": "stream",
     "text": [
      "\r",
      " 67%|█████████████████████████████████████████████████████████████████▏                               | 94/140 [02:26<01:05,  1.42s/it]"
     ]
    },
    {
     "name": "stdout",
     "output_type": "stream",
     "text": [
      "File ID: 1ZREIB63XJgu2H4nuEWs2DUt0k01nUf2p\n"
     ]
    },
    {
     "name": "stderr",
     "output_type": "stream",
     "text": [
      "\r",
      " 68%|█████████████████████████████████████████████████████████████████▊                               | 95/140 [02:27<01:02,  1.38s/it]"
     ]
    },
    {
     "name": "stdout",
     "output_type": "stream",
     "text": [
      "File ID: 1nauLAGphpxLQGmjzDIdAajENYnza0QdS\n"
     ]
    },
    {
     "name": "stderr",
     "output_type": "stream",
     "text": [
      "\r",
      " 69%|██████████████████████████████████████████████████████████████████▌                              | 96/140 [02:28<00:57,  1.32s/it]"
     ]
    },
    {
     "name": "stdout",
     "output_type": "stream",
     "text": [
      "File ID: 1Rh7F1mk7V90cV2Cc0oXOaNHYaIeg4ISp\n"
     ]
    },
    {
     "name": "stderr",
     "output_type": "stream",
     "text": [
      "\r",
      " 69%|███████████████████████████████████████████████████████████████████▏                             | 97/140 [02:30<00:57,  1.33s/it]"
     ]
    },
    {
     "name": "stdout",
     "output_type": "stream",
     "text": [
      "File ID: 1grzmolroM4Yj5ZgsLo4V2G8waMuERF30\n"
     ]
    },
    {
     "name": "stderr",
     "output_type": "stream",
     "text": [
      "\r",
      " 70%|███████████████████████████████████████████████████████████████████▉                             | 98/140 [02:31<00:57,  1.36s/it]"
     ]
    },
    {
     "name": "stdout",
     "output_type": "stream",
     "text": [
      "File ID: 1vkUPH7bmNdF_J1hLQ2q85Sj3ozrRJJD3\n"
     ]
    },
    {
     "name": "stderr",
     "output_type": "stream",
     "text": [
      "\r",
      " 71%|████████████████████████████████████████████████████████████████████▌                            | 99/140 [02:32<00:53,  1.30s/it]"
     ]
    },
    {
     "name": "stdout",
     "output_type": "stream",
     "text": [
      "File ID: 1SMuvQEC0GplMAw6VnUfW9pETsE2AuHiN\n"
     ]
    },
    {
     "name": "stderr",
     "output_type": "stream",
     "text": [
      "\r",
      " 71%|████████████████████████████████████████████████████████████████████▌                           | 100/140 [02:34<00:50,  1.26s/it]"
     ]
    },
    {
     "name": "stdout",
     "output_type": "stream",
     "text": [
      "File ID: 1SdLgVWplrdx-f7Iwl8QAIjweHDhmvWY3\n"
     ]
    },
    {
     "name": "stderr",
     "output_type": "stream",
     "text": [
      "\r",
      " 72%|█████████████████████████████████████████████████████████████████████▎                          | 101/140 [02:35<00:48,  1.24s/it]"
     ]
    },
    {
     "name": "stdout",
     "output_type": "stream",
     "text": [
      "File ID: 11jUeVBtAHi8VX8KaGWWgjbJs7xS_Vlz1\n"
     ]
    },
    {
     "name": "stderr",
     "output_type": "stream",
     "text": [
      "\r",
      " 73%|█████████████████████████████████████████████████████████████████████▉                          | 102/140 [02:36<00:47,  1.24s/it]"
     ]
    },
    {
     "name": "stdout",
     "output_type": "stream",
     "text": [
      "File ID: 1-j4yc_L-wQqyXOybPJv532Bp_2cwWsAl\n"
     ]
    },
    {
     "name": "stderr",
     "output_type": "stream",
     "text": [
      "\r",
      " 74%|██████████████████████████████████████████████████████████████████████▋                         | 103/140 [02:37<00:48,  1.30s/it]"
     ]
    },
    {
     "name": "stdout",
     "output_type": "stream",
     "text": [
      "File ID: 1UDGRxqediknNbOLdNKo4I6dREpppUoRO\n"
     ]
    },
    {
     "name": "stderr",
     "output_type": "stream",
     "text": [
      "\r",
      " 74%|███████████████████████████████████████████████████████████████████████▎                        | 104/140 [02:39<00:47,  1.33s/it]"
     ]
    },
    {
     "name": "stdout",
     "output_type": "stream",
     "text": [
      "File ID: 1cgXPuYv2vUl9ziPGHu3vPPIj1t_QNRSY\n"
     ]
    },
    {
     "name": "stderr",
     "output_type": "stream",
     "text": [
      "\r",
      " 75%|████████████████████████████████████████████████████████████████████████                        | 105/140 [02:40<00:48,  1.39s/it]"
     ]
    },
    {
     "name": "stdout",
     "output_type": "stream",
     "text": [
      "File ID: 1tmCANK8YXuqCvng1j0oZ4XnjcbECIQ6b\n"
     ]
    },
    {
     "name": "stderr",
     "output_type": "stream",
     "text": [
      "\r",
      " 76%|████████████████████████████████████████████████████████████████████████▋                       | 106/140 [02:42<00:47,  1.39s/it]"
     ]
    },
    {
     "name": "stdout",
     "output_type": "stream",
     "text": [
      "File ID: 1XcbEPERxlyBfseNbRbL0CJn1x4W_KAkF\n"
     ]
    },
    {
     "name": "stderr",
     "output_type": "stream",
     "text": [
      "\r",
      " 76%|█████████████████████████████████████████████████████████████████████████▎                      | 107/140 [02:43<00:48,  1.46s/it]"
     ]
    },
    {
     "name": "stdout",
     "output_type": "stream",
     "text": [
      "File ID: 1-GPIXzWH-Cav08jtsZcmJUMghHNgO5Kn\n"
     ]
    },
    {
     "name": "stderr",
     "output_type": "stream",
     "text": [
      "\r",
      " 77%|██████████████████████████████████████████████████████████████████████████                      | 108/140 [02:45<00:50,  1.58s/it]"
     ]
    },
    {
     "name": "stdout",
     "output_type": "stream",
     "text": [
      "File ID: 1U9unpj-wTqCuTT68VTi-Gg7NccJd6QLb\n"
     ]
    },
    {
     "name": "stderr",
     "output_type": "stream",
     "text": [
      "\r",
      " 78%|██████████████████████████████████████████████████████████████████████████▋                     | 109/140 [02:46<00:45,  1.46s/it]"
     ]
    },
    {
     "name": "stdout",
     "output_type": "stream",
     "text": [
      "File ID: 1TOX9suQcFcLbUitlnHzllfHAdGUGURFU\n"
     ]
    },
    {
     "name": "stderr",
     "output_type": "stream",
     "text": [
      "\r",
      " 79%|███████████████████████████████████████████████████████████████████████████▍                    | 110/140 [02:48<00:42,  1.43s/it]"
     ]
    },
    {
     "name": "stdout",
     "output_type": "stream",
     "text": [
      "File ID: 19UhpL2ZgByvsBM5EovTG7p9xnVS21jtS\n"
     ]
    },
    {
     "name": "stderr",
     "output_type": "stream",
     "text": [
      "\r",
      " 79%|████████████████████████████████████████████████████████████████████████████                    | 111/140 [02:49<00:40,  1.39s/it]"
     ]
    },
    {
     "name": "stdout",
     "output_type": "stream",
     "text": [
      "File ID: 1NtEHV3J-kTTZaqXfWxfYyLPhaP5MQOWK\n"
     ]
    },
    {
     "name": "stderr",
     "output_type": "stream",
     "text": [
      "\r",
      " 80%|████████████████████████████████████████████████████████████████████████████▊                   | 112/140 [02:50<00:37,  1.35s/it]"
     ]
    },
    {
     "name": "stdout",
     "output_type": "stream",
     "text": [
      "File ID: 1I-Quv5pIOX9eXDkQDdrdbEOZvwULx2Su\n"
     ]
    },
    {
     "name": "stderr",
     "output_type": "stream",
     "text": [
      "\r",
      " 81%|█████████████████████████████████████████████████████████████████████████████▍                  | 113/140 [02:52<00:36,  1.34s/it]"
     ]
    },
    {
     "name": "stdout",
     "output_type": "stream",
     "text": [
      "File ID: 16KOI631HKhmODIqjwUzdJvEaq5T76aVw\n"
     ]
    },
    {
     "name": "stderr",
     "output_type": "stream",
     "text": [
      "\r",
      " 81%|██████████████████████████████████████████████████████████████████████████████▏                 | 114/140 [02:53<00:38,  1.46s/it]"
     ]
    },
    {
     "name": "stdout",
     "output_type": "stream",
     "text": [
      "File ID: 19bDB7wTr_EIHYb_ixWZ6OgvUG3gTDQhQ\n"
     ]
    },
    {
     "name": "stderr",
     "output_type": "stream",
     "text": [
      "\r",
      " 82%|██████████████████████████████████████████████████████████████████████████████▊                 | 115/140 [02:55<00:34,  1.38s/it]"
     ]
    },
    {
     "name": "stdout",
     "output_type": "stream",
     "text": [
      "File ID: 1FbEMwI1CgCGyPrZxlRyGRkkmhoS7Px1m\n"
     ]
    },
    {
     "name": "stderr",
     "output_type": "stream",
     "text": [
      "\r",
      " 83%|███████████████████████████████████████████████████████████████████████████████▌                | 116/140 [02:56<00:31,  1.33s/it]"
     ]
    },
    {
     "name": "stdout",
     "output_type": "stream",
     "text": [
      "File ID: 1W_3yciSWG1Ia_QpX4Ekj2DNS4hb5fDUD\n"
     ]
    },
    {
     "name": "stderr",
     "output_type": "stream",
     "text": [
      "\r",
      " 84%|████████████████████████████████████████████████████████████████████████████████▏               | 117/140 [02:57<00:32,  1.41s/it]"
     ]
    },
    {
     "name": "stdout",
     "output_type": "stream",
     "text": [
      "File ID: 1E1IVwrLE-cgkwvNC9aGwV7-UHzA_ZwoH\n"
     ]
    },
    {
     "name": "stderr",
     "output_type": "stream",
     "text": [
      "\r",
      " 84%|████████████████████████████████████████████████████████████████████████████████▉               | 118/140 [02:59<00:31,  1.42s/it]"
     ]
    },
    {
     "name": "stdout",
     "output_type": "stream",
     "text": [
      "File ID: 1YpNQDnwZbB7SQ_hbzoPmwfhYcdViNID0\n"
     ]
    },
    {
     "name": "stderr",
     "output_type": "stream",
     "text": [
      "\r",
      " 85%|█████████████████████████████████████████████████████████████████████████████████▌              | 119/140 [03:00<00:31,  1.48s/it]"
     ]
    },
    {
     "name": "stdout",
     "output_type": "stream",
     "text": [
      "File ID: 1REPugl0NHVAr7XJjwxveGdoA0jC3hFd4\n"
     ]
    },
    {
     "name": "stderr",
     "output_type": "stream",
     "text": [
      "\r",
      " 86%|██████████████████████████████████████████████████████████████████████████████████▎             | 120/140 [03:02<00:29,  1.46s/it]"
     ]
    },
    {
     "name": "stdout",
     "output_type": "stream",
     "text": [
      "File ID: 1wRpX69BByElEPs5h5uHKpCNnDOkDrROs\n"
     ]
    },
    {
     "name": "stderr",
     "output_type": "stream",
     "text": [
      "\r",
      " 86%|██████████████████████████████████████████████████████████████████████████████████▉             | 121/140 [03:03<00:28,  1.49s/it]"
     ]
    },
    {
     "name": "stdout",
     "output_type": "stream",
     "text": [
      "File ID: 159K2iQVq6wCC-K5rzQm73xZ12Q2Mfls7\n"
     ]
    },
    {
     "name": "stderr",
     "output_type": "stream",
     "text": [
      "\r",
      " 87%|███████████████████████████████████████████████████████████████████████████████████▋            | 122/140 [03:05<00:27,  1.50s/it]"
     ]
    },
    {
     "name": "stdout",
     "output_type": "stream",
     "text": [
      "File ID: 1jsuFgOG0el5pQRnb-FCDvyw_Spzi17Q6\n"
     ]
    },
    {
     "name": "stderr",
     "output_type": "stream",
     "text": [
      "\r",
      " 88%|████████████████████████████████████████████████████████████████████████████████████▎           | 123/140 [03:06<00:24,  1.43s/it]"
     ]
    },
    {
     "name": "stdout",
     "output_type": "stream",
     "text": [
      "File ID: 1nC0uvCJX9HZtjH3IagVPY5lKuiW9WESv\n"
     ]
    },
    {
     "name": "stderr",
     "output_type": "stream",
     "text": [
      "\r",
      " 89%|█████████████████████████████████████████████████████████████████████████████████████           | 124/140 [03:08<00:23,  1.49s/it]"
     ]
    },
    {
     "name": "stdout",
     "output_type": "stream",
     "text": [
      "File ID: 11kca56AJhUGweB9mvhoREybsZbS28map\n"
     ]
    },
    {
     "name": "stderr",
     "output_type": "stream",
     "text": [
      "\r",
      " 89%|█████████████████████████████████████████████████████████████████████████████████████▋          | 125/140 [03:09<00:22,  1.50s/it]"
     ]
    },
    {
     "name": "stdout",
     "output_type": "stream",
     "text": [
      "File ID: 1khXJ6wET0kZDEQ0aVtsZDSk5FTgWNH6O\n"
     ]
    },
    {
     "name": "stderr",
     "output_type": "stream",
     "text": [
      "\r",
      " 90%|██████████████████████████████████████████████████████████████████████████████████████▍         | 126/140 [03:11<00:19,  1.39s/it]"
     ]
    },
    {
     "name": "stdout",
     "output_type": "stream",
     "text": [
      "File ID: 1L3_xNvOJU785CMxjTIi0B_UWnwuiN8XX\n"
     ]
    },
    {
     "name": "stderr",
     "output_type": "stream",
     "text": [
      "\r",
      " 91%|███████████████████████████████████████████████████████████████████████████████████████         | 127/140 [03:12<00:17,  1.36s/it]"
     ]
    },
    {
     "name": "stdout",
     "output_type": "stream",
     "text": [
      "File ID: 1CRQW7sg_CGsGkW5DftqAxw3Zb-T0UrWp\n"
     ]
    },
    {
     "name": "stderr",
     "output_type": "stream",
     "text": [
      "\r",
      " 91%|███████████████████████████████████████████████████████████████████████████████████████▊        | 128/140 [03:13<00:15,  1.33s/it]"
     ]
    },
    {
     "name": "stdout",
     "output_type": "stream",
     "text": [
      "File ID: 1sHp8ITb-DFPmMWjGouBrcTAPXjOjbJK3\n"
     ]
    },
    {
     "name": "stderr",
     "output_type": "stream",
     "text": [
      "\r",
      " 92%|████████████████████████████████████████████████████████████████████████████████████████▍       | 129/140 [03:15<00:16,  1.46s/it]"
     ]
    },
    {
     "name": "stdout",
     "output_type": "stream",
     "text": [
      "File ID: 1rWXpskp9mM4QxaNN9FXSsR14orVJdjUj\n"
     ]
    },
    {
     "name": "stderr",
     "output_type": "stream",
     "text": [
      "\r",
      " 93%|█████████████████████████████████████████████████████████████████████████████████████████▏      | 130/140 [03:16<00:13,  1.40s/it]"
     ]
    },
    {
     "name": "stdout",
     "output_type": "stream",
     "text": [
      "File ID: 190Be4BDEqT0I1sPLWn9GqjqpIvIbSO1C\n"
     ]
    },
    {
     "name": "stderr",
     "output_type": "stream",
     "text": [
      "\r",
      " 94%|█████████████████████████████████████████████████████████████████████████████████████████▊      | 131/140 [03:17<00:11,  1.33s/it]"
     ]
    },
    {
     "name": "stdout",
     "output_type": "stream",
     "text": [
      "File ID: 1OrcH2UjI4iuKWSGGkhlHooM-knvHMVoA\n"
     ]
    },
    {
     "name": "stderr",
     "output_type": "stream",
     "text": [
      "\r",
      " 94%|██████████████████████████████████████████████████████████████████████████████████████████▌     | 132/140 [03:19<00:10,  1.34s/it]"
     ]
    },
    {
     "name": "stdout",
     "output_type": "stream",
     "text": [
      "File ID: 1wlkmdr1UIt6uAPDRD0NxC3NuL-LpQ2Bi\n"
     ]
    },
    {
     "name": "stderr",
     "output_type": "stream",
     "text": [
      "\r",
      " 95%|███████████████████████████████████████████████████████████████████████████████████████████▏    | 133/140 [03:20<00:10,  1.49s/it]"
     ]
    },
    {
     "name": "stdout",
     "output_type": "stream",
     "text": [
      "File ID: 1k7hE8KuFUnwKaEhATonwWGAh4WfuhZ9w\n"
     ]
    },
    {
     "name": "stderr",
     "output_type": "stream",
     "text": [
      "\r",
      " 96%|███████████████████████████████████████████████████████████████████████████████████████████▉    | 134/140 [03:22<00:08,  1.47s/it]"
     ]
    },
    {
     "name": "stdout",
     "output_type": "stream",
     "text": [
      "File ID: 1Pg20MIJIBNgU9tIra79WOrVtLqpXPckV\n"
     ]
    },
    {
     "name": "stderr",
     "output_type": "stream",
     "text": [
      "\r",
      " 96%|████████████████████████████████████████████████████████████████████████████████████████████▌   | 135/140 [03:24<00:07,  1.53s/it]"
     ]
    },
    {
     "name": "stdout",
     "output_type": "stream",
     "text": [
      "File ID: 1lTi3Q_V5xiyFjS_n-FpvXKIGgeMS4v7r\n"
     ]
    },
    {
     "name": "stderr",
     "output_type": "stream",
     "text": [
      "\r",
      " 97%|█████████████████████████████████████████████████████████████████████████████████████████████▎  | 136/140 [03:25<00:06,  1.54s/it]"
     ]
    },
    {
     "name": "stdout",
     "output_type": "stream",
     "text": [
      "File ID: 1O9bALPEQSaj2NucAV5Si8CboKy0UdX38\n"
     ]
    },
    {
     "name": "stderr",
     "output_type": "stream",
     "text": [
      "\r",
      " 98%|█████████████████████████████████████████████████████████████████████████████████████████████▉  | 137/140 [03:27<00:04,  1.55s/it]"
     ]
    },
    {
     "name": "stdout",
     "output_type": "stream",
     "text": [
      "File ID: 18u5mB39Us6v_SRWLmsTWjoObX_i3KbK2\n"
     ]
    },
    {
     "name": "stderr",
     "output_type": "stream",
     "text": [
      "\r",
      " 99%|██████████████████████████████████████████████████████████████████████████████████████████████▋ | 138/140 [03:28<00:03,  1.50s/it]"
     ]
    },
    {
     "name": "stdout",
     "output_type": "stream",
     "text": [
      "File ID: 18Q_XzLgPLMQGq0Nx21OZj3Zo-OcVoUcM\n"
     ]
    },
    {
     "name": "stderr",
     "output_type": "stream",
     "text": [
      "\r",
      " 99%|███████████████████████████████████████████████████████████████████████████████████████████████▎| 139/140 [03:30<00:01,  1.53s/it]"
     ]
    },
    {
     "name": "stdout",
     "output_type": "stream",
     "text": [
      "File ID: 1rv9-SHyQS77709RAHiWH3btjEnmDBC1-\n"
     ]
    },
    {
     "name": "stderr",
     "output_type": "stream",
     "text": [
      "100%|████████████████████████████████████████████████████████████████████████████████████████████████| 140/140 [03:31<00:00,  1.51s/it]"
     ]
    },
    {
     "name": "stdout",
     "output_type": "stream",
     "text": [
      "File ID: 1chR1zOp5rz4H1oVSNvrlORiB1A2gL9Kx\n"
     ]
    },
    {
     "name": "stderr",
     "output_type": "stream",
     "text": [
      "\n"
     ]
    }
   ],
   "source": [
    "from tqdm import tqdm\n",
    "\n",
    "for fname in tqdm(os.listdir('data')):\n",
    "    upload_fname(new_prod_drive_service, 'data/' + fname)"
   ]
  },
  {
   "cell_type": "code",
   "execution_count": 38,
   "id": "0ebda7bc",
   "metadata": {},
   "outputs": [
    {
     "data": {
      "text/plain": [
       "{'nextPageToken': '~!!~AI9FV7Q2h0p3PLM6TuwymS7Vlkos7MjxM_YEXrVrldKU4ltFRB3Gao9ufh120h7XOubHtbm7vUsVW1Ivx12knUV_ZHKLQVu0uLFtPgJy8ZYzuLWUE42r8dOJasXg8YxogRdnwsSrXUcSHnzBBw1Nc_Bx8H50XTqjd_trl1lf4SlZykHAGXLbMa0bTFmWMEVwwYxaqbB3WoKjX8AFfo0JO3RLYiJ-oyjPKbQtbmd1cOpuBodu00SXarIBjqfKmDjLnIlKN6n9bkc4_KruSWv8U54vO6pGfj-vB5uh1vvi_yM28fxwg8N1XDIRM0G6iPwnLXOtkL6zxduJ0DIfuTvsgqTHVPeCgizNMbztN4nP9B3owY6Jdztq51aqlPRBPh5eTbwd5EoOb-z8',\n",
       " 'kind': 'drive#fileList',\n",
       " 'incompleteSearch': False,\n",
       " 'files': [{'kind': 'drive#file',\n",
       "   'mimeType': 'text/plain',\n",
       "   'id': '1chR1zOp5rz4H1oVSNvrlORiB1A2gL9Kx',\n",
       "   'name': 'data/demanda-enre-2024-02-12T02-1077.txt.gz'},\n",
       "  {'kind': 'drive#file',\n",
       "   'mimeType': 'text/plain',\n",
       "   'id': '1rv9-SHyQS77709RAHiWH3btjEnmDBC1-',\n",
       "   'name': 'data/demanda-enre-2024-02-11T22-1078.txt.gz'},\n",
       "  {'kind': 'drive#file',\n",
       "   'mimeType': 'text/plain',\n",
       "   'id': '18Q_XzLgPLMQGq0Nx21OZj3Zo-OcVoUcM',\n",
       "   'name': 'data/demanda-enre-2024-02-11T18-1077.txt.gz'},\n",
       "  {'kind': 'drive#file',\n",
       "   'mimeType': 'text/plain',\n",
       "   'id': '18u5mB39Us6v_SRWLmsTWjoObX_i3KbK2',\n",
       "   'name': 'data/clima-enre-2024-02-12T04.txt.gz'},\n",
       "  {'kind': 'drive#file',\n",
       "   'mimeType': 'text/plain',\n",
       "   'id': '1O9bALPEQSaj2NucAV5Si8CboKy0UdX38',\n",
       "   'name': 'data/demanda-enre-2024-02-11T06-1078.txt'},\n",
       "  {'kind': 'drive#file',\n",
       "   'mimeType': 'text/plain',\n",
       "   'id': '1lTi3Q_V5xiyFjS_n-FpvXKIGgeMS4v7r',\n",
       "   'name': 'data/demanda-enre-2024-02-11T07-1078.txt'},\n",
       "  {'kind': 'drive#file',\n",
       "   'mimeType': 'text/plain',\n",
       "   'id': '1Pg20MIJIBNgU9tIra79WOrVtLqpXPckV',\n",
       "   'name': 'data/clima-enre-2024-02-12T08.txt.gz'},\n",
       "  {'kind': 'drive#file',\n",
       "   'mimeType': 'text/plain',\n",
       "   'id': '1k7hE8KuFUnwKaEhATonwWGAh4WfuhZ9w',\n",
       "   'name': 'data/cortes-enre-2024-02-11T14.txt.gz'},\n",
       "  {'kind': 'drive#file',\n",
       "   'mimeType': 'text/plain',\n",
       "   'id': '1wlkmdr1UIt6uAPDRD0NxC3NuL-LpQ2Bi',\n",
       "   'name': 'data/demanda-enre-2024-02-11T23-1077.txt.gz'},\n",
       "  {'kind': 'drive#file',\n",
       "   'mimeType': 'text/plain',\n",
       "   'id': '1OrcH2UjI4iuKWSGGkhlHooM-knvHMVoA',\n",
       "   'name': 'data/demanda-enre-2024-02-12T03-1078.txt.gz'},\n",
       "  {'kind': 'drive#file',\n",
       "   'mimeType': 'text/plain',\n",
       "   'id': '190Be4BDEqT0I1sPLWn9GqjqpIvIbSO1C',\n",
       "   'name': 'data/cortes-enre-2024-02-11T18.txt.gz'},\n",
       "  {'kind': 'drive#file',\n",
       "   'mimeType': 'text/plain',\n",
       "   'id': '1rWXpskp9mM4QxaNN9FXSsR14orVJdjUj',\n",
       "   'name': 'data/cortes-enre-2024-02-12T01.txt.gz'},\n",
       "  {'kind': 'drive#file',\n",
       "   'mimeType': 'text/plain',\n",
       "   'id': '1sHp8ITb-DFPmMWjGouBrcTAPXjOjbJK3',\n",
       "   'name': 'data/demanda-enre-2024-02-11T19-1078.txt.gz'},\n",
       "  {'kind': 'drive#file',\n",
       "   'mimeType': 'text/plain',\n",
       "   'id': '1CRQW7sg_CGsGkW5DftqAxw3Zb-T0UrWp',\n",
       "   'name': 'data/cortes-enre-2024-02-12T13.txt.gz'},\n",
       "  {'kind': 'drive#file',\n",
       "   'mimeType': 'text/plain',\n",
       "   'id': '1L3_xNvOJU785CMxjTIi0B_UWnwuiN8XX',\n",
       "   'name': 'data/cortes-enre-2024-02-11T22.txt.gz'},\n",
       "  {'kind': 'drive#file',\n",
       "   'mimeType': 'text/plain',\n",
       "   'id': '1khXJ6wET0kZDEQ0aVtsZDSk5FTgWNH6O',\n",
       "   'name': 'data/demanda-enre-2024-02-12T06-1078.txt.gz'},\n",
       "  {'kind': 'drive#file',\n",
       "   'mimeType': 'text/plain',\n",
       "   'id': '11kca56AJhUGweB9mvhoREybsZbS28map',\n",
       "   'name': 'data/cortes-enre-2024-02-11T16.txt.gz'},\n",
       "  {'kind': 'drive#file',\n",
       "   'mimeType': 'text/plain',\n",
       "   'id': '1nC0uvCJX9HZtjH3IagVPY5lKuiW9WESv',\n",
       "   'name': 'data/demanda-enre-2024-02-12T12-1077.txt.gz'},\n",
       "  {'kind': 'drive#file',\n",
       "   'mimeType': 'text/plain',\n",
       "   'id': '1jsuFgOG0el5pQRnb-FCDvyw_Spzi17Q6',\n",
       "   'name': 'data/demanda-enre-2024-02-11T08-1077.txt'},\n",
       "  {'kind': 'drive#file',\n",
       "   'mimeType': 'text/plain',\n",
       "   'id': '159K2iQVq6wCC-K5rzQm73xZ12Q2Mfls7',\n",
       "   'name': 'data/demanda-enre-2024-02-11T09-1077.txt'},\n",
       "  {'kind': 'drive#file',\n",
       "   'mimeType': 'text/plain',\n",
       "   'id': '1wRpX69BByElEPs5h5uHKpCNnDOkDrROs',\n",
       "   'name': 'data/demanda-enre-2024-02-11T11-1078.txt'},\n",
       "  {'kind': 'drive#file',\n",
       "   'mimeType': 'text/plain',\n",
       "   'id': '1REPugl0NHVAr7XJjwxveGdoA0jC3hFd4',\n",
       "   'name': 'data/demanda-enre-2024-02-11T10-1078.txt'},\n",
       "  {'kind': 'drive#file',\n",
       "   'mimeType': 'text/plain',\n",
       "   'id': '1YpNQDnwZbB7SQ_hbzoPmwfhYcdViNID0',\n",
       "   'name': 'data/cortes-enre-2024-02-12T11.txt.gz'},\n",
       "  {'kind': 'drive#file',\n",
       "   'mimeType': 'text/plain',\n",
       "   'id': '1E1IVwrLE-cgkwvNC9aGwV7-UHzA_ZwoH',\n",
       "   'name': 'data/cortes-enre-2024-02-11T20.txt.gz'},\n",
       "  {'kind': 'drive#file',\n",
       "   'mimeType': 'text/plain',\n",
       "   'id': '1W_3yciSWG1Ia_QpX4Ekj2DNS4hb5fDUD',\n",
       "   'name': 'data/cortes-enre-2024-02-12T03.txt.gz'},\n",
       "  {'kind': 'drive#file',\n",
       "   'mimeType': 'text/plain',\n",
       "   'id': '1FbEMwI1CgCGyPrZxlRyGRkkmhoS7Px1m',\n",
       "   'name': 'data/demanda-enre-2024-02-11T14-1077.txt.gz'},\n",
       "  {'kind': 'drive#file',\n",
       "   'mimeType': 'text/plain',\n",
       "   'id': '19bDB7wTr_EIHYb_ixWZ6OgvUG3gTDQhQ',\n",
       "   'name': 'data/cortes-enre-2024-02-11T08.txt'},\n",
       "  {'kind': 'drive#file',\n",
       "   'mimeType': 'text/plain',\n",
       "   'id': '16KOI631HKhmODIqjwUzdJvEaq5T76aVw',\n",
       "   'name': 'data/demanda-enre-2024-02-12T07-1077.txt.gz'},\n",
       "  {'kind': 'drive#file',\n",
       "   'mimeType': 'text/plain',\n",
       "   'id': '1I-Quv5pIOX9eXDkQDdrdbEOZvwULx2Su',\n",
       "   'name': 'data/clima-enre-2024-02-11T13.txt.gz'},\n",
       "  {'kind': 'drive#file',\n",
       "   'mimeType': 'text/plain',\n",
       "   'id': '1NtEHV3J-kTTZaqXfWxfYyLPhaP5MQOWK',\n",
       "   'name': 'data/clima-enre-2024-02-11T13.txt'},\n",
       "  {'kind': 'drive#file',\n",
       "   'mimeType': 'text/plain',\n",
       "   'id': '19UhpL2ZgByvsBM5EovTG7p9xnVS21jtS',\n",
       "   'name': 'data/demanda-enre-2024-02-12T13-1078.txt.gz'},\n",
       "  {'kind': 'drive#file',\n",
       "   'mimeType': 'text/plain',\n",
       "   'id': '1TOX9suQcFcLbUitlnHzllfHAdGUGURFU',\n",
       "   'name': 'data/clima-enre-2024-02-12T14.txt.gz'},\n",
       "  {'kind': 'drive#file',\n",
       "   'mimeType': 'text/plain',\n",
       "   'id': '1U9unpj-wTqCuTT68VTi-Gg7NccJd6QLb',\n",
       "   'name': 'data/cortes-enre-2024-02-11T09.txt'},\n",
       "  {'kind': 'drive#file',\n",
       "   'mimeType': 'text/plain',\n",
       "   'id': '1-GPIXzWH-Cav08jtsZcmJUMghHNgO5Kn',\n",
       "   'name': 'data/clima-enre-2024-02-12T06.txt.gz'},\n",
       "  {'kind': 'drive#file',\n",
       "   'mimeType': 'text/plain',\n",
       "   'id': '1XcbEPERxlyBfseNbRbL0CJn1x4W_KAkF',\n",
       "   'name': 'data/demanda-enre-2024-02-11T15-1078.txt.gz'},\n",
       "  {'kind': 'drive#file',\n",
       "   'mimeType': 'text/plain',\n",
       "   'id': '1tmCANK8YXuqCvng1j0oZ4XnjcbECIQ6b',\n",
       "   'name': 'data/demanda-enre-2024-02-11T02-1077.txt'},\n",
       "  {'kind': 'drive#file',\n",
       "   'mimeType': 'text/plain',\n",
       "   'id': '1cgXPuYv2vUl9ziPGHu3vPPIj1t_QNRSY',\n",
       "   'name': 'data/demanda-enre-2024-02-11T03-1077.txt'},\n",
       "  {'kind': 'drive#file',\n",
       "   'mimeType': 'text/plain',\n",
       "   'id': '1UDGRxqediknNbOLdNKo4I6dREpppUoRO',\n",
       "   'name': 'data/cortes-enre-2024-02-12T07.txt.gz'},\n",
       "  {'kind': 'drive#file',\n",
       "   'mimeType': 'text/plain',\n",
       "   'id': '1-j4yc_L-wQqyXOybPJv532Bp_2cwWsAl',\n",
       "   'name': 'data/demanda-enre-2024-02-11T16-1078.txt.gz'},\n",
       "  {'kind': 'drive#file',\n",
       "   'mimeType': 'text/plain',\n",
       "   'id': '11jUeVBtAHi8VX8KaGWWgjbJs7xS_Vlz1',\n",
       "   'name': 'data/demanda-enre-2024-02-12T10-1078.txt.gz'},\n",
       "  {'kind': 'drive#file',\n",
       "   'mimeType': 'text/plain',\n",
       "   'id': '1SdLgVWplrdx-f7Iwl8QAIjweHDhmvWY3',\n",
       "   'name': 'data/demanda-enre-2024-02-12T04-1077.txt.gz'},\n",
       "  {'kind': 'drive#file',\n",
       "   'mimeType': 'text/plain',\n",
       "   'id': '1SMuvQEC0GplMAw6VnUfW9pETsE2AuHiN',\n",
       "   'name': 'data/clima-enre-2024-02-12T02.txt.gz'},\n",
       "  {'kind': 'drive#file',\n",
       "   'mimeType': 'text/plain',\n",
       "   'id': '1vkUPH7bmNdF_J1hLQ2q85Sj3ozrRJJD3',\n",
       "   'name': 'data/demanda-enre-2024-02-11T17-1077.txt.gz'},\n",
       "  {'kind': 'drive#file',\n",
       "   'mimeType': 'text/plain',\n",
       "   'id': '1grzmolroM4Yj5ZgsLo4V2G8waMuERF30',\n",
       "   'name': 'data/clima-enre-2024-02-12T10.txt.gz'},\n",
       "  {'kind': 'drive#file',\n",
       "   'mimeType': 'text/plain',\n",
       "   'id': '1Rh7F1mk7V90cV2Cc0oXOaNHYaIeg4ISp',\n",
       "   'name': 'data/demanda-enre-2024-02-12T11-1077.txt.gz'},\n",
       "  {'kind': 'drive#file',\n",
       "   'mimeType': 'text/plain',\n",
       "   'id': '1nauLAGphpxLQGmjzDIdAajENYnza0QdS',\n",
       "   'name': 'data/demanda-enre-2024-02-12T05-1078.txt.gz'},\n",
       "  {'kind': 'drive#file',\n",
       "   'mimeType': 'text/plain',\n",
       "   'id': '1ZREIB63XJgu2H4nuEWs2DUt0k01nUf2p',\n",
       "   'name': 'data/clima-enre-2024-02-11T17.txt.gz'},\n",
       "  {'kind': 'drive#file',\n",
       "   'mimeType': 'text/plain',\n",
       "   'id': '1rtxF4yRANYJQNUl1Oexj8Dvhubw3yWyF',\n",
       "   'name': 'data/demanda-enre-2024-02-11T05-1077.txt'},\n",
       "  {'kind': 'drive#file',\n",
       "   'mimeType': 'text/plain',\n",
       "   'id': '14GLr_CepyaGgdOQe37h-3K_zeWj3e7JE',\n",
       "   'name': 'data/demanda-enre-2024-02-11T04-1077.txt'},\n",
       "  {'kind': 'drive#file',\n",
       "   'mimeType': 'text/plain',\n",
       "   'id': '1ZS7vfi14-qVd5WsdP5MCGDIaGYG7MWhu',\n",
       "   'name': 'data/clima-enre-2024-02-12T12.txt.gz'},\n",
       "  {'kind': 'drive#file',\n",
       "   'mimeType': 'text/plain',\n",
       "   'id': '1niKF92_MdTxRFpWvmBBqG7z_bUTtvzqg',\n",
       "   'name': 'data/demanda-enre-2024-02-12T14-1077.txt.gz'},\n",
       "  {'kind': 'drive#file',\n",
       "   'mimeType': 'text/plain',\n",
       "   'id': '1oBb_MSqf9cLZo-6NBZBGJvaBWbuBmkBb',\n",
       "   'name': 'data/clima-enre-2024-02-11T23.txt.gz'},\n",
       "  {'kind': 'drive#file',\n",
       "   'mimeType': 'text/plain',\n",
       "   'id': '1a41BW0YtWDbwdgXdHCQjVUvdwwquREx_',\n",
       "   'name': 'data/clima-enre-2024-02-12T00.txt.gz'},\n",
       "  {'kind': 'drive#file',\n",
       "   'mimeType': 'text/plain',\n",
       "   'id': '1JNOMXCeRm6iov8za07ZbRWbB4Kws9gNd',\n",
       "   'name': 'data/clima-enre-2024-02-11T19.txt.gz'},\n",
       "  {'kind': 'drive#file',\n",
       "   'mimeType': 'text/plain',\n",
       "   'id': '1ZtvAxTwApwrvnuFqBhGn2g5RDqoHYQY1',\n",
       "   'name': 'data/demanda-enre-2024-02-12T08-1077.txt.gz'},\n",
       "  {'kind': 'drive#file',\n",
       "   'mimeType': 'text/plain',\n",
       "   'id': '1yY044NgvLTb-eWvtvWqyS5NPBcWdn-_f',\n",
       "   'name': 'data/demanda-enre-2024-02-12T00-1078.txt.gz'},\n",
       "  {'kind': 'drive#file',\n",
       "   'mimeType': 'text/plain',\n",
       "   'id': '1L0rnnUx8JO1opeVIiWLh85F1sm7s4M9R',\n",
       "   'name': 'data/demanda-enre-2024-02-11T01-1078.txt'},\n",
       "  {'kind': 'drive#file',\n",
       "   'mimeType': 'text/plain',\n",
       "   'id': '12TmLM5GH6WGnN3aMaqcAVWYVMqdyZ240',\n",
       "   'name': 'data/demanda-enre-2024-02-11T20-1077.txt.gz'},\n",
       "  {'kind': 'drive#file',\n",
       "   'mimeType': 'text/plain',\n",
       "   'id': '1PoEt_AO6Zta9NJHX4LU-l0sVnQq6jcvL',\n",
       "   'name': 'data/clima-enre-2024-02-11T15.txt.gz'},\n",
       "  {'kind': 'drive#file',\n",
       "   'mimeType': 'text/plain',\n",
       "   'id': '1YI_hFfdiGQc3Wx32GC1HgB8BkzKj7ELs',\n",
       "   'name': 'data/cortes-enre-2024-02-12T09.txt.gz'},\n",
       "  {'kind': 'drive#file',\n",
       "   'mimeType': 'text/plain',\n",
       "   'id': '10fBeZdbuUe5qAbz9AR3L2zEr22PH3SvA',\n",
       "   'name': 'data/demanda-enre-2024-02-11T13-1078.txt.gz'},\n",
       "  {'kind': 'drive#file',\n",
       "   'mimeType': 'text/plain',\n",
       "   'id': '19HzmHExwHLWnaudrZzVLdpFxsiBlCeVo',\n",
       "   'name': 'data/cortes-enre-2024-02-12T05.txt.gz'},\n",
       "  {'kind': 'drive#file',\n",
       "   'mimeType': 'text/plain',\n",
       "   'id': '1uyPJ_TDsdJ6hKTtLFD3doGMK2NbRyRJ-',\n",
       "   'name': 'data/demanda-enre-2024-02-11T12-1077.txt'},\n",
       "  {'kind': 'drive#file',\n",
       "   'mimeType': 'text/plain',\n",
       "   'id': '1Sty2YvAC2BANqFX1L0AQ70gwjP-_84g7',\n",
       "   'name': 'data/demanda-enre-2024-02-11T13-1077.txt'},\n",
       "  {'kind': 'drive#file',\n",
       "   'mimeType': 'text/plain',\n",
       "   'id': '1e_ftxQs0NEWGEXyz6HrKrICh3oPZSICz',\n",
       "   'name': 'data/demanda-enre-2024-02-12T09-1078.txt.gz'},\n",
       "  {'kind': 'drive#file',\n",
       "   'mimeType': 'text/plain',\n",
       "   'id': '1ySXKv7oW7M93xWIsBowT7U_JpyFYCykS',\n",
       "   'name': 'data/demanda-enre-2024-02-12T01-1077.txt.gz'},\n",
       "  {'kind': 'drive#file',\n",
       "   'mimeType': 'text/plain',\n",
       "   'id': '1Umlulv0jBfpsY3-_90DWB_BUAKLECVry',\n",
       "   'name': 'data/demanda-enre-2024-02-12T12-1078.txt.gz'},\n",
       "  {'kind': 'drive#file',\n",
       "   'mimeType': 'text/plain',\n",
       "   'id': '1e7XcREf8IgJfJZbDmzv_pJmMYHSWpqIG',\n",
       "   'name': 'data/cortes-enre-2024-02-12T00.txt.gz'},\n",
       "  {'kind': 'drive#file',\n",
       "   'mimeType': 'text/plain',\n",
       "   'id': '1urak_ym-gfyTjdx6kEaFyEHeO3YYAS7d',\n",
       "   'name': 'data/demanda-enre-2024-02-11T14-1078.txt.gz'},\n",
       "  {'kind': 'drive#file',\n",
       "   'mimeType': 'text/plain',\n",
       "   'id': '1AYq_0Yjc9rMQYYNRHn-3VRpOGShWvZjr',\n",
       "   'name': 'data/cortes-enre-2024-02-11T23.txt.gz'},\n",
       "  {'kind': 'drive#file',\n",
       "   'mimeType': 'text/plain',\n",
       "   'id': '1GQ9kx4iaQsG39IA2e-gMrNVk4w4dqmmT',\n",
       "   'name': 'data/cortes-enre-2024-02-12T12.txt.gz'},\n",
       "  {'kind': 'drive#file',\n",
       "   'mimeType': 'text/plain',\n",
       "   'id': '1pazjn0yeuHJ65qroaGrKfxdghUYvvf_I',\n",
       "   'name': 'data/cortes-enre-2024-02-11T15.txt.gz'},\n",
       "  {'kind': 'drive#file',\n",
       "   'mimeType': 'text/plain',\n",
       "   'id': '1TA3w-QfchiAJXcQQQoEcZmkzcgZUV3hm',\n",
       "   'name': 'data/cortes-enre-2024-02-11T19.txt.gz'},\n",
       "  {'kind': 'drive#file',\n",
       "   'mimeType': 'text/plain',\n",
       "   'id': '14RxYNc-K4di8K42N6laSvUjWSIgaAk55',\n",
       "   'name': 'data/demanda-enre-2024-02-11T01-1077.txt'},\n",
       "  {'kind': 'drive#file',\n",
       "   'mimeType': 'text/plain',\n",
       "   'id': '1SLEQzwg4zIsldG0Mi5VmTfWaAVEfUT89',\n",
       "   'name': 'data/demanda-enre-2024-02-12T06-1077.txt.gz'},\n",
       "  {'kind': 'drive#file',\n",
       "   'mimeType': 'text/plain',\n",
       "   'id': '18lWCK2lDu9HMZRT4Yi59PZTOvZUKQvRF',\n",
       "   'name': 'data/clima-enre-2024-02-12T05.txt.gz'},\n",
       "  {'kind': 'drive#file',\n",
       "   'mimeType': 'text/plain',\n",
       "   'id': '1bu-VUCwPZU3IPzhR15uMFw_YO1a5tLhc',\n",
       "   'name': 'data/demanda-enre-2024-02-12T13-1077.txt.gz'},\n",
       "  {'kind': 'drive#file',\n",
       "   'mimeType': 'text/plain',\n",
       "   'id': '1Jyg3yU3p4oXvL_br5wNqDPAtrXBoCDUn',\n",
       "   'name': 'data/demanda-enre-2024-02-11T15-1077.txt.gz'},\n",
       "  {'kind': 'drive#file',\n",
       "   'mimeType': 'text/plain',\n",
       "   'id': '1hPplISc86KWcg-ZNRodlgBNT67N_xN2Z',\n",
       "   'name': 'data/clima-enre-2024-02-12T09.txt.gz'},\n",
       "  {'kind': 'drive#file',\n",
       "   'mimeType': 'text/plain',\n",
       "   'id': '1GUma3TP1DjVsUaLGtHQVTcRFAb5kMHjN',\n",
       "   'name': 'data/demanda-enre-2024-02-11T12-1078.txt'},\n",
       "  {'kind': 'drive#file',\n",
       "   'mimeType': 'text/plain',\n",
       "   'id': '1RfeJeoNIz6l2YvpUeaMnF3Cop2Jc6wm1',\n",
       "   'name': 'data/demanda-enre-2024-02-11T13-1078.txt'},\n",
       "  {'kind': 'drive#file',\n",
       "   'mimeType': 'text/plain',\n",
       "   'id': '1JJ81Rfk0ITwKMGayWGXJu5Zv-s0u-xwk',\n",
       "   'name': 'data/demanda-enre-2024-02-12T07-1078.txt.gz'},\n",
       "  {'kind': 'drive#file',\n",
       "   'mimeType': 'text/plain',\n",
       "   'id': '1zcrBjZ9e85BGFJwAuTAjM7Pv9SnWmdBO',\n",
       "   'name': 'data/demanda-enre-2024-02-11T18-1078.txt.gz'},\n",
       "  {'kind': 'drive#file',\n",
       "   'mimeType': 'text/plain',\n",
       "   'id': '1oF_Wiw4kI9_4wYaPASfCHz7zebTICN0O',\n",
       "   'name': 'data/clima-enre-2024-02-12T07.txt.gz'},\n",
       "  {'kind': 'drive#file',\n",
       "   'mimeType': 'text/plain',\n",
       "   'id': '1Wpgvsw3K1PojaI5-yqGAPlZOU611ldDu',\n",
       "   'name': 'data/demanda-enre-2024-02-12T02-1078.txt.gz'},\n",
       "  {'kind': 'drive#file',\n",
       "   'mimeType': 'text/plain',\n",
       "   'id': '1kMOTl4qIOmw0NRyc5WAJ_bdYgPi0kgTV',\n",
       "   'name': 'data/demanda-enre-2024-02-11T22-1077.txt.gz'},\n",
       "  {'kind': 'drive#file',\n",
       "   'mimeType': 'text/plain',\n",
       "   'id': '1ULbaCK5lr9GYlSbgcIhQi7funhgYgrv2',\n",
       "   'name': 'data/cortes-enre-2024-02-12T10.txt.gz'},\n",
       "  {'kind': 'drive#file',\n",
       "   'mimeType': 'text/plain',\n",
       "   'id': '1H1hZ9RjZ0uvAfVQmyYQHGLG9tXEr-R9Y',\n",
       "   'name': 'data/demanda-enre-2024-02-11T19-1077.txt.gz'},\n",
       "  {'kind': 'drive#file',\n",
       "   'mimeType': 'text/plain',\n",
       "   'id': '1GxeNlC0IQQU2lhXgXN7urkO0y8l3y2C2',\n",
       "   'name': 'data/cortes-enre-2024-02-12T02.txt.gz'},\n",
       "  {'kind': 'drive#file',\n",
       "   'mimeType': 'text/plain',\n",
       "   'id': '1JF25NG3INna2Hz8zSiUVLt5V6ha2XoG_',\n",
       "   'name': 'data/demanda-enre-2024-02-11T23-1078.txt.gz'},\n",
       "  {'kind': 'drive#file',\n",
       "   'mimeType': 'text/plain',\n",
       "   'id': '1h0jMJeZjk_J9qpG9zl-ng3EiV1ZcKb8f',\n",
       "   'name': 'data/demanda-enre-2024-02-12T03-1077.txt.gz'},\n",
       "  {'kind': 'drive#file',\n",
       "   'mimeType': 'text/plain',\n",
       "   'id': '1thQfgpbdtTnwBRCYYVJZqt5Pdxr5Pu5M',\n",
       "   'name': 'data/cortes-enre-2024-02-11T17.txt.gz'},\n",
       "  {'kind': 'drive#file',\n",
       "   'mimeType': 'text/plain',\n",
       "   'id': '1eMpQZWixqIwKa0hT1bRUvLIP54w7WKn2',\n",
       "   'name': 'data/demanda-enre-2024-02-11T05-1078.txt'},\n",
       "  {'kind': 'drive#file',\n",
       "   'mimeType': 'text/plain',\n",
       "   'id': '1XfEMfk4-ifZFWrdOWsJfntl_CDEz1oUT',\n",
       "   'name': 'data/demanda-enre-2024-02-11T04-1078.txt'},\n",
       "  {'kind': 'drive#file',\n",
       "   'mimeType': 'text/plain',\n",
       "   'id': '1MrQ4vrtx8cG8Ika--V9VDp7rl7tCKPM3',\n",
       "   'name': 'data/clima-enre-2024-02-11T16.txt.gz'},\n",
       "  {'kind': 'drive#file',\n",
       "   'mimeType': 'text/plain',\n",
       "   'id': '1yhpxiQ61E3rg4Bny9hCJSYSiUHaet_ZZ',\n",
       "   'name': 'data/cortes-enre-2024-02-11T04.txt'},\n",
       "  {'kind': 'drive#file',\n",
       "   'mimeType': 'text/plain',\n",
       "   'id': '1ksKplkNsoxi5e7_lyM3Q2h8l3iz3_nBQ',\n",
       "   'name': 'data/cortes-enre-2024-02-11T10.txt'},\n",
       "  {'kind': 'drive#file',\n",
       "   'mimeType': 'text/plain',\n",
       "   'id': '1RXNtpMVxHpZJCgdUtwB9rw2i8XhU_zSz',\n",
       "   'name': 'data/demanda-enre-2024-02-12T00-1077.txt.gz'},\n",
       "  {'kind': 'drive#file',\n",
       "   'mimeType': 'text/plain',\n",
       "   'id': '1FeV3fqXbw0gznJvvZsM-sLQOArWpXynZ',\n",
       "   'name': 'data/demanda-enre-2024-02-11T20-1078.txt.gz'},\n",
       "  {'kind': 'drive#file',\n",
       "   'mimeType': 'text/plain',\n",
       "   'id': '1Dq-FyF4K0QgX2vp8dafne4TdS2nm3pV9',\n",
       "   'name': 'data/demanda-enre-2024-02-12T08-1078.txt.gz'}]}"
      ]
     },
     "execution_count": 38,
     "metadata": {},
     "output_type": "execute_result"
    }
   ],
   "source": [
    "response = new_prod_drive_service.files().list().execute()\n",
    "response"
   ]
  },
  {
   "cell_type": "code",
   "execution_count": 41,
   "id": "0f6243a7",
   "metadata": {},
   "outputs": [
    {
     "name": "stdout",
     "output_type": "stream",
     "text": [
      "a\n",
      "a\n"
     ]
    }
   ],
   "source": [
    "all_files = []\n",
    "page_token = None\n",
    "while True:\n",
    "    print('a')\n",
    "    response = new_prod_drive_service.files().list(pageToken=page_token).execute()\n",
    "    all_files.extend(response['files'])\n",
    "    if 'nextPageToken' not in response: break\n",
    "    page_token = response['nextPageToken']"
   ]
  },
  {
   "cell_type": "code",
   "execution_count": 42,
   "id": "cf5f7d45",
   "metadata": {},
   "outputs": [
    {
     "data": {
      "text/plain": [
       "144"
      ]
     },
     "execution_count": 42,
     "metadata": {},
     "output_type": "execute_result"
    }
   ],
   "source": [
    "len(all_files)"
   ]
  }
 ],
 "metadata": {
  "kernelspec": {
   "display_name": "Python 3 (ipykernel)",
   "language": "python",
   "name": "python3"
  },
  "language_info": {
   "codemirror_mode": {
    "name": "ipython",
    "version": 3
   },
   "file_extension": ".py",
   "mimetype": "text/x-python",
   "name": "python",
   "nbconvert_exporter": "python",
   "pygments_lexer": "ipython3",
   "version": "3.9.12"
  }
 },
 "nbformat": 4,
 "nbformat_minor": 5
}
