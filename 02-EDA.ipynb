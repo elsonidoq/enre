{
 "cells": [
  {
   "cell_type": "code",
   "execution_count": 1,
   "id": "b759e1bf",
   "metadata": {},
   "outputs": [],
   "source": [
    "def parse_demanda(fname):\n",
    "    region = int(fname.split('-')[-1].split('.')[0])\n",
    "    open_func = gzip.open if fname.endswith('gz') else open\n",
    "    \n",
    "    with open_func(fname) as f:\n",
    "        res = json.load(f)\n",
    "        for doc in res:\n",
    "            doc['region'] = region\n",
    "            doc['fecha'] = datetime.strptime(doc['fecha'][:19], '%Y-%m-%dT%H:%M:%S')\n",
    "    return res"
   ]
  },
  {
   "cell_type": "code",
   "execution_count": 2,
   "id": "3f25b6bb",
   "metadata": {},
   "outputs": [],
   "source": [
    "from datetime import timedelta, datetime\n",
    "import gzip\n",
    "\n",
    "def parse_clima(fname):\n",
    "    open_func = gzip.open if fname.endswith('gz') else open\n",
    "\n",
    "    with open_func(fname) as f:\n",
    "        clima_content = f.read()\n",
    "    \n",
    "    if isinstance(clima_content, bytes): clima_content = clima_content.decode('utf8')\n",
    "        \n",
    "    data = clima_content.split(';')[0]\n",
    "    parsed_data = json.loads(data[6:].replace(\"'\", '\"'))\n",
    "    keys = ['hour', 'ufs_edesur', 'ufs_edenor', 'codigo', 'estado_cielo', 'temperatura']\n",
    "    parsed_data = [dict(zip(keys, row)) for row in parsed_data]\n",
    "\n",
    "    fname_date = parse_fname_date(fname)\n",
    "\n",
    "    hour, minute = map(int, parsed_data[-1]['hour'].split(':'))\n",
    "    parsed_data[-1]['datetime'] = fname_date.replace(hour=hour, minute=minute)\n",
    "\n",
    "    for i in range(len(parsed_data)-2, -1, -1):\n",
    "        current_row = parsed_data[i]\n",
    "        current_time = datetime.strptime(current_row['hour'], '%H:%M')\n",
    "\n",
    "        prev_row = parsed_data[i+1]\n",
    "        prev_time = datetime.strptime(prev_row['hour'], '%H:%M')\n",
    "\n",
    "        delta = (prev_time - current_time)\n",
    "        if delta.total_seconds() < 0:\n",
    "            delta += timedelta(days=1)\n",
    "\n",
    "        current_row['datetime'] = prev_row['datetime'] - delta\n",
    "    \n",
    "    return parsed_data"
   ]
  },
  {
   "cell_type": "code",
   "execution_count": 100,
   "id": "79635921",
   "metadata": {},
   "outputs": [],
   "source": [
    "import json\n",
    "import re\n",
    "import os\n",
    "from datetime import timedelta\n",
    "\n",
    "def parse_fname_date(fname):\n",
    "    date_pat = re.compile('(\\d{4}-\\d{2}-\\d{2}T\\d{2}:\\d{2})')\n",
    "    if date_pat.search(fname) is None:\n",
    "        raise ValueError('old fname')\n",
    "        \n",
    "    return datetime.strptime(date_pat.search(fname).group(0), '%Y-%m-%dT%H:%M')\n",
    "\n",
    "def parse_cortes(fname):\n",
    "    \"\"\"\n",
    "    convierte el json crudo de cortes en una lista de diccionarios (tambien parsea la descripccion)\n",
    "    \"\"\"\n",
    "    open_func = gzip.open if fname.endswith('gz') else open\n",
    "    with open_func(fname) as f:\n",
    "        contents = f.read()\n",
    "        \n",
    "    if len(contents) == 0: return []\n",
    "        \n",
    "    if isinstance(contents, bytes): contents = contents.decode('utf8')\n",
    "        \n",
    "    var_pat = re.compile('addressPoints_Cuadro_D.*?=.*?(?P<lista>.*?);?$')\n",
    "    lista = var_pat.search(contents).groupdict()['lista'].strip()[1:-1].strip()\n",
    "\n",
    "    corte_pat = re.compile('(\\[.*?\\])')\n",
    "    cortes = []\n",
    "    fname_date = parse_fname_date(fname)\n",
    "    keys = ['latitud', 'longitud', 'misc', 'descr']\n",
    "    for corte_match in corte_pat.finditer(lista):\n",
    "        corte = json.loads(corte_match.group(0))\n",
    "        corte = dict(zip(keys, corte))\n",
    "        \n",
    "        lines = corte['descr'].split(',')\n",
    "        descr_dict = {'tipo': lines[0], 'empresa': lines[1].strip()}\n",
    "        for line in lines[2:]:\n",
    "            colon_pos = line.find(':')\n",
    "            k = line[:colon_pos].strip()\n",
    "            v = line[colon_pos+1:].strip()\n",
    "            descr_dict[k.strip().lower()] = v.strip()\n",
    "\n",
    "        corte.update(descr_dict)\n",
    "        corte['fname_date'] = fname_date\n",
    "        if fname_date.minute > 30:\n",
    "            corte['date_hour'] = fname_date.replace(minute=0) + timedelta(hours=1)\n",
    "        else:\n",
    "            corte['date_hour'] = fname_date.replace(minute=0)\n",
    "\n",
    "        \n",
    "        cortes.append(corte)\n",
    "        \n",
    "    return cortes"
   ]
  },
  {
   "cell_type": "code",
   "execution_count": 101,
   "id": "e27634f8",
   "metadata": {},
   "outputs": [],
   "source": [
    "cortes = []\n",
    "demanda = []\n",
    "clima = []\n",
    "for fname in os.listdir('data'):\n",
    "    try:\n",
    "        parse_fname_date(fname)\n",
    "    except ValueError:\n",
    "        continue\n",
    "        \n",
    "    if fname.startswith('cortes'):\n",
    "        parsing_func = parse_cortes\n",
    "        output_list = cortes\n",
    "    elif fname.startswith('clima'):\n",
    "        parsing_func = parse_clima\n",
    "        output_list = clima\n",
    "    else:\n",
    "        parsing_func = parse_demanda\n",
    "        output_list = demanda\n",
    "        \n",
    "    fname = 'data/' + fname\n",
    "    output_list.extend(parsing_func(fname))\n",
    "    "
   ]
  },
  {
   "cell_type": "code",
   "execution_count": 232,
   "id": "5ada1db5",
   "metadata": {},
   "outputs": [
    {
     "data": {
      "text/html": [
       "<div>\n",
       "<style scoped>\n",
       "    .dataframe tbody tr th:only-of-type {\n",
       "        vertical-align: middle;\n",
       "    }\n",
       "\n",
       "    .dataframe tbody tr th {\n",
       "        vertical-align: top;\n",
       "    }\n",
       "\n",
       "    .dataframe thead th {\n",
       "        text-align: right;\n",
       "    }\n",
       "</style>\n",
       "<table border=\"1\" class=\"dataframe\">\n",
       "  <thead>\n",
       "    <tr style=\"text-align: right;\">\n",
       "      <th></th>\n",
       "      <th>fecha</th>\n",
       "      <th>region</th>\n",
       "      <th>dem</th>\n",
       "    </tr>\n",
       "  </thead>\n",
       "  <tbody>\n",
       "    <tr>\n",
       "      <th>0</th>\n",
       "      <td>2024-03-03 00:00:00</td>\n",
       "      <td>1077</td>\n",
       "      <td>2814</td>\n",
       "    </tr>\n",
       "    <tr>\n",
       "      <th>1</th>\n",
       "      <td>2024-03-03 00:05:00</td>\n",
       "      <td>1077</td>\n",
       "      <td>2794</td>\n",
       "    </tr>\n",
       "    <tr>\n",
       "      <th>2</th>\n",
       "      <td>2024-03-03 00:10:00</td>\n",
       "      <td>1077</td>\n",
       "      <td>2771</td>\n",
       "    </tr>\n",
       "    <tr>\n",
       "      <th>3</th>\n",
       "      <td>2024-03-03 00:15:00</td>\n",
       "      <td>1077</td>\n",
       "      <td>2737</td>\n",
       "    </tr>\n",
       "    <tr>\n",
       "      <th>4</th>\n",
       "      <td>2024-03-03 00:20:00</td>\n",
       "      <td>1077</td>\n",
       "      <td>2717</td>\n",
       "    </tr>\n",
       "  </tbody>\n",
       "</table>\n",
       "</div>"
      ],
      "text/plain": [
       "                fecha  region   dem\n",
       "0 2024-03-03 00:00:00    1077  2814\n",
       "1 2024-03-03 00:05:00    1077  2794\n",
       "2 2024-03-03 00:10:00    1077  2771\n",
       "3 2024-03-03 00:15:00    1077  2737\n",
       "4 2024-03-03 00:20:00    1077  2717"
      ]
     },
     "execution_count": 232,
     "metadata": {},
     "output_type": "execute_result"
    }
   ],
   "source": [
    "import pandas as pd\n",
    "\n",
    "demanda_df = pd.DataFrame(demanda)\n",
    "demanda_df.drop_duplicates(subset=['fecha', 'region'], inplace=True)\n",
    "demanda_df['fecha'] = demanda_df.fecha.apply(lambda x: x - timedelta(days=1))\n",
    "demanda_df['dem'] = demanda_df.demAyer\n",
    "demanda_df.drop(columns=['demHoy', 'demAyer', 'demSemanaAnt'], inplace=True)\n",
    "demanda_df.head()"
   ]
  },
  {
   "cell_type": "code",
   "execution_count": 233,
   "id": "4261490a",
   "metadata": {},
   "outputs": [
    {
     "data": {
      "text/plain": [
       "0 days 00:00:00    9506\n",
       "0 days 00:05:00    9504\n",
       "1 days 00:00:00       1\n",
       "Name: fecha, dtype: int64"
      ]
     },
     "execution_count": 233,
     "metadata": {},
     "output_type": "execute_result"
    }
   ],
   "source": [
    "demanda_df.fecha.sort_values().diff().value_counts()"
   ]
  },
  {
   "cell_type": "code",
   "execution_count": 104,
   "id": "c84e5469",
   "metadata": {},
   "outputs": [
    {
     "data": {
      "image/png": "[encoded data removed]",
      "text/plain": [
       "<Figure size 432x288 with 1 Axes>"
      ]
     },
     "metadata": {
      "needs_background": "light"
     },
     "output_type": "display_data"
    }
   ],
   "source": [
    "from collections import Counter\n",
    "import matplotlib.pyplot as plt\n",
    "\n",
    "\n",
    "x, y = zip(*sorted(Counter([e['date_hour'] for e in cortes]).items()))\n",
    "plt.plot(x, y, '-o')\n",
    "plt.xticks(rotation=45);"
   ]
  },
  {
   "cell_type": "code",
   "execution_count": 234,
   "id": "c6de037e",
   "metadata": {},
   "outputs": [
    {
     "data": {
      "text/plain": [
       "19012"
      ]
     },
     "execution_count": 234,
     "metadata": {},
     "output_type": "execute_result"
    }
   ],
   "source": [
    "len(demanda_df)"
   ]
  },
  {
   "cell_type": "code",
   "execution_count": 235,
   "id": "78950532",
   "metadata": {},
   "outputs": [],
   "source": [
    "region2str = {\n",
    "    1077: 'EDESUR',  1078: 'EDENOR', \n",
    "}"
   ]
  },
  {
   "cell_type": "code",
   "execution_count": 238,
   "id": "ee808087",
   "metadata": {},
   "outputs": [
    {
     "data": {
      "text/plain": [
       "<matplotlib.legend.Legend at 0x7fdad8f8eeb0>"
      ]
     },
     "execution_count": 238,
     "metadata": {},
     "output_type": "execute_result"
    },
    {
     "data": {
      "image/png": "[encoded data removed]",
      "text/plain": [
       "<Figure size 720x360 with 1 Axes>"
      ]
     },
     "metadata": {
      "needs_background": "light"
     },
     "output_type": "display_data"
    }
   ],
   "source": [
    "import matplotlib.pyplot as plt\n",
    "\n",
    "plt.figure(figsize=(10,5))\n",
    "\n",
    "plt.title('Demanda por hora')\n",
    "for region in demanda_df.region.unique():\n",
    "    demanda_df[demanda_df.region==region].set_index('fecha').dem.plot(label=region2str[region])\n",
    "    \n",
    "plt.legend(loc='best')"
   ]
  },
  {
   "cell_type": "code",
   "execution_count": 239,
   "id": "cac68f31",
   "metadata": {},
   "outputs": [],
   "source": [
    "cortes_df = pd.DataFrame(cortes)\n",
    "cortes_df['usuarios afectados'] = cortes_df['usuarios afectados'].apply(int)\n",
    "cortes_df['region'] = cortes_df.empresa.apply(lambda e: 1077 if e == 'EDESUR S.A.' else 1078)\n"
   ]
  },
  {
   "cell_type": "code",
   "execution_count": 240,
   "id": "c362e6cb",
   "metadata": {},
   "outputs": [
    {
     "data": {
      "text/plain": [
       "0 days 15:00:00      1\n",
       "0 days 07:00:00      1\n",
       "0 days 02:00:00     10\n",
       "0 days 01:00:00    771\n",
       "Name: date_hour, dtype: int64"
      ]
     },
     "execution_count": 240,
     "metadata": {},
     "output_type": "execute_result"
    }
   ],
   "source": [
    "s = cortes_df.date_hour.sort_values().diff().value_counts()[1:].sort_values()\n",
    "s"
   ]
  },
  {
   "cell_type": "code",
   "execution_count": 241,
   "id": "7ba48854",
   "metadata": {},
   "outputs": [],
   "source": [
    "clima_df = pd.DataFrame(clima)\n",
    "clima_df['date_hour'] = clima_df.datetime.apply(lambda x: x.replace(minute=0))\n",
    "clima_df['temperatura'] = clima_df['temperatura'].astype('int')"
   ]
  },
  {
   "cell_type": "code",
   "execution_count": 242,
   "id": "3cecfca7",
   "metadata": {},
   "outputs": [
    {
     "data": {
      "text/html": [
       "<div>\n",
       "<style scoped>\n",
       "    .dataframe tbody tr th:only-of-type {\n",
       "        vertical-align: middle;\n",
       "    }\n",
       "\n",
       "    .dataframe tbody tr th {\n",
       "        vertical-align: top;\n",
       "    }\n",
       "\n",
       "    .dataframe thead th {\n",
       "        text-align: right;\n",
       "    }\n",
       "</style>\n",
       "<table border=\"1\" class=\"dataframe\">\n",
       "  <thead>\n",
       "    <tr style=\"text-align: right;\">\n",
       "      <th></th>\n",
       "      <th>hour</th>\n",
       "      <th>ufs_edesur</th>\n",
       "      <th>ufs_edenor</th>\n",
       "      <th>codigo</th>\n",
       "      <th>estado_cielo</th>\n",
       "      <th>temperatura</th>\n",
       "      <th>datetime</th>\n",
       "      <th>date_hour</th>\n",
       "    </tr>\n",
       "  </thead>\n",
       "  <tbody>\n",
       "    <tr>\n",
       "      <th>0</th>\n",
       "      <td>19:55</td>\n",
       "      <td>3732</td>\n",
       "      <td>3137</td>\n",
       "      <td>04d</td>\n",
       "      <td>Muy Nuboso</td>\n",
       "      <td>24</td>\n",
       "      <td>2024-02-26 19:55:00</td>\n",
       "      <td>2024-02-26 19:00:00</td>\n",
       "    </tr>\n",
       "    <tr>\n",
       "      <th>1</th>\n",
       "      <td>20:00</td>\n",
       "      <td>3732</td>\n",
       "      <td>3137</td>\n",
       "      <td>04d</td>\n",
       "      <td>Muy Nuboso</td>\n",
       "      <td>24</td>\n",
       "      <td>2024-02-26 20:00:00</td>\n",
       "      <td>2024-02-26 20:00:00</td>\n",
       "    </tr>\n",
       "    <tr>\n",
       "      <th>2</th>\n",
       "      <td>20:05</td>\n",
       "      <td>3732</td>\n",
       "      <td>3137</td>\n",
       "      <td>04d</td>\n",
       "      <td>Muy Nuboso</td>\n",
       "      <td>24</td>\n",
       "      <td>2024-02-26 20:05:00</td>\n",
       "      <td>2024-02-26 20:00:00</td>\n",
       "    </tr>\n",
       "    <tr>\n",
       "      <th>3</th>\n",
       "      <td>20:10</td>\n",
       "      <td>3732</td>\n",
       "      <td>3137</td>\n",
       "      <td>04d</td>\n",
       "      <td>Muy Nuboso</td>\n",
       "      <td>24</td>\n",
       "      <td>2024-02-26 20:10:00</td>\n",
       "      <td>2024-02-26 20:00:00</td>\n",
       "    </tr>\n",
       "    <tr>\n",
       "      <th>4</th>\n",
       "      <td>20:15</td>\n",
       "      <td>3732</td>\n",
       "      <td>3137</td>\n",
       "      <td>04d</td>\n",
       "      <td>Muy Nuboso</td>\n",
       "      <td>24</td>\n",
       "      <td>2024-02-26 20:15:00</td>\n",
       "      <td>2024-02-26 20:00:00</td>\n",
       "    </tr>\n",
       "  </tbody>\n",
       "</table>\n",
       "</div>"
      ],
      "text/plain": [
       "    hour  ufs_edesur  ufs_edenor codigo estado_cielo  temperatura  \\\n",
       "0  19:55        3732        3137    04d  Muy Nuboso            24   \n",
       "1  20:00        3732        3137    04d  Muy Nuboso            24   \n",
       "2  20:05        3732        3137    04d  Muy Nuboso            24   \n",
       "3  20:10        3732        3137    04d  Muy Nuboso            24   \n",
       "4  20:15        3732        3137    04d  Muy Nuboso            24   \n",
       "\n",
       "             datetime           date_hour  \n",
       "0 2024-02-26 19:55:00 2024-02-26 19:00:00  \n",
       "1 2024-02-26 20:00:00 2024-02-26 20:00:00  \n",
       "2 2024-02-26 20:05:00 2024-02-26 20:00:00  \n",
       "3 2024-02-26 20:10:00 2024-02-26 20:00:00  \n",
       "4 2024-02-26 20:15:00 2024-02-26 20:00:00  "
      ]
     },
     "execution_count": 242,
     "metadata": {},
     "output_type": "execute_result"
    }
   ],
   "source": [
    "clima_df.head()"
   ]
  },
  {
   "cell_type": "code",
   "execution_count": 243,
   "id": "46c1313c",
   "metadata": {},
   "outputs": [],
   "source": [
    "clima_df_hour = (\n",
    "    clima_df.groupby('date_hour')\n",
    "            .agg({'estado_cielo': pd.Series.mode, 'ufs_edesur': 'mean', \n",
    "                  'ufs_edenor': 'mean', 'temperatura': 'mean'})\n",
    "           .reset_index()\n",
    ")"
   ]
  },
  {
   "cell_type": "code",
   "execution_count": 244,
   "id": "e09d0055",
   "metadata": {},
   "outputs": [
    {
     "data": {
      "text/plain": [
       "802"
      ]
     },
     "execution_count": 244,
     "metadata": {},
     "output_type": "execute_result"
    }
   ],
   "source": [
    "len(clima_df_hour)"
   ]
  },
  {
   "cell_type": "code",
   "execution_count": 248,
   "id": "41634e0d",
   "metadata": {},
   "outputs": [
    {
     "data": {
      "text/html": [
       "<div>\n",
       "<style scoped>\n",
       "    .dataframe tbody tr th:only-of-type {\n",
       "        vertical-align: middle;\n",
       "    }\n",
       "\n",
       "    .dataframe tbody tr th {\n",
       "        vertical-align: top;\n",
       "    }\n",
       "\n",
       "    .dataframe thead th {\n",
       "        text-align: right;\n",
       "    }\n",
       "</style>\n",
       "<table border=\"1\" class=\"dataframe\">\n",
       "  <thead>\n",
       "    <tr style=\"text-align: right;\">\n",
       "      <th></th>\n",
       "      <th>date_hour</th>\n",
       "      <th>estado_cielo</th>\n",
       "      <th>ufs_edesur</th>\n",
       "      <th>ufs_edenor</th>\n",
       "      <th>temperatura</th>\n",
       "    </tr>\n",
       "  </thead>\n",
       "  <tbody>\n",
       "    <tr>\n",
       "      <th>0</th>\n",
       "      <td>2024-02-11 15:00:00</td>\n",
       "      <td>Cielo Claro</td>\n",
       "      <td>24617.105263</td>\n",
       "      <td>2647.0</td>\n",
       "      <td>33.105263</td>\n",
       "    </tr>\n",
       "    <tr>\n",
       "      <th>1</th>\n",
       "      <td>2024-02-11 16:00:00</td>\n",
       "      <td>Nubes Dispersas</td>\n",
       "      <td>18497.666667</td>\n",
       "      <td>2647.0</td>\n",
       "      <td>32.416667</td>\n",
       "    </tr>\n",
       "    <tr>\n",
       "      <th>2</th>\n",
       "      <td>2024-02-11 17:00:00</td>\n",
       "      <td>Nubes Dispersas</td>\n",
       "      <td>17725.666667</td>\n",
       "      <td>2647.0</td>\n",
       "      <td>32.000000</td>\n",
       "    </tr>\n",
       "    <tr>\n",
       "      <th>3</th>\n",
       "      <td>2024-02-11 18:00:00</td>\n",
       "      <td>Algo De Nubes</td>\n",
       "      <td>16190.750000</td>\n",
       "      <td>2647.0</td>\n",
       "      <td>32.000000</td>\n",
       "    </tr>\n",
       "    <tr>\n",
       "      <th>4</th>\n",
       "      <td>2024-02-11 19:00:00</td>\n",
       "      <td>Cielo Claro</td>\n",
       "      <td>24054.750000</td>\n",
       "      <td>3202.5</td>\n",
       "      <td>31.166667</td>\n",
       "    </tr>\n",
       "  </tbody>\n",
       "</table>\n",
       "</div>"
      ],
      "text/plain": [
       "            date_hour      estado_cielo    ufs_edesur  ufs_edenor  temperatura\n",
       "0 2024-02-11 15:00:00      Cielo Claro   24617.105263      2647.0    33.105263\n",
       "1 2024-02-11 16:00:00  Nubes Dispersas   18497.666667      2647.0    32.416667\n",
       "2 2024-02-11 17:00:00  Nubes Dispersas   17725.666667      2647.0    32.000000\n",
       "3 2024-02-11 18:00:00    Algo De Nubes   16190.750000      2647.0    32.000000\n",
       "4 2024-02-11 19:00:00      Cielo Claro   24054.750000      3202.5    31.166667"
      ]
     },
     "execution_count": 248,
     "metadata": {},
     "output_type": "execute_result"
    }
   ],
   "source": [
    "clima_df_hour.head()"
   ]
  },
  {
   "cell_type": "code",
   "execution_count": 249,
   "id": "c5dad145",
   "metadata": {},
   "outputs": [],
   "source": [
    "demanda_df['date_hour'] = demanda_df.fecha.apply(lambda x: x.replace(minute=0))\n",
    "demanda_df_hour = (\n",
    "    demanda_df.groupby(['date_hour', 'region'])\n",
    "            .agg({'dem': 'mean'})\n",
    "            .reset_index()\n",
    ")"
   ]
  },
  {
   "cell_type": "code",
   "execution_count": 263,
   "id": "5145046b",
   "metadata": {},
   "outputs": [],
   "source": [
    "merged = (\n",
    "    cortes_df.merge(clima_df_hour, left_on='date_hour', right_on='date_hour')\n",
    "             .merge(demanda_df_hour, left_on=('date_hour', 'region'), right_on=('date_hour', 'region'))\n",
    ")"
   ]
  },
  {
   "cell_type": "code",
   "execution_count": 264,
   "id": "6324c02e",
   "metadata": {},
   "outputs": [
    {
     "data": {
      "text/plain": [
       "(481339, 19584, 438179)"
      ]
     },
     "execution_count": 264,
     "metadata": {},
     "output_type": "execute_result"
    }
   ],
   "source": [
    "len(cortes_df), len(clima_df), len(merged)"
   ]
  },
  {
   "cell_type": "code",
   "execution_count": 265,
   "id": "c094e6a3",
   "metadata": {},
   "outputs": [
    {
     "data": {
      "text/plain": [
       "0"
      ]
     },
     "execution_count": 265,
     "metadata": {},
     "output_type": "execute_result"
    }
   ],
   "source": [
    "merged['not_dem'] = merged.dem.isna()\n",
    "merged.not_dem.sum()"
   ]
  },
  {
   "cell_type": "code",
   "execution_count": 178,
   "id": "2c2173fe",
   "metadata": {},
   "outputs": [
    {
     "data": {
      "text/plain": [
       "13898"
      ]
     },
     "execution_count": 178,
     "metadata": {},
     "output_type": "execute_result"
    }
   ],
   "source": [
    "(len(cortes_df) - len(merged)) #/ len(cortes_df)"
   ]
  },
  {
   "cell_type": "code",
   "execution_count": 266,
   "id": "ccd35396",
   "metadata": {},
   "outputs": [],
   "source": [
    "merged = (\n",
    "    cortes_df.merge(demanda_df_hour, \n",
    "                    left_on=('date_hour', 'region'), right_on=('date_hour', 'region'), \n",
    "                    how='left')\n",
    "            #.merge(clima_df_hour, \n",
    "            #        left_on='date_hour', right_on='date_hour',how='left')\n",
    ")"
   ]
  },
  {
   "cell_type": "code",
   "execution_count": 267,
   "id": "358d84f3",
   "metadata": {},
   "outputs": [
    {
     "data": {
      "text/plain": [
       "36479"
      ]
     },
     "execution_count": 267,
     "metadata": {},
     "output_type": "execute_result"
    }
   ],
   "source": [
    "merged['not_dem'] = merged.dem.isna()\n",
    "merged.not_dem.sum()"
   ]
  },
  {
   "cell_type": "code",
   "execution_count": 268,
   "id": "0fbb0941",
   "metadata": {},
   "outputs": [
    {
     "data": {
      "text/plain": [
       "<AxesSubplot:xlabel='fname_date'>"
      ]
     },
     "execution_count": 268,
     "metadata": {},
     "output_type": "execute_result"
    },
    {
     "data": {
      "image/png": "[encoded data removed]",
      "text/plain": [
       "<Figure size 432x288 with 1 Axes>"
      ]
     },
     "metadata": {
      "needs_background": "light"
     },
     "output_type": "display_data"
    }
   ],
   "source": [
    "\n",
    "merged.groupby('fname_date').not_dem.sum().plot()"
   ]
  },
  {
   "cell_type": "code",
   "execution_count": 253,
   "id": "6f5ba948",
   "metadata": {},
   "outputs": [
    {
     "data": {
      "text/plain": [
       "(481339, 19584, 481339)"
      ]
     },
     "execution_count": 253,
     "metadata": {},
     "output_type": "execute_result"
    }
   ],
   "source": [
    "len(cortes_df), len(clima_df), len(merged)"
   ]
  },
  {
   "cell_type": "code",
   "execution_count": 254,
   "id": "8f4f1038",
   "metadata": {},
   "outputs": [
    {
     "data": {
      "text/plain": [
       "0"
      ]
     },
     "execution_count": 254,
     "metadata": {},
     "output_type": "execute_result"
    }
   ],
   "source": [
    "len(cortes_df) - len(merged)"
   ]
  },
  {
   "cell_type": "code",
   "execution_count": 255,
   "id": "75973d00",
   "metadata": {},
   "outputs": [
    {
     "data": {
      "text/plain": [
       "13722"
      ]
     },
     "execution_count": 255,
     "metadata": {},
     "output_type": "execute_result"
    }
   ],
   "source": [
    "merged['not_clima'] = merged.estado_cielo.isna()\n",
    "merged.not_clima.sum()"
   ]
  },
  {
   "cell_type": "code",
   "execution_count": 257,
   "id": "6a8ef564",
   "metadata": {},
   "outputs": [
    {
     "data": {
      "text/plain": [
       "36479"
      ]
     },
     "execution_count": 257,
     "metadata": {},
     "output_type": "execute_result"
    }
   ],
   "source": [
    "merged['not_dem'] = merged.dem.isna()\n",
    "merged.not_dem.sum()"
   ]
  },
  {
   "cell_type": "code",
   "execution_count": 172,
   "id": "f8db7f80",
   "metadata": {},
   "outputs": [
    {
     "data": {
      "text/plain": [
       "0.07850392343026433"
      ]
     },
     "execution_count": 172,
     "metadata": {},
     "output_type": "execute_result"
    }
   ],
   "source": [
    "37787 / len(merged) "
   ]
  },
  {
   "cell_type": "code",
   "execution_count": 144,
   "id": "7eee56e1",
   "metadata": {},
   "outputs": [
    {
     "data": {
      "text/plain": [
       "<AxesSubplot:xlabel='date_hour'>"
      ]
     },
     "execution_count": 144,
     "metadata": {},
     "output_type": "execute_result"
    },
    {
     "data": {
      "image/png": "[encoded data removed]",
      "text/plain": [
       "<Figure size 432x288 with 1 Axes>"
      ]
     },
     "metadata": {
      "needs_background": "light"
     },
     "output_type": "display_data"
    }
   ],
   "source": [
    "merged.groupby('date_hour').not_clima.sum().plot()"
   ]
  },
  {
   "cell_type": "code",
   "execution_count": 158,
   "id": "b88ce6c0",
   "metadata": {},
   "outputs": [
    {
     "data": {
      "text/plain": [
       "<AxesSubplot:xlabel='fname_date'>"
      ]
     },
     "execution_count": 158,
     "metadata": {},
     "output_type": "execute_result"
    },
    {
     "data": {
      "image/png": "[encoded data removed]",
      "text/plain": [
       "<Figure size 432x288 with 1 Axes>"
      ]
     },
     "metadata": {
      "needs_background": "light"
     },
     "output_type": "display_data"
    }
   ],
   "source": [
    "s = merged.groupby('fname_date').not_dem.sum()\n",
    "s.plot()"
   ]
  },
  {
   "cell_type": "code",
   "execution_count": 163,
   "id": "4fbf3c03",
   "metadata": {},
   "outputs": [
    {
     "data": {
      "text/plain": [
       "hour\n",
       "0     755\n",
       "1     792\n",
       "2     792\n",
       "3     792\n",
       "4     792\n",
       "5     792\n",
       "6     792\n",
       "7     792\n",
       "8     792\n",
       "9     792\n",
       "10    792\n",
       "11    792\n",
       "12    792\n",
       "13    792\n",
       "14    792\n",
       "15    786\n",
       "16    780\n",
       "17    780\n",
       "18    780\n",
       "19    780\n",
       "20    474\n",
       "21    342\n",
       "22      0\n",
       "23      0\n",
       "Name: demHoy, dtype: int64"
      ]
     },
     "execution_count": 163,
     "metadata": {},
     "output_type": "execute_result"
    }
   ],
   "source": [
    "demanda_df['hour'] = demanda_df.fecha.apply(lambda x:x.hour)\n",
    "demanda_df.groupby('hour').demHoy.count()"
   ]
  },
  {
   "cell_type": "code",
   "execution_count": 159,
   "id": "c8f27ca6",
   "metadata": {},
   "outputs": [
    {
     "data": {
      "text/plain": [
       "<AxesSubplot:xlabel='hour'>"
      ]
     },
     "execution_count": 159,
     "metadata": {},
     "output_type": "execute_result"
    },
    {
     "data": {
      "image/png": "[encoded data removed]",
      "text/plain": [
       "<Figure size 432x288 with 1 Axes>"
      ]
     },
     "metadata": {
      "needs_background": "light"
     },
     "output_type": "display_data"
    }
   ],
   "source": [
    "merged['hour'] = merged.fname_date.apply(lambda x: x.hour)\n",
    "s = merged.groupby('hour').not_dem.sum()\n",
    "s.plot()"
   ]
  },
  {
   "cell_type": "code",
   "execution_count": 157,
   "id": "e183d90a",
   "metadata": {},
   "outputs": [
    {
     "data": {
      "text/plain": [
       "<AxesSubplot:xlabel='date_hour'>"
      ]
     },
     "execution_count": 157,
     "metadata": {},
     "output_type": "execute_result"
    },
    {
     "data": {
      "image/png": "[encoded data removed]",
      "text/plain": [
       "<Figure size 432x288 with 1 Axes>"
      ]
     },
     "metadata": {
      "needs_background": "light"
     },
     "output_type": "display_data"
    }
   ],
   "source": [
    "s = merged.groupby('date_hour').not_dem.sum()[:60]\n",
    "s.plot()"
   ]
  },
  {
   "cell_type": "code",
   "execution_count": 153,
   "id": "d85cf658",
   "metadata": {},
   "outputs": [
    {
     "data": {
      "text/plain": [
       "[<matplotlib.lines.Line2D at 0x7fdb08d50c10>]"
      ]
     },
     "execution_count": 153,
     "metadata": {},
     "output_type": "execute_result"
    },
    {
     "data": {
      "image/png": "[encoded data removed]",
      "text/plain": [
       "<Figure size 432x288 with 1 Axes>"
      ]
     },
     "metadata": {
      "needs_background": "light"
     },
     "output_type": "display_data"
    }
   ],
   "source": [
    "plt.plot([s.autocorr(lag=i) for i in range(1, 100)])"
   ]
  },
  {
   "cell_type": "code",
   "execution_count": 134,
   "id": "6dac323c",
   "metadata": {},
   "outputs": [],
   "source": [
    "pd.options.display.max_columns = 1000"
   ]
  },
  {
   "cell_type": "code",
   "execution_count": 135,
   "id": "3a98a936",
   "metadata": {},
   "outputs": [
    {
     "data": {
      "text/html": [
       "<div>\n",
       "<style scoped>\n",
       "    .dataframe tbody tr th:only-of-type {\n",
       "        vertical-align: middle;\n",
       "    }\n",
       "\n",
       "    .dataframe tbody tr th {\n",
       "        vertical-align: top;\n",
       "    }\n",
       "\n",
       "    .dataframe thead th {\n",
       "        text-align: right;\n",
       "    }\n",
       "</style>\n",
       "<table border=\"1\" class=\"dataframe\">\n",
       "  <thead>\n",
       "    <tr style=\"text-align: right;\">\n",
       "      <th></th>\n",
       "      <th>latitud</th>\n",
       "      <th>longitud</th>\n",
       "      <th>misc</th>\n",
       "      <th>descr</th>\n",
       "      <th>tipo</th>\n",
       "      <th>empresa</th>\n",
       "      <th>partido</th>\n",
       "      <th>localidad</th>\n",
       "      <th>subestacion</th>\n",
       "      <th>alimentador</th>\n",
       "      <th>usuarios afectados</th>\n",
       "      <th>hora estimada de normalizacion</th>\n",
       "      <th>fname_date</th>\n",
       "      <th>date_hour</th>\n",
       "      <th>region</th>\n",
       "      <th>estado_cielo</th>\n",
       "      <th>ufs_edesur</th>\n",
       "      <th>ufs_edenor</th>\n",
       "      <th>temperatura</th>\n",
       "      <th>demHoy</th>\n",
       "      <th>demAyer</th>\n",
       "      <th>demSemanaAnt</th>\n",
       "    </tr>\n",
       "  </thead>\n",
       "  <tbody>\n",
       "    <tr>\n",
       "      <th>0</th>\n",
       "      <td>-34.801746</td>\n",
       "      <td>-58.276177</td>\n",
       "      <td>11</td>\n",
       "      <td>&lt;b&gt;CORTE DE MEDIA TENSION&lt;/b&gt;, EDESUR S.A., Pa...</td>\n",
       "      <td>&lt;b&gt;CORTE DE MEDIA TENSION&lt;/b&gt;</td>\n",
       "      <td>EDESUR S.A.</td>\n",
       "      <td>FLORENCIO VARELA</td>\n",
       "      <td>FLORENCIO VARELA</td>\n",
       "      <td>S/D</td>\n",
       "      <td>R:286-5-52/286-5-52</td>\n",
       "      <td>441</td>\n",
       "      <td>Sin datos</td>\n",
       "      <td>2024-03-07 17:18:00</td>\n",
       "      <td>2024-03-07 17:00:00</td>\n",
       "      <td>1077</td>\n",
       "      <td>Cielo Claro</td>\n",
       "      <td>4283.833333</td>\n",
       "      <td>887.583333</td>\n",
       "      <td>27.916667</td>\n",
       "      <td>3518.333333</td>\n",
       "      <td>3084.25</td>\n",
       "      <td>4071.75</td>\n",
       "    </tr>\n",
       "    <tr>\n",
       "      <th>1</th>\n",
       "      <td>-34.800887</td>\n",
       "      <td>-58.271918</td>\n",
       "      <td>11</td>\n",
       "      <td>&lt;b&gt;CORTE DE MEDIA TENSION&lt;/b&gt;, EDESUR S.A., Pa...</td>\n",
       "      <td>&lt;b&gt;CORTE DE MEDIA TENSION&lt;/b&gt;</td>\n",
       "      <td>EDESUR S.A.</td>\n",
       "      <td>FLORENCIO VARELA</td>\n",
       "      <td>FLORENCIO VARELA</td>\n",
       "      <td>S/D</td>\n",
       "      <td>R:286-5-52/286-5-52</td>\n",
       "      <td>418</td>\n",
       "      <td>Sin datos</td>\n",
       "      <td>2024-03-07 17:18:00</td>\n",
       "      <td>2024-03-07 17:00:00</td>\n",
       "      <td>1077</td>\n",
       "      <td>Cielo Claro</td>\n",
       "      <td>4283.833333</td>\n",
       "      <td>887.583333</td>\n",
       "      <td>27.916667</td>\n",
       "      <td>3518.333333</td>\n",
       "      <td>3084.25</td>\n",
       "      <td>4071.75</td>\n",
       "    </tr>\n",
       "    <tr>\n",
       "      <th>2</th>\n",
       "      <td>-34.611951</td>\n",
       "      <td>-58.429488</td>\n",
       "      <td>11</td>\n",
       "      <td>&lt;b&gt;CORTE DE MEDIA TENSION&lt;/b&gt;, EDESUR S.A., Pa...</td>\n",
       "      <td>&lt;b&gt;CORTE DE MEDIA TENSION&lt;/b&gt;</td>\n",
       "      <td>EDESUR S.A.</td>\n",
       "      <td>CAPITAL GP</td>\n",
       "      <td>ALMAGRO</td>\n",
       "      <td>CABALLITO</td>\n",
       "      <td>R:122-4-45/122-4-45</td>\n",
       "      <td>1</td>\n",
       "      <td>2024-03-07 18:30</td>\n",
       "      <td>2024-03-07 17:18:00</td>\n",
       "      <td>2024-03-07 17:00:00</td>\n",
       "      <td>1077</td>\n",
       "      <td>Cielo Claro</td>\n",
       "      <td>4283.833333</td>\n",
       "      <td>887.583333</td>\n",
       "      <td>27.916667</td>\n",
       "      <td>3518.333333</td>\n",
       "      <td>3084.25</td>\n",
       "      <td>4071.75</td>\n",
       "    </tr>\n",
       "    <tr>\n",
       "      <th>3</th>\n",
       "      <td>-34.730665</td>\n",
       "      <td>-58.456921</td>\n",
       "      <td>11</td>\n",
       "      <td>&lt;b&gt;CORTE DE MEDIA TENSION&lt;/b&gt;, EDESUR S.A., Pa...</td>\n",
       "      <td>&lt;b&gt;CORTE DE MEDIA TENSION&lt;/b&gt;</td>\n",
       "      <td>EDESUR S.A.</td>\n",
       "      <td>LOMAS DE ZAMORA</td>\n",
       "      <td>INGENIERO BUDGE</td>\n",
       "      <td>TRANSRADIO</td>\n",
       "      <td>R:281-2-22/281-2-22</td>\n",
       "      <td>239</td>\n",
       "      <td>2024-03-07 17:44</td>\n",
       "      <td>2024-03-07 17:18:00</td>\n",
       "      <td>2024-03-07 17:00:00</td>\n",
       "      <td>1077</td>\n",
       "      <td>Cielo Claro</td>\n",
       "      <td>4283.833333</td>\n",
       "      <td>887.583333</td>\n",
       "      <td>27.916667</td>\n",
       "      <td>3518.333333</td>\n",
       "      <td>3084.25</td>\n",
       "      <td>4071.75</td>\n",
       "    </tr>\n",
       "    <tr>\n",
       "      <th>4</th>\n",
       "      <td>-34.731269</td>\n",
       "      <td>-58.456457</td>\n",
       "      <td>11</td>\n",
       "      <td>&lt;b&gt;CORTE DE MEDIA TENSION&lt;/b&gt;, EDESUR S.A., Pa...</td>\n",
       "      <td>&lt;b&gt;CORTE DE MEDIA TENSION&lt;/b&gt;</td>\n",
       "      <td>EDESUR S.A.</td>\n",
       "      <td>LOMAS DE ZAMORA</td>\n",
       "      <td>ZONA RURAL</td>\n",
       "      <td>TRANSRADIO</td>\n",
       "      <td>R:281-2-22/281-2-22</td>\n",
       "      <td>254</td>\n",
       "      <td>2024-03-07 17:44</td>\n",
       "      <td>2024-03-07 17:18:00</td>\n",
       "      <td>2024-03-07 17:00:00</td>\n",
       "      <td>1077</td>\n",
       "      <td>Cielo Claro</td>\n",
       "      <td>4283.833333</td>\n",
       "      <td>887.583333</td>\n",
       "      <td>27.916667</td>\n",
       "      <td>3518.333333</td>\n",
       "      <td>3084.25</td>\n",
       "      <td>4071.75</td>\n",
       "    </tr>\n",
       "  </tbody>\n",
       "</table>\n",
       "</div>"
      ],
      "text/plain": [
       "     latitud   longitud  misc  \\\n",
       "0 -34.801746 -58.276177    11   \n",
       "1 -34.800887 -58.271918    11   \n",
       "2 -34.611951 -58.429488    11   \n",
       "3 -34.730665 -58.456921    11   \n",
       "4 -34.731269 -58.456457    11   \n",
       "\n",
       "                                               descr  \\\n",
       "0  <b>CORTE DE MEDIA TENSION</b>, EDESUR S.A., Pa...   \n",
       "1  <b>CORTE DE MEDIA TENSION</b>, EDESUR S.A., Pa...   \n",
       "2  <b>CORTE DE MEDIA TENSION</b>, EDESUR S.A., Pa...   \n",
       "3  <b>CORTE DE MEDIA TENSION</b>, EDESUR S.A., Pa...   \n",
       "4  <b>CORTE DE MEDIA TENSION</b>, EDESUR S.A., Pa...   \n",
       "\n",
       "                            tipo      empresa           partido  \\\n",
       "0  <b>CORTE DE MEDIA TENSION</b>  EDESUR S.A.  FLORENCIO VARELA   \n",
       "1  <b>CORTE DE MEDIA TENSION</b>  EDESUR S.A.  FLORENCIO VARELA   \n",
       "2  <b>CORTE DE MEDIA TENSION</b>  EDESUR S.A.        CAPITAL GP   \n",
       "3  <b>CORTE DE MEDIA TENSION</b>  EDESUR S.A.   LOMAS DE ZAMORA   \n",
       "4  <b>CORTE DE MEDIA TENSION</b>  EDESUR S.A.   LOMAS DE ZAMORA   \n",
       "\n",
       "          localidad subestacion          alimentador  usuarios afectados  \\\n",
       "0  FLORENCIO VARELA         S/D  R:286-5-52/286-5-52                 441   \n",
       "1  FLORENCIO VARELA         S/D  R:286-5-52/286-5-52                 418   \n",
       "2           ALMAGRO   CABALLITO  R:122-4-45/122-4-45                   1   \n",
       "3   INGENIERO BUDGE  TRANSRADIO  R:281-2-22/281-2-22                 239   \n",
       "4        ZONA RURAL  TRANSRADIO  R:281-2-22/281-2-22                 254   \n",
       "\n",
       "  hora estimada de normalizacion          fname_date           date_hour  \\\n",
       "0                      Sin datos 2024-03-07 17:18:00 2024-03-07 17:00:00   \n",
       "1                      Sin datos 2024-03-07 17:18:00 2024-03-07 17:00:00   \n",
       "2               2024-03-07 18:30 2024-03-07 17:18:00 2024-03-07 17:00:00   \n",
       "3               2024-03-07 17:44 2024-03-07 17:18:00 2024-03-07 17:00:00   \n",
       "4               2024-03-07 17:44 2024-03-07 17:18:00 2024-03-07 17:00:00   \n",
       "\n",
       "   region  estado_cielo   ufs_edesur  ufs_edenor  temperatura       demHoy  \\\n",
       "0    1077  Cielo Claro   4283.833333  887.583333    27.916667  3518.333333   \n",
       "1    1077  Cielo Claro   4283.833333  887.583333    27.916667  3518.333333   \n",
       "2    1077  Cielo Claro   4283.833333  887.583333    27.916667  3518.333333   \n",
       "3    1077  Cielo Claro   4283.833333  887.583333    27.916667  3518.333333   \n",
       "4    1077  Cielo Claro   4283.833333  887.583333    27.916667  3518.333333   \n",
       "\n",
       "   demAyer  demSemanaAnt  \n",
       "0  3084.25       4071.75  \n",
       "1  3084.25       4071.75  \n",
       "2  3084.25       4071.75  \n",
       "3  3084.25       4071.75  \n",
       "4  3084.25       4071.75  "
      ]
     },
     "execution_count": 135,
     "metadata": {},
     "output_type": "execute_result"
    }
   ],
   "source": [
    "merged.head()"
   ]
  },
  {
   "cell_type": "markdown",
   "id": "514dca41",
   "metadata": {},
   "source": [
    "# Preguntas\n",
    "\n",
    "1) Sube la demanda cuando aumenta la temperatura?\n",
    "\n",
    "2) Cuales son las zonas con mas demanda (con la data que tenemos no la podemos contestar)\n",
    "\n",
    "3) Cuales son las zonas con mas cortes. Coinciden con las de mayor demanda?\n",
    "\n",
    "4) El estado del cielo correlaciona con la demanda y con los cortes?\n",
    "\n",
    "5) Hay algun horario de mayor cantidad de cortes?\n",
    "\n",
    "6) Cuales son las zonas con mas usuarios afectados? \n"
   ]
  },
  {
   "cell_type": "markdown",
   "id": "0abc581d",
   "metadata": {},
   "source": [
    "### 1) Sube la demanda cuando aumenta la temperatura?\n"
   ]
  },
  {
   "cell_type": "code",
   "execution_count": 169,
   "id": "d29ac4ad",
   "metadata": {},
   "outputs": [
    {
     "data": {
      "text/plain": [
       "<matplotlib.collections.PathCollection at 0x7fe7acc4cf10>"
      ]
     },
     "execution_count": 169,
     "metadata": {},
     "output_type": "execute_result"
    },
    {
     "data": {
      "image/png": "[encoded data removed]",
      "text/plain": [
       "<Figure size 432x288 with 1 Axes>"
      ]
     },
     "metadata": {
      "needs_background": "light"
     },
     "output_type": "display_data"
    }
   ],
   "source": [
    "plt.scatter(merged.temperatura, merged.demHoy, c=merged.region)"
   ]
  },
  {
   "cell_type": "markdown",
   "id": "2bd28a80",
   "metadata": {},
   "source": [
    "### 3) Cuales son las zonas con mas cortes. Coinciden con las de mayor demanda?\n"
   ]
  },
  {
   "cell_type": "code",
   "execution_count": 170,
   "id": "667960ff",
   "metadata": {},
   "outputs": [],
   "source": [
    "cortes_df['partido_localidad'] = cortes_df.partido + \"/\" + cortes_df.localidad"
   ]
  },
  {
   "cell_type": "code",
   "execution_count": 171,
   "id": "da46a6ca",
   "metadata": {},
   "outputs": [
    {
     "data": {
      "text/plain": [
       "TIGRE/DELTA 1RA SECCION (TI)           8738\n",
       "SAN FERNANDO/DELTA 2DA SECCION (SF)    7733\n",
       "FLORENCIO VARELA/FLORENCIO VARELA      6085\n",
       "SAN FERNANDO/DELTA 3RA SECCION (SF)    4221\n",
       "CAPITAL RP/CABALLITO RP                3779\n",
       "Name: partido_localidad, dtype: int64"
      ]
     },
     "execution_count": 171,
     "metadata": {},
     "output_type": "execute_result"
    }
   ],
   "source": [
    "cortes_df.partido_localidad.value_counts().head(5)"
   ]
  },
  {
   "cell_type": "markdown",
   "id": "de942fbe",
   "metadata": {},
   "source": [
    "### 4) El estado del cielo correlaciona con la demanda y con los cortes?\n"
   ]
  },
  {
   "cell_type": "code",
   "execution_count": 125,
   "id": "1abd76be",
   "metadata": {},
   "outputs": [
    {
     "ename": "TypeError",
     "evalue": "'slice' object cannot be interpreted as an integer",
     "output_type": "error",
     "traceback": [
      "\u001b[0;31m---------------------------------------------------------------------------\u001b[0m",
      "\u001b[0;31mTypeError\u001b[0m                                 Traceback (most recent call last)",
      "Input \u001b[0;32mIn [125]\u001b[0m, in \u001b[0;36m<cell line: 1>\u001b[0;34m()\u001b[0m\n\u001b[0;32m----> 1\u001b[0m \u001b[38;5;28;43mrange\u001b[39;49m\u001b[43m(\u001b[49m\u001b[43ma\u001b[49m\u001b[43m)\u001b[49m\n",
      "\u001b[0;31mTypeError\u001b[0m: 'slice' object cannot be interpreted as an integer"
     ]
    }
   ],
   "source": [
    "range(a)"
   ]
  },
  {
   "cell_type": "code",
   "execution_count": 172,
   "id": "e9051720",
   "metadata": {},
   "outputs": [
    {
     "data": {
      "text/plain": [
       "Cielo Claro                     7235\n",
       "Algo De Nubes                   2566\n",
       "Nubes Dispersas                 2435\n",
       "Muy Nuboso                      2152\n",
       "Nubes                            970\n",
       "Lluvia Moderada                  289\n",
       "Lluvia Ligera                    258\n",
       "Tormenta Con Lluvia               90\n",
       "Tormenta Con Lluvia Ligera        82\n",
       "Lluvia De Gran Intensidad         35\n",
       "Tormenta Con Lluvia Intensa       16\n",
       "Name: estado_cielo, dtype: int64"
      ]
     },
     "execution_count": 172,
     "metadata": {},
     "output_type": "execute_result"
    }
   ],
   "source": [
    "clima_df.estado_cielo.value_counts()"
   ]
  },
  {
   "cell_type": "code",
   "execution_count": 89,
   "id": "2dcfa3f1",
   "metadata": {},
   "outputs": [
    {
     "data": {
      "text/plain": [
       "<module 'pandas' from '/Users/przivic/miniconda3/envs/mlp2022/lib/python3.9/site-packages/pandas/__init__.py'>"
      ]
     },
     "execution_count": 89,
     "metadata": {},
     "output_type": "execute_result"
    }
   ],
   "source": []
  },
  {
   "cell_type": "code",
   "execution_count": 174,
   "id": "f6ff358a",
   "metadata": {},
   "outputs": [
    {
     "data": {
      "text/html": [
       "<div>\n",
       "<style scoped>\n",
       "    .dataframe tbody tr th:only-of-type {\n",
       "        vertical-align: middle;\n",
       "    }\n",
       "\n",
       "    .dataframe tbody tr th {\n",
       "        vertical-align: top;\n",
       "    }\n",
       "\n",
       "    .dataframe thead th {\n",
       "        text-align: right;\n",
       "    }\n",
       "</style>\n",
       "<table border=\"1\" class=\"dataframe\">\n",
       "  <thead>\n",
       "    <tr style=\"text-align: right;\">\n",
       "      <th></th>\n",
       "      <th>latitud</th>\n",
       "      <th>longitud</th>\n",
       "      <th>misc</th>\n",
       "      <th>descr</th>\n",
       "      <th>tipo</th>\n",
       "      <th>empresa</th>\n",
       "      <th>partido</th>\n",
       "      <th>localidad</th>\n",
       "      <th>subestacion</th>\n",
       "      <th>alimentador</th>\n",
       "      <th>usuarios afectados</th>\n",
       "      <th>hora estimada de normalizacion</th>\n",
       "      <th>date_hour</th>\n",
       "      <th>region</th>\n",
       "      <th>estado_cielo</th>\n",
       "      <th>ufs_edesur</th>\n",
       "      <th>ufs_edenor</th>\n",
       "      <th>temperatura</th>\n",
       "      <th>demHoy</th>\n",
       "      <th>demAyer</th>\n",
       "      <th>demSemanaAnt</th>\n",
       "    </tr>\n",
       "  </thead>\n",
       "  <tbody>\n",
       "    <tr>\n",
       "      <th>0</th>\n",
       "      <td>-34.658704</td>\n",
       "      <td>-58.354090</td>\n",
       "      <td>11</td>\n",
       "      <td>&lt;b&gt;CORTE DE MEDIA TENSION&lt;/b&gt;, EDESUR S.A., Pa...</td>\n",
       "      <td>&lt;b&gt;CORTE DE MEDIA TENSION&lt;/b&gt;</td>\n",
       "      <td>EDESUR S.A.</td>\n",
       "      <td>AVELLANEDA</td>\n",
       "      <td>DOCK SUD</td>\n",
       "      <td>9 DE JULIO</td>\n",
       "      <td>R:279-2-23/279-2-23</td>\n",
       "      <td>341</td>\n",
       "      <td>2024-02-15 02:56</td>\n",
       "      <td>2024-02-14 23:00:00</td>\n",
       "      <td>1077</td>\n",
       "      <td>Cielo Claro</td>\n",
       "      <td>1335.50</td>\n",
       "      <td>92.000000</td>\n",
       "      <td>21.916667</td>\n",
       "      <td>NaN</td>\n",
       "      <td>2433.166667</td>\n",
       "      <td>4881.833333</td>\n",
       "    </tr>\n",
       "    <tr>\n",
       "      <th>1</th>\n",
       "      <td>-34.640539</td>\n",
       "      <td>-58.520141</td>\n",
       "      <td>11</td>\n",
       "      <td>&lt;b&gt;CORTE DE MEDIA TENSION&lt;/b&gt;, EDESUR S.A., Pa...</td>\n",
       "      <td>&lt;b&gt;CORTE DE MEDIA TENSION&lt;/b&gt;</td>\n",
       "      <td>EDESUR S.A.</td>\n",
       "      <td>CAPITAL GP</td>\n",
       "      <td>LINIERS</td>\n",
       "      <td>LURO</td>\n",
       "      <td>R:038-3-35/038-3-35</td>\n",
       "      <td>578</td>\n",
       "      <td>2024-02-15 02:28</td>\n",
       "      <td>2024-02-14 23:00:00</td>\n",
       "      <td>1077</td>\n",
       "      <td>Cielo Claro</td>\n",
       "      <td>1335.50</td>\n",
       "      <td>92.000000</td>\n",
       "      <td>21.916667</td>\n",
       "      <td>NaN</td>\n",
       "      <td>2433.166667</td>\n",
       "      <td>4881.833333</td>\n",
       "    </tr>\n",
       "    <tr>\n",
       "      <th>2</th>\n",
       "      <td>-34.639500</td>\n",
       "      <td>-58.413200</td>\n",
       "      <td>21</td>\n",
       "      <td>&lt;b&gt;CORTE DE BAJA TENSION&lt;/b&gt;, EDESUR S.A., Par...</td>\n",
       "      <td>&lt;b&gt;CORTE DE BAJA TENSION&lt;/b&gt;</td>\n",
       "      <td>EDESUR S.A.</td>\n",
       "      <td>CAPITAL</td>\n",
       "      <td>NUEVA POMPEYA</td>\n",
       "      <td>NaN</td>\n",
       "      <td>NaN</td>\n",
       "      <td>1</td>\n",
       "      <td>NaN</td>\n",
       "      <td>2024-02-14 23:00:00</td>\n",
       "      <td>1077</td>\n",
       "      <td>Cielo Claro</td>\n",
       "      <td>1335.50</td>\n",
       "      <td>92.000000</td>\n",
       "      <td>21.916667</td>\n",
       "      <td>NaN</td>\n",
       "      <td>2433.166667</td>\n",
       "      <td>4881.833333</td>\n",
       "    </tr>\n",
       "    <tr>\n",
       "      <th>3</th>\n",
       "      <td>-34.611300</td>\n",
       "      <td>-58.388800</td>\n",
       "      <td>21</td>\n",
       "      <td>&lt;b&gt;CORTE DE BAJA TENSION&lt;/b&gt;, EDESUR S.A., Par...</td>\n",
       "      <td>&lt;b&gt;CORTE DE BAJA TENSION&lt;/b&gt;</td>\n",
       "      <td>EDESUR S.A.</td>\n",
       "      <td>CAPITAL</td>\n",
       "      <td>MONSERRAT</td>\n",
       "      <td>NaN</td>\n",
       "      <td>NaN</td>\n",
       "      <td>16</td>\n",
       "      <td>NaN</td>\n",
       "      <td>2024-02-14 23:00:00</td>\n",
       "      <td>1077</td>\n",
       "      <td>Cielo Claro</td>\n",
       "      <td>1335.50</td>\n",
       "      <td>92.000000</td>\n",
       "      <td>21.916667</td>\n",
       "      <td>NaN</td>\n",
       "      <td>2433.166667</td>\n",
       "      <td>4881.833333</td>\n",
       "    </tr>\n",
       "    <tr>\n",
       "      <th>4</th>\n",
       "      <td>-34.614700</td>\n",
       "      <td>-58.391900</td>\n",
       "      <td>21</td>\n",
       "      <td>&lt;b&gt;CORTE DE BAJA TENSION&lt;/b&gt;, EDESUR S.A., Par...</td>\n",
       "      <td>&lt;b&gt;CORTE DE BAJA TENSION&lt;/b&gt;</td>\n",
       "      <td>EDESUR S.A.</td>\n",
       "      <td>CAPITAL</td>\n",
       "      <td>MONSERRAT</td>\n",
       "      <td>NaN</td>\n",
       "      <td>NaN</td>\n",
       "      <td>56</td>\n",
       "      <td>NaN</td>\n",
       "      <td>2024-02-14 23:00:00</td>\n",
       "      <td>1077</td>\n",
       "      <td>Cielo Claro</td>\n",
       "      <td>1335.50</td>\n",
       "      <td>92.000000</td>\n",
       "      <td>21.916667</td>\n",
       "      <td>NaN</td>\n",
       "      <td>2433.166667</td>\n",
       "      <td>4881.833333</td>\n",
       "    </tr>\n",
       "    <tr>\n",
       "      <th>...</th>\n",
       "      <td>...</td>\n",
       "      <td>...</td>\n",
       "      <td>...</td>\n",
       "      <td>...</td>\n",
       "      <td>...</td>\n",
       "      <td>...</td>\n",
       "      <td>...</td>\n",
       "      <td>...</td>\n",
       "      <td>...</td>\n",
       "      <td>...</td>\n",
       "      <td>...</td>\n",
       "      <td>...</td>\n",
       "      <td>...</td>\n",
       "      <td>...</td>\n",
       "      <td>...</td>\n",
       "      <td>...</td>\n",
       "      <td>...</td>\n",
       "      <td>...</td>\n",
       "      <td>...</td>\n",
       "      <td>...</td>\n",
       "      <td>...</td>\n",
       "    </tr>\n",
       "    <tr>\n",
       "      <th>113095</th>\n",
       "      <td>-34.483742</td>\n",
       "      <td>-58.608521</td>\n",
       "      <td>12</td>\n",
       "      <td>&lt;b&gt;CORTE DE MEDIA TENSION&lt;/b&gt;, EDENOR S.A., Pa...</td>\n",
       "      <td>&lt;b&gt;CORTE DE MEDIA TENSION&lt;/b&gt;</td>\n",
       "      <td>EDENOR S.A.</td>\n",
       "      <td>TIGRE</td>\n",
       "      <td>DON TORCUATO</td>\n",
       "      <td>S/D</td>\n",
       "      <td>R:BANCALARI/157-TR1/157-5513</td>\n",
       "      <td>3</td>\n",
       "      <td>Sin datos</td>\n",
       "      <td>2024-02-18 09:00:00</td>\n",
       "      <td>1078</td>\n",
       "      <td>Nubes Dispersas</td>\n",
       "      <td>2317.25</td>\n",
       "      <td>1287.416667</td>\n",
       "      <td>26.000000</td>\n",
       "      <td>2136.25</td>\n",
       "      <td>2133.416667</td>\n",
       "      <td>2251.416667</td>\n",
       "    </tr>\n",
       "    <tr>\n",
       "      <th>113096</th>\n",
       "      <td>-34.687400</td>\n",
       "      <td>-58.828100</td>\n",
       "      <td>22</td>\n",
       "      <td>&lt;b&gt;CORTE DE BAJA TENSION&lt;/b&gt;, EDENOR S.A., Par...</td>\n",
       "      <td>&lt;b&gt;CORTE DE BAJA TENSION&lt;/b&gt;</td>\n",
       "      <td>EDENOR S.A.</td>\n",
       "      <td>MERLO</td>\n",
       "      <td>MARIANO ACOSTA</td>\n",
       "      <td>NaN</td>\n",
       "      <td>NaN</td>\n",
       "      <td>6</td>\n",
       "      <td>NaN</td>\n",
       "      <td>2024-02-18 09:00:00</td>\n",
       "      <td>1078</td>\n",
       "      <td>Nubes Dispersas</td>\n",
       "      <td>2317.25</td>\n",
       "      <td>1287.416667</td>\n",
       "      <td>26.000000</td>\n",
       "      <td>2136.25</td>\n",
       "      <td>2133.416667</td>\n",
       "      <td>2251.416667</td>\n",
       "    </tr>\n",
       "    <tr>\n",
       "      <th>113097</th>\n",
       "      <td>-34.774600</td>\n",
       "      <td>-58.653500</td>\n",
       "      <td>22</td>\n",
       "      <td>&lt;b&gt;CORTE DE BAJA TENSION&lt;/b&gt;, EDENOR S.A., Par...</td>\n",
       "      <td>&lt;b&gt;CORTE DE BAJA TENSION&lt;/b&gt;</td>\n",
       "      <td>EDENOR S.A.</td>\n",
       "      <td>LA MATANZA</td>\n",
       "      <td>GONZALEZ CATAN</td>\n",
       "      <td>NaN</td>\n",
       "      <td>NaN</td>\n",
       "      <td>85</td>\n",
       "      <td>NaN</td>\n",
       "      <td>2024-02-18 09:00:00</td>\n",
       "      <td>1078</td>\n",
       "      <td>Nubes Dispersas</td>\n",
       "      <td>2317.25</td>\n",
       "      <td>1287.416667</td>\n",
       "      <td>26.000000</td>\n",
       "      <td>2136.25</td>\n",
       "      <td>2133.416667</td>\n",
       "      <td>2251.416667</td>\n",
       "    </tr>\n",
       "    <tr>\n",
       "      <th>113098</th>\n",
       "      <td>-34.582700</td>\n",
       "      <td>-58.757700</td>\n",
       "      <td>22</td>\n",
       "      <td>&lt;b&gt;CORTE DE BAJA TENSION&lt;/b&gt;, EDENOR S.A., Par...</td>\n",
       "      <td>&lt;b&gt;CORTE DE BAJA TENSION&lt;/b&gt;</td>\n",
       "      <td>EDENOR S.A.</td>\n",
       "      <td>MORENO</td>\n",
       "      <td>TRUJUI</td>\n",
       "      <td>NaN</td>\n",
       "      <td>NaN</td>\n",
       "      <td>22</td>\n",
       "      <td>NaN</td>\n",
       "      <td>2024-02-18 09:00:00</td>\n",
       "      <td>1078</td>\n",
       "      <td>Nubes Dispersas</td>\n",
       "      <td>2317.25</td>\n",
       "      <td>1287.416667</td>\n",
       "      <td>26.000000</td>\n",
       "      <td>2136.25</td>\n",
       "      <td>2133.416667</td>\n",
       "      <td>2251.416667</td>\n",
       "    </tr>\n",
       "    <tr>\n",
       "      <th>113099</th>\n",
       "      <td>-34.724100</td>\n",
       "      <td>-58.571200</td>\n",
       "      <td>22</td>\n",
       "      <td>&lt;b&gt;CORTE DE BAJA TENSION&lt;/b&gt;, EDENOR S.A., Par...</td>\n",
       "      <td>&lt;b&gt;CORTE DE BAJA TENSION&lt;/b&gt;</td>\n",
       "      <td>EDENOR S.A.</td>\n",
       "      <td>LA MATANZA</td>\n",
       "      <td>ISIDRO CASANOVA</td>\n",
       "      <td>NaN</td>\n",
       "      <td>NaN</td>\n",
       "      <td>4</td>\n",
       "      <td>NaN</td>\n",
       "      <td>2024-02-18 09:00:00</td>\n",
       "      <td>1078</td>\n",
       "      <td>Nubes Dispersas</td>\n",
       "      <td>2317.25</td>\n",
       "      <td>1287.416667</td>\n",
       "      <td>26.000000</td>\n",
       "      <td>2136.25</td>\n",
       "      <td>2133.416667</td>\n",
       "      <td>2251.416667</td>\n",
       "    </tr>\n",
       "  </tbody>\n",
       "</table>\n",
       "<p>113100 rows × 21 columns</p>\n",
       "</div>"
      ],
      "text/plain": [
       "          latitud   longitud  misc  \\\n",
       "0      -34.658704 -58.354090    11   \n",
       "1      -34.640539 -58.520141    11   \n",
       "2      -34.639500 -58.413200    21   \n",
       "3      -34.611300 -58.388800    21   \n",
       "4      -34.614700 -58.391900    21   \n",
       "...           ...        ...   ...   \n",
       "113095 -34.483742 -58.608521    12   \n",
       "113096 -34.687400 -58.828100    22   \n",
       "113097 -34.774600 -58.653500    22   \n",
       "113098 -34.582700 -58.757700    22   \n",
       "113099 -34.724100 -58.571200    22   \n",
       "\n",
       "                                                    descr  \\\n",
       "0       <b>CORTE DE MEDIA TENSION</b>, EDESUR S.A., Pa...   \n",
       "1       <b>CORTE DE MEDIA TENSION</b>, EDESUR S.A., Pa...   \n",
       "2       <b>CORTE DE BAJA TENSION</b>, EDESUR S.A., Par...   \n",
       "3       <b>CORTE DE BAJA TENSION</b>, EDESUR S.A., Par...   \n",
       "4       <b>CORTE DE BAJA TENSION</b>, EDESUR S.A., Par...   \n",
       "...                                                   ...   \n",
       "113095  <b>CORTE DE MEDIA TENSION</b>, EDENOR S.A., Pa...   \n",
       "113096  <b>CORTE DE BAJA TENSION</b>, EDENOR S.A., Par...   \n",
       "113097  <b>CORTE DE BAJA TENSION</b>, EDENOR S.A., Par...   \n",
       "113098  <b>CORTE DE BAJA TENSION</b>, EDENOR S.A., Par...   \n",
       "113099  <b>CORTE DE BAJA TENSION</b>, EDENOR S.A., Par...   \n",
       "\n",
       "                                 tipo      empresa     partido  \\\n",
       "0       <b>CORTE DE MEDIA TENSION</b>  EDESUR S.A.  AVELLANEDA   \n",
       "1       <b>CORTE DE MEDIA TENSION</b>  EDESUR S.A.  CAPITAL GP   \n",
       "2        <b>CORTE DE BAJA TENSION</b>  EDESUR S.A.     CAPITAL   \n",
       "3        <b>CORTE DE BAJA TENSION</b>  EDESUR S.A.     CAPITAL   \n",
       "4        <b>CORTE DE BAJA TENSION</b>  EDESUR S.A.     CAPITAL   \n",
       "...                               ...          ...         ...   \n",
       "113095  <b>CORTE DE MEDIA TENSION</b>  EDENOR S.A.       TIGRE   \n",
       "113096   <b>CORTE DE BAJA TENSION</b>  EDENOR S.A.       MERLO   \n",
       "113097   <b>CORTE DE BAJA TENSION</b>  EDENOR S.A.  LA MATANZA   \n",
       "113098   <b>CORTE DE BAJA TENSION</b>  EDENOR S.A.      MORENO   \n",
       "113099   <b>CORTE DE BAJA TENSION</b>  EDENOR S.A.  LA MATANZA   \n",
       "\n",
       "              localidad subestacion                   alimentador  \\\n",
       "0              DOCK SUD  9 DE JULIO           R:279-2-23/279-2-23   \n",
       "1               LINIERS        LURO           R:038-3-35/038-3-35   \n",
       "2         NUEVA POMPEYA         NaN                           NaN   \n",
       "3             MONSERRAT         NaN                           NaN   \n",
       "4             MONSERRAT         NaN                           NaN   \n",
       "...                 ...         ...                           ...   \n",
       "113095     DON TORCUATO         S/D  R:BANCALARI/157-TR1/157-5513   \n",
       "113096   MARIANO ACOSTA         NaN                           NaN   \n",
       "113097   GONZALEZ CATAN         NaN                           NaN   \n",
       "113098           TRUJUI         NaN                           NaN   \n",
       "113099  ISIDRO CASANOVA         NaN                           NaN   \n",
       "\n",
       "        usuarios afectados hora estimada de normalizacion           date_hour  \\\n",
       "0                      341               2024-02-15 02:56 2024-02-14 23:00:00   \n",
       "1                      578               2024-02-15 02:28 2024-02-14 23:00:00   \n",
       "2                        1                            NaN 2024-02-14 23:00:00   \n",
       "3                       16                            NaN 2024-02-14 23:00:00   \n",
       "4                       56                            NaN 2024-02-14 23:00:00   \n",
       "...                    ...                            ...                 ...   \n",
       "113095                   3                      Sin datos 2024-02-18 09:00:00   \n",
       "113096                   6                            NaN 2024-02-18 09:00:00   \n",
       "113097                  85                            NaN 2024-02-18 09:00:00   \n",
       "113098                  22                            NaN 2024-02-18 09:00:00   \n",
       "113099                   4                            NaN 2024-02-18 09:00:00   \n",
       "\n",
       "        region      estado_cielo  ufs_edesur   ufs_edenor  temperatura  \\\n",
       "0         1077      Cielo Claro      1335.50    92.000000    21.916667   \n",
       "1         1077      Cielo Claro      1335.50    92.000000    21.916667   \n",
       "2         1077      Cielo Claro      1335.50    92.000000    21.916667   \n",
       "3         1077      Cielo Claro      1335.50    92.000000    21.916667   \n",
       "4         1077      Cielo Claro      1335.50    92.000000    21.916667   \n",
       "...        ...               ...         ...          ...          ...   \n",
       "113095    1078  Nubes Dispersas      2317.25  1287.416667    26.000000   \n",
       "113096    1078  Nubes Dispersas      2317.25  1287.416667    26.000000   \n",
       "113097    1078  Nubes Dispersas      2317.25  1287.416667    26.000000   \n",
       "113098    1078  Nubes Dispersas      2317.25  1287.416667    26.000000   \n",
       "113099    1078  Nubes Dispersas      2317.25  1287.416667    26.000000   \n",
       "\n",
       "         demHoy      demAyer  demSemanaAnt  \n",
       "0           NaN  2433.166667   4881.833333  \n",
       "1           NaN  2433.166667   4881.833333  \n",
       "2           NaN  2433.166667   4881.833333  \n",
       "3           NaN  2433.166667   4881.833333  \n",
       "4           NaN  2433.166667   4881.833333  \n",
       "...         ...          ...           ...  \n",
       "113095  2136.25  2133.416667   2251.416667  \n",
       "113096  2136.25  2133.416667   2251.416667  \n",
       "113097  2136.25  2133.416667   2251.416667  \n",
       "113098  2136.25  2133.416667   2251.416667  \n",
       "113099  2136.25  2133.416667   2251.416667  \n",
       "\n",
       "[113100 rows x 21 columns]"
      ]
     },
     "execution_count": 174,
     "metadata": {},
     "output_type": "execute_result"
    }
   ],
   "source": [
    "merged"
   ]
  },
  {
   "cell_type": "code",
   "execution_count": 67,
   "id": "f50b7878",
   "metadata": {},
   "outputs": [],
   "source": [
    "merged.to_csv('a.csv')"
   ]
  },
  {
   "cell_type": "code",
   "execution_count": 68,
   "id": "3332d07c",
   "metadata": {},
   "outputs": [],
   "source": [
    "a = pd.read_csv('a.csv')"
   ]
  },
  {
   "cell_type": "code",
   "execution_count": null,
   "id": "11734301",
   "metadata": {},
   "outputs": [],
   "source": []
  },
  {
   "cell_type": "code",
   "execution_count": 178,
   "id": "bfa01e9c",
   "metadata": {},
   "outputs": [
    {
     "data": {
      "text/plain": [
       "([<matplotlib.axis.XTick at 0x7fe742faa430>], [Text(1, 0, 'demHoy')])"
      ]
     },
     "execution_count": 178,
     "metadata": {},
     "output_type": "execute_result"
    },
    {
     "data": {
      "image/png": "[encoded data removed]",
      "text/plain": [
       "<Figure size 432x288 with 1 Axes>"
      ]
     },
     "metadata": {
      "needs_background": "light"
     },
     "output_type": "display_data"
    }
   ],
   "source": [
    "plt.violinplot(merged.demHoy.dropna())\n",
    "plt.xticks([1], ['demHoy'])"
   ]
  },
  {
   "cell_type": "code",
   "execution_count": 128,
   "id": "59552632",
   "metadata": {},
   "outputs": [
    {
     "data": {
      "text/plain": [
       "binned_temperature\n",
       "14     53.000900\n",
       "16     70.157202\n",
       "18     43.814406\n",
       "20     45.857491\n",
       "22     45.459607\n",
       "24     72.790103\n",
       "26     79.195780\n",
       "28     85.515493\n",
       "30    100.701402\n",
       "32     89.562182\n",
       "Name: usuarios afectados, dtype: float64"
      ]
     },
     "execution_count": 128,
     "metadata": {},
     "output_type": "execute_result"
    }
   ],
   "source": [
    "merged.groupby('binned_temperature')['usuarios afectados'].mean().sort_index()"
   ]
  },
  {
   "cell_type": "code",
   "execution_count": 185,
   "id": "67aec6ed",
   "metadata": {},
   "outputs": [
    {
     "data": {
      "text/plain": [
       "2"
      ]
     },
     "execution_count": 185,
     "metadata": {},
     "output_type": "execute_result"
    }
   ],
   "source": [
    "3 // 2 * 2"
   ]
  },
  {
   "cell_type": "code",
   "execution_count": 181,
   "id": "a985e2c7",
   "metadata": {},
   "outputs": [
    {
     "data": {
      "text/plain": [
       "[0, 0, 2, 2, 4, 4, 6, 6, 8, 8, 10, 10, 12, 12, 14, 14, 16, 16, 18, 18]"
      ]
     },
     "execution_count": 181,
     "metadata": {},
     "output_type": "execute_result"
    }
   ],
   "source": [
    "[i // 2 * 2 for i in range(20)]"
   ]
  },
  {
   "cell_type": "code",
   "execution_count": 187,
   "id": "902a4b6f",
   "metadata": {},
   "outputs": [
    {
     "data": {
      "text/plain": [
       "array([20, 22, 24, 18, 30, 26, 28, 16, 14, 32])"
      ]
     },
     "execution_count": 187,
     "metadata": {},
     "output_type": "execute_result"
    }
   ],
   "source": [
    "merged.temperatura.apply(lambda x: int(x) // 2 * 2).unique()"
   ]
  },
  {
   "cell_type": "code",
   "execution_count": 190,
   "id": "357262b4",
   "metadata": {},
   "outputs": [
    {
     "data": {
      "text/plain": [
       "<AxesSubplot:xlabel='binned_temperature'>"
      ]
     },
     "execution_count": 190,
     "metadata": {},
     "output_type": "execute_result"
    },
    {
     "data": {
      "image/png": "[encoded data removed]",
      "text/plain": [
       "<Figure size 432x288 with 1 Axes>"
      ]
     },
     "metadata": {
      "needs_background": "light"
     },
     "output_type": "display_data"
    }
   ],
   "source": [
    "merged['binned_temperature'] = merged.temperatura.apply(lambda x: int(x) // 2 * 2)\n",
    "\n",
    "merged.groupby('binned_temperature')['usuarios afectados'].mean().sort_index().plot(marker='o')"
   ]
  },
  {
   "cell_type": "code",
   "execution_count": 206,
   "id": "a46e71e6",
   "metadata": {},
   "outputs": [
    {
     "data": {
      "text/plain": [
       "([<matplotlib.axis.XTick at 0x7fe718637190>],\n",
       " [Text(1, 0, 'usuarios afectados')])"
      ]
     },
     "execution_count": 206,
     "metadata": {},
     "output_type": "execute_result"
    },
    {
     "data": {
      "image/png": "[encoded data removed]",
      "text/plain": [
       "<Figure size 432x288 with 1 Axes>"
      ]
     },
     "metadata": {
      "needs_background": "light"
     },
     "output_type": "display_data"
    }
   ],
   "source": [
    "plt.violinplot(np.log10(merged['usuarios afectados'] + 1))\n",
    "plt.yticks(plt.yticks()[0], [int(e) for e in 10**plt.yticks()[0]])\n",
    "plt.xticks([1], ['usuarios afectados'])"
   ]
  },
  {
   "cell_type": "code",
   "execution_count": 217,
   "id": "07d10bae",
   "metadata": {},
   "outputs": [
    {
     "data": {
      "text/plain": [
       "([<matplotlib.axis.XTick at 0x7fe74327ecd0>],\n",
       " [Text(1, 0, 'usuarios afectados')])"
      ]
     },
     "execution_count": 217,
     "metadata": {},
     "output_type": "execute_result"
    },
    {
     "data": {
      "image/png": "[encoded data removed]",
      "text/plain": [
       "<Figure size 432x288 with 1 Axes>"
      ]
     },
     "metadata": {
      "needs_background": "light"
     },
     "output_type": "display_data"
    }
   ],
   "source": [
    "u = merged.groupby(['partido', 'date_hour'])['usuarios afectados'].sum()\n",
    "plt.violinplot(np.log10(u + 1))\n",
    "plt.yticks(plt.yticks()[0], [int(e) for e in 10**plt.yticks()[0]])\n",
    "plt.xticks([1], ['usuarios afectados'])"
   ]
  },
  {
   "cell_type": "code",
   "execution_count": 194,
   "id": "f46203d3",
   "metadata": {},
   "outputs": [
    {
     "data": {
      "text/plain": [
       "Text(0, 0.5, '# muestras por bucket')"
      ]
     },
     "execution_count": 194,
     "metadata": {},
     "output_type": "execute_result"
    },
    {
     "data": {
      "image/png": "[encoded data removed]",
      "text/plain": [
       "<Figure size 432x288 with 2 Axes>"
      ]
     },
     "metadata": {
      "needs_background": "light"
     },
     "output_type": "display_data"
    }
   ],
   "source": [
    "g = merged.groupby('binned_temperature')['usuarios afectados']\n",
    "g.mean().sort_index().plot(marker='o')\n",
    "\n",
    "\n",
    "plt.ylabel('usuarios afectados')\n",
    "plt.xlabel('temperatura')\n",
    "\n",
    "g.count().sort_index().plot(secondary_y=True, marker='o')\n",
    "\n",
    "plt.ylabel('# muestras por bucket')"
   ]
  },
  {
   "cell_type": "code",
   "execution_count": 227,
   "id": "8cb1fa22",
   "metadata": {},
   "outputs": [
    {
     "data": {
      "text/plain": [
       "Text(0.5, 0, 'temperatura')"
      ]
     },
     "execution_count": 227,
     "metadata": {},
     "output_type": "execute_result"
    },
    {
     "data": {
      "image/png": "[encoded data removed]",
      "text/plain": [
       "<Figure size 432x288 with 1 Axes>"
      ]
     },
     "metadata": {
      "needs_background": "light"
     },
     "output_type": "display_data"
    }
   ],
   "source": [
    "g = merged[~merged.demHoy.isna()].groupby('binned_temperature')['usuarios afectados']\n",
    "mean = g.mean().sort_index().dropna()\n",
    "std = g.std().sort_index().dropna() / (g.count().sort_index().dropna())**0.5\n",
    "\n",
    "\n",
    "plt.errorbar(mean.index, mean.values, yerr=std.values)\n",
    "plt.ylabel('usuarios afectados')\n",
    "plt.xlabel('temperatura')"
   ]
  },
  {
   "cell_type": "code",
   "execution_count": null,
   "id": "ec836057",
   "metadata": {},
   "outputs": [],
   "source": [
    "g = merged.groupby('binned_temperature')['usuarios afectados']\n",
    "mean = g.mean().sort_index().dropna()\n",
    "std = g.std().sort_index().dropna() / (g.count().sort_index().dropna())**0.5\n",
    "\n",
    "\n",
    "plt.errorbar(mean.index, mean.values, yerr=std.values)\n",
    "plt.ylabel('usuarios afectados')\n",
    "plt.xlabel('temperatura')"
   ]
  },
  {
   "cell_type": "code",
   "execution_count": null,
   "id": "c525bcfd",
   "metadata": {},
   "outputs": [],
   "source": []
  },
  {
   "cell_type": "code",
   "execution_count": 223,
   "id": "e69bd2d2",
   "metadata": {},
   "outputs": [],
   "source": [
    "merged['binnedDemanda'] = merged.demHoy.apply(lambda x: int(round(x, 0))//100*100 if not np.isnan(x) else x )"
   ]
  },
  {
   "cell_type": "code",
   "execution_count": 224,
   "id": "fcce1941",
   "metadata": {},
   "outputs": [
    {
     "data": {
      "text/plain": [
       "Text(0.5, 0, 'demanda')"
      ]
     },
     "execution_count": 224,
     "metadata": {},
     "output_type": "execute_result"
    },
    {
     "data": {
      "image/png": "[encoded data removed]",
      "text/plain": [
       "<Figure size 432x288 with 1 Axes>"
      ]
     },
     "metadata": {
      "needs_background": "light"
     },
     "output_type": "display_data"
    }
   ],
   "source": [
    "g = merged[~merged.demHoy.isna()].groupby('binnedDemanda')['usuarios afectados']\n",
    "mean = g.mean().sort_index().rolling(5).mean().dropna()\n",
    "std = g.std().sort_index().rolling(5).mean().dropna() / (g.count().sort_index().rolling(5).mean().dropna())**0.5\n",
    "\n",
    "\n",
    "plt.errorbar(mean.index, mean.values, yerr=std.values)\n",
    "plt.ylabel('usuarios afectados')\n",
    "plt.xlabel('demanda')"
   ]
  },
  {
   "cell_type": "code",
   "execution_count": 226,
   "id": "b840b422",
   "metadata": {},
   "outputs": [
    {
     "data": {
      "text/plain": [
       "Text(0.5, 0, 'demanda')"
      ]
     },
     "execution_count": 226,
     "metadata": {},
     "output_type": "execute_result"
    },
    {
     "data": {
      "image/png": "[encoded data removed]",
      "text/plain": [
       "<Figure size 432x288 with 1 Axes>"
      ]
     },
     "metadata": {
      "needs_background": "light"
     },
     "output_type": "display_data"
    }
   ],
   "source": [
    "g = merged[~merged.demHoy.isna()].groupby('binnedDemanda')['usuarios afectados']\n",
    "mean = g.mean().sort_index().dropna()\n",
    "std = g.std().sort_index().dropna() / (g.count().sort_index().dropna())**0.5\n",
    "\n",
    "\n",
    "plt.errorbar(mean.index, mean.values, yerr=std.values)\n",
    "plt.ylabel('usuarios afectados')\n",
    "plt.xlabel('demanda')"
   ]
  },
  {
   "cell_type": "code",
   "execution_count": 229,
   "id": "818792ab",
   "metadata": {},
   "outputs": [],
   "source": [
    "merged.to_csv('a.csv')\n",
    "a = pd.read_csv('a.csv')"
   ]
  },
  {
   "cell_type": "code",
   "execution_count": 235,
   "id": "39b59ac5",
   "metadata": {},
   "outputs": [
    {
     "data": {
      "text/html": [
       "<div>\n",
       "<style scoped>\n",
       "    .dataframe tbody tr th:only-of-type {\n",
       "        vertical-align: middle;\n",
       "    }\n",
       "\n",
       "    .dataframe tbody tr th {\n",
       "        vertical-align: top;\n",
       "    }\n",
       "\n",
       "    .dataframe thead th {\n",
       "        text-align: right;\n",
       "    }\n",
       "</style>\n",
       "<table border=\"1\" class=\"dataframe\">\n",
       "  <thead>\n",
       "    <tr style=\"text-align: right;\">\n",
       "      <th></th>\n",
       "      <th>hour</th>\n",
       "      <th>ufs_edesur</th>\n",
       "      <th>ufs_edenor</th>\n",
       "      <th>codigo</th>\n",
       "      <th>estado_cielo</th>\n",
       "      <th>temperatura</th>\n",
       "      <th>datetime</th>\n",
       "      <th>date_hour</th>\n",
       "    </tr>\n",
       "  </thead>\n",
       "  <tbody>\n",
       "    <tr>\n",
       "      <th>0</th>\n",
       "      <td>01:20</td>\n",
       "      <td>41164</td>\n",
       "      <td>1969</td>\n",
       "      <td>01n</td>\n",
       "      <td>Cielo Claro</td>\n",
       "      <td>26</td>\n",
       "      <td>2024-02-11 01:20:00</td>\n",
       "      <td>2024-02-11 01:00:00</td>\n",
       "    </tr>\n",
       "    <tr>\n",
       "      <th>1</th>\n",
       "      <td>01:25</td>\n",
       "      <td>41164</td>\n",
       "      <td>1969</td>\n",
       "      <td>01n</td>\n",
       "      <td>Cielo Claro</td>\n",
       "      <td>26</td>\n",
       "      <td>2024-02-11 01:25:00</td>\n",
       "      <td>2024-02-11 01:00:00</td>\n",
       "    </tr>\n",
       "    <tr>\n",
       "      <th>2</th>\n",
       "      <td>01:30</td>\n",
       "      <td>38574</td>\n",
       "      <td>1969</td>\n",
       "      <td>01n</td>\n",
       "      <td>Cielo Claro</td>\n",
       "      <td>26</td>\n",
       "      <td>2024-02-11 01:30:00</td>\n",
       "      <td>2024-02-11 01:00:00</td>\n",
       "    </tr>\n",
       "    <tr>\n",
       "      <th>3</th>\n",
       "      <td>01:35</td>\n",
       "      <td>38574</td>\n",
       "      <td>1969</td>\n",
       "      <td>01n</td>\n",
       "      <td>Cielo Claro</td>\n",
       "      <td>25</td>\n",
       "      <td>2024-02-11 01:35:00</td>\n",
       "      <td>2024-02-11 01:00:00</td>\n",
       "    </tr>\n",
       "    <tr>\n",
       "      <th>4</th>\n",
       "      <td>01:40</td>\n",
       "      <td>38574</td>\n",
       "      <td>1969</td>\n",
       "      <td>01n</td>\n",
       "      <td>Cielo Claro</td>\n",
       "      <td>25</td>\n",
       "      <td>2024-02-11 01:40:00</td>\n",
       "      <td>2024-02-11 01:00:00</td>\n",
       "    </tr>\n",
       "  </tbody>\n",
       "</table>\n",
       "</div>"
      ],
      "text/plain": [
       "    hour  ufs_edesur  ufs_edenor codigo  estado_cielo  temperatura  \\\n",
       "0  01:20       41164        1969    01n  Cielo Claro            26   \n",
       "1  01:25       41164        1969    01n  Cielo Claro            26   \n",
       "2  01:30       38574        1969    01n  Cielo Claro            26   \n",
       "3  01:35       38574        1969    01n  Cielo Claro            25   \n",
       "4  01:40       38574        1969    01n  Cielo Claro            25   \n",
       "\n",
       "             datetime           date_hour  \n",
       "0 2024-02-11 01:20:00 2024-02-11 01:00:00  \n",
       "1 2024-02-11 01:25:00 2024-02-11 01:00:00  \n",
       "2 2024-02-11 01:30:00 2024-02-11 01:00:00  \n",
       "3 2024-02-11 01:35:00 2024-02-11 01:00:00  \n",
       "4 2024-02-11 01:40:00 2024-02-11 01:00:00  "
      ]
     },
     "execution_count": 235,
     "metadata": {},
     "output_type": "execute_result"
    }
   ],
   "source": [
    "clima_df.head()"
   ]
  },
  {
   "cell_type": "code",
   "execution_count": 240,
   "id": "e25e5b5c",
   "metadata": {},
   "outputs": [
    {
     "data": {
      "text/plain": [
       "<AxesSubplot:xlabel='temperatura'>"
      ]
     },
     "execution_count": 240,
     "metadata": {},
     "output_type": "execute_result"
    },
    {
     "data": {
      "image/png": "[encoded data removed]",
      "text/plain": [
       "<Figure size 432x288 with 1 Axes>"
      ]
     },
     "metadata": {
      "needs_background": "light"
     },
     "output_type": "display_data"
    }
   ],
   "source": [
    "clima_df.merge(demanda_df, on='date_hour').groupby('temperatura').demHoy.mean().sort_index().plot()"
   ]
  },
  {
   "cell_type": "code",
   "execution_count": 239,
   "id": "52fc30f1",
   "metadata": {},
   "outputs": [
    {
     "data": {
      "text/plain": [
       "estado_cielo\n",
       "Nubes                           3080.761733\n",
       "Algo De Nubes                   2927.881699\n",
       "Nubes Dispersas                 2847.139645\n",
       "Muy Nuboso                      2759.567203\n",
       "Cielo Claro                     2686.762961\n",
       "Lluvia De Gran Intensidad       2490.611538\n",
       "Lluvia Ligera                   2465.537234\n",
       "Lluvia Moderada                 2454.179167\n",
       "Tormenta Con Lluvia Ligera      2068.166667\n",
       "Tormenta Con Lluvia Intensa     2032.583333\n",
       "Tormenta Con Lluvia             2032.557087\n",
       "Name: demHoy, dtype: float64"
      ]
     },
     "execution_count": 239,
     "metadata": {},
     "output_type": "execute_result"
    }
   ],
   "source": [
    "clima_df.merge(demanda_df, on='date_hour').groupby('estado_cielo').demHoy.mean().sort_values(ascending=False)"
   ]
  },
  {
   "cell_type": "code",
   "execution_count": 243,
   "id": "216bcbae",
   "metadata": {},
   "outputs": [
    {
     "data": {
      "text/plain": [
       "estado_cielo\n",
       "Algo De Nubes                   28.055339\n",
       "Nubes Dispersas                 27.064066\n",
       "Cielo Claro                     26.048100\n",
       "Muy Nuboso                      25.470725\n",
       "Nubes                           24.700000\n",
       "Lluvia Ligera                   24.647287\n",
       "Lluvia Moderada                 23.688581\n",
       "Tormenta Con Lluvia Ligera      22.000000\n",
       "Lluvia De Gran Intensidad       21.028571\n",
       "Tormenta Con Lluvia             20.288889\n",
       "Tormenta Con Lluvia Intensa     20.000000\n",
       "Name: temperatura, dtype: float64"
      ]
     },
     "execution_count": 243,
     "metadata": {},
     "output_type": "execute_result"
    }
   ],
   "source": [
    "clima_df.groupby('estado_cielo').temperatura.mean().sort_values(ascending=False)"
   ]
  },
  {
   "cell_type": "code",
   "execution_count": null,
   "id": "a9c40da2",
   "metadata": {},
   "outputs": [],
   "source": [
    "clima_df.merge(demanda_df, on='date_hour').groupby('estado_cielo').demHoy.mean().sort_values(ascending=False)"
   ]
  },
  {
   "cell_type": "code",
   "execution_count": 230,
   "id": "270c04c5",
   "metadata": {},
   "outputs": [
    {
     "data": {
      "text/html": [
       "<div>\n",
       "<style scoped>\n",
       "    .dataframe tbody tr th:only-of-type {\n",
       "        vertical-align: middle;\n",
       "    }\n",
       "\n",
       "    .dataframe tbody tr th {\n",
       "        vertical-align: top;\n",
       "    }\n",
       "\n",
       "    .dataframe thead th {\n",
       "        text-align: right;\n",
       "    }\n",
       "</style>\n",
       "<table border=\"1\" class=\"dataframe\">\n",
       "  <thead>\n",
       "    <tr style=\"text-align: right;\">\n",
       "      <th></th>\n",
       "      <th>cortes</th>\n",
       "      <th>demHoy</th>\n",
       "    </tr>\n",
       "    <tr>\n",
       "      <th>estado_cielo</th>\n",
       "      <th></th>\n",
       "      <th></th>\n",
       "    </tr>\n",
       "  </thead>\n",
       "  <tbody>\n",
       "    <tr>\n",
       "      <th>Cielo Claro</th>\n",
       "      <td>38723</td>\n",
       "      <td>2933.123636</td>\n",
       "    </tr>\n",
       "    <tr>\n",
       "      <th>Algo De Nubes</th>\n",
       "      <td>15892</td>\n",
       "      <td>2851.188700</td>\n",
       "    </tr>\n",
       "    <tr>\n",
       "      <th>Muy Nuboso</th>\n",
       "      <td>14776</td>\n",
       "      <td>2622.964800</td>\n",
       "    </tr>\n",
       "    <tr>\n",
       "      <th>Nubes Dispersas</th>\n",
       "      <td>14446</td>\n",
       "      <td>2753.606251</td>\n",
       "    </tr>\n",
       "    <tr>\n",
       "      <th>Nubes</th>\n",
       "      <td>9525</td>\n",
       "      <td>3293.536658</td>\n",
       "    </tr>\n",
       "    <tr>\n",
       "      <th>['Cielo Claro ' 'Nubes ']</th>\n",
       "      <td>567</td>\n",
       "      <td>3741.761317</td>\n",
       "    </tr>\n",
       "    <tr>\n",
       "      <th>Lluvia Moderada</th>\n",
       "      <td>273</td>\n",
       "      <td>3162.240842</td>\n",
       "    </tr>\n",
       "    <tr>\n",
       "      <th>['Lluvia Moderada ' 'Nubes Dispersas ']</th>\n",
       "      <td>242</td>\n",
       "      <td>3153.477961</td>\n",
       "    </tr>\n",
       "    <tr>\n",
       "      <th>Lluvia Ligera</th>\n",
       "      <td>124</td>\n",
       "      <td>2258.887097</td>\n",
       "    </tr>\n",
       "    <tr>\n",
       "      <th>Tormenta Con Lluvia Ligera</th>\n",
       "      <td>74</td>\n",
       "      <td>2068.166667</td>\n",
       "    </tr>\n",
       "    <tr>\n",
       "      <th>Tormenta Con Lluvia</th>\n",
       "      <td>61</td>\n",
       "      <td>2032.583333</td>\n",
       "    </tr>\n",
       "    <tr>\n",
       "      <th>Lluvia De Gran Intensidad</th>\n",
       "      <td>59</td>\n",
       "      <td>2031.750000</td>\n",
       "    </tr>\n",
       "  </tbody>\n",
       "</table>\n",
       "</div>"
      ],
      "text/plain": [
       "                                         cortes       demHoy\n",
       "estado_cielo                                                \n",
       "Cielo Claro                               38723  2933.123636\n",
       "Algo De Nubes                             15892  2851.188700\n",
       "Muy Nuboso                                14776  2622.964800\n",
       "Nubes Dispersas                           14446  2753.606251\n",
       "Nubes                                      9525  3293.536658\n",
       "['Cielo Claro ' 'Nubes ']                   567  3741.761317\n",
       "Lluvia Moderada                             273  3162.240842\n",
       "['Lluvia Moderada ' 'Nubes Dispersas ']     242  3153.477961\n",
       "Lluvia Ligera                               124  2258.887097\n",
       "Tormenta Con Lluvia Ligera                   74  2068.166667\n",
       "Tormenta Con Lluvia                          61  2032.583333\n",
       "Lluvia De Gran Intensidad                    59  2031.750000"
      ]
     },
     "execution_count": 230,
     "metadata": {},
     "output_type": "execute_result"
    }
   ],
   "source": [
    "(\n",
    "    a[~merged.demHoy.isna()].groupby('estado_cielo')\n",
    "          .agg({'region': 'count', 'demHoy': 'mean'})\n",
    "          .rename(columns=dict(region='cortes'))\n",
    "          .sort_values('cortes', ascending=False)\n",
    ")"
   ]
  },
  {
   "cell_type": "code",
   "execution_count": 109,
   "id": "d6565402",
   "metadata": {},
   "outputs": [
    {
     "data": {
      "text/plain": [
       "<module 'matplotlib.pyplot' from '/Users/przivic/miniconda3/envs/mlp2022/lib/python3.9/site-packages/matplotlib/pyplot.py'>"
      ]
     },
     "execution_count": 109,
     "metadata": {},
     "output_type": "execute_result"
    }
   ],
   "source": [
    "plt.scatter(merged)"
   ]
  },
  {
   "cell_type": "code",
   "execution_count": null,
   "id": "3fdf2976",
   "metadata": {},
   "outputs": [],
   "source": []
  },
  {
   "cell_type": "code",
   "execution_count": null,
   "id": "5ad6f244",
   "metadata": {},
   "outputs": [],
   "source": [
    "demanda_df, cortes_df, clima_df"
   ]
  },
  {
   "cell_type": "code",
   "execution_count": 105,
   "id": "c2b28c27",
   "metadata": {
    "collapsed": true
   },
   "outputs": [
    {
     "data": {
      "text/plain": [
       "alimentador\n",
       "N:                                           76\n",
       "N:089-1-14/089-1-14                           1\n",
       "N:SAN JUSTO/164-TR1/164-5518                  1\n",
       "R:                                           97\n",
       "R:020-4-45/020-4-45                           1\n",
       "R:022-1-15/022-1-15                           1\n",
       "R:023-1-14/023-1-14                           4\n",
       "R:073-4-46/073-4-46                           1\n",
       "R:077-3-34/077-3-34                          12\n",
       "R:079-5-54/079-5-54                           5\n",
       "R:089-1-16/089-1-16                           1\n",
       "R:113-1-17/113-1-17                           8\n",
       "R:122-4-41/122-4-41                           5\n",
       "R:122-4-43/122-4-43                          12\n",
       "R:122-4-45/122-4-45                           2\n",
       "R:122-4-47/122-4-47                           8\n",
       "R:143-3-36/143-3-36                           3\n",
       "R:147-2-22/147-2-22                           1\n",
       "R:172-2-26/172-2-26                           6\n",
       "R:179-2-22/179-2-22                           1\n",
       "R:182-1-16/182-1-16                           4\n",
       "R:184-2-28/184-2-28                           1\n",
       "R:277-4-44/277-4-44/271-4-81                 14\n",
       "R:BANCALARI/157-TR1/157-5515                  2\n",
       "R:BOULOGNE/56-TR1/56-5517                     1\n",
       "R:CATONAS/256-TR2/256-5532                    1\n",
       "R:CIUDADELA/167-TR2/167-5521                  1\n",
       "R:DERQUI/260-TR2/260-5526                     2\n",
       "R:FORD/151-TR1/151-5516/151-5524/151-5525     2\n",
       "R:MALVINAS/169-TR2/169-5542                  16\n",
       "R:MANZONE/257-TR1/257-5518                    7\n",
       "R:MARCOS PAZ/363-TR1/363-5512                 2\n",
       "R:MARCOS PAZ/363-TR1/363-5517                 2\n",
       "R:MATANZA/65-TR1/65-5517                      4\n",
       "R:MATANZA/65-TR3/65-5522                      1\n",
       "R:MATHEU/51-TR1/51-5513                       3\n",
       "R:ORO VERDE/356-TR2/356-5535                  1\n",
       "R:PARQUE/357-TR4/357-5483                     1\n",
       "R:PILAR/158-TR3/158-5473                      1\n",
       "R:PILAR/158-TR5/158-5483                     23\n",
       "R:RAMOS MEJIA/66-TR1/66-5515                  4\n",
       "R:SAN ALBERTO/366-TR1/366-5515                1\n",
       "R:TIGRE/153-TR1/153-5517                      7\n",
       "R:TIGRE/153-TR2/153-5526                     39\n",
       "S/D                                           1\n",
       "Name: latitud, dtype: int64"
      ]
     },
     "execution_count": 105,
     "metadata": {},
     "output_type": "execute_result"
    }
   ],
   "source": [
    "cortes_df.groupby('alimentador').latitud.nunique()"
   ]
  },
  {
   "cell_type": "code",
   "execution_count": 87,
   "id": "78f3be3e",
   "metadata": {},
   "outputs": [
    {
     "data": {
      "text/html": [
       "<div>\n",
       "<style scoped>\n",
       "    .dataframe tbody tr th:only-of-type {\n",
       "        vertical-align: middle;\n",
       "    }\n",
       "\n",
       "    .dataframe tbody tr th {\n",
       "        vertical-align: top;\n",
       "    }\n",
       "\n",
       "    .dataframe thead th {\n",
       "        text-align: right;\n",
       "    }\n",
       "</style>\n",
       "<table border=\"1\" class=\"dataframe\">\n",
       "  <thead>\n",
       "    <tr style=\"text-align: right;\">\n",
       "      <th></th>\n",
       "      <th>latitud</th>\n",
       "      <th>longitud</th>\n",
       "      <th>misc</th>\n",
       "      <th>descr</th>\n",
       "      <th>tipo</th>\n",
       "      <th>empresa</th>\n",
       "      <th>partido</th>\n",
       "      <th>localidad</th>\n",
       "      <th>subestacion</th>\n",
       "      <th>alimentador</th>\n",
       "      <th>usuarios afectados</th>\n",
       "      <th>hora estimada de normalizacion</th>\n",
       "      <th>date_hour</th>\n",
       "      <th>region</th>\n",
       "    </tr>\n",
       "  </thead>\n",
       "  <tbody>\n",
       "    <tr>\n",
       "      <th>8714</th>\n",
       "      <td>-34.624256</td>\n",
       "      <td>-59.044691</td>\n",
       "      <td>12</td>\n",
       "      <td>&lt;b&gt;CORTE DE MEDIA TENSION&lt;/b&gt;, EDENOR S.A., Pa...</td>\n",
       "      <td>&lt;b&gt;CORTE DE MEDIA TENSION&lt;/b&gt;</td>\n",
       "      <td>EDENOR S.A.</td>\n",
       "      <td>GRAL RODRIGUEZ</td>\n",
       "      <td>GRAL RODRIGUEZ</td>\n",
       "      <td>S/D</td>\n",
       "      <td>R:MALVINAS/169-TR2/169-5476/255-5521</td>\n",
       "      <td>5</td>\n",
       "      <td>2024-02-12 01:00</td>\n",
       "      <td>2024-02-11 22:00:00</td>\n",
       "      <td>1078</td>\n",
       "    </tr>\n",
       "    <tr>\n",
       "      <th>2473</th>\n",
       "      <td>-34.767300</td>\n",
       "      <td>-58.221500</td>\n",
       "      <td>21</td>\n",
       "      <td>&lt;b&gt;CORTE DE BAJA TENSION&lt;/b&gt;, EDESUR S.A., Par...</td>\n",
       "      <td>&lt;b&gt;CORTE DE BAJA TENSION&lt;/b&gt;</td>\n",
       "      <td>EDESUR S.A.</td>\n",
       "      <td>BERAZATEGUI</td>\n",
       "      <td>BERAZATEGUI</td>\n",
       "      <td>NaN</td>\n",
       "      <td>NaN</td>\n",
       "      <td>69</td>\n",
       "      <td>NaN</td>\n",
       "      <td>2024-02-11 07:00:00</td>\n",
       "      <td>1077</td>\n",
       "    </tr>\n",
       "    <tr>\n",
       "      <th>7210</th>\n",
       "      <td>-34.289506</td>\n",
       "      <td>-58.586989</td>\n",
       "      <td>12</td>\n",
       "      <td>&lt;b&gt;CORTE DE MEDIA TENSION&lt;/b&gt;, EDENOR S.A., Pa...</td>\n",
       "      <td>&lt;b&gt;CORTE DE MEDIA TENSION&lt;/b&gt;</td>\n",
       "      <td>EDENOR S.A.</td>\n",
       "      <td>TIGRE</td>\n",
       "      <td>DELTA 1RA SECCION (TI)</td>\n",
       "      <td>S/D</td>\n",
       "      <td>R:TIGRE/153-TR2/153-5526</td>\n",
       "      <td>12</td>\n",
       "      <td>Sin datos</td>\n",
       "      <td>2024-02-11 09:00:00</td>\n",
       "      <td>1078</td>\n",
       "    </tr>\n",
       "    <tr>\n",
       "      <th>9136</th>\n",
       "      <td>-34.628725</td>\n",
       "      <td>-58.436919</td>\n",
       "      <td>11</td>\n",
       "      <td>&lt;b&gt;CORTE DE MEDIA TENSION&lt;/b&gt;, EDESUR S.A., Pa...</td>\n",
       "      <td>&lt;b&gt;CORTE DE MEDIA TENSION&lt;/b&gt;</td>\n",
       "      <td>EDESUR S.A.</td>\n",
       "      <td>CAPITAL RP</td>\n",
       "      <td>PARQUE CHACABUCO</td>\n",
       "      <td>S/D</td>\n",
       "      <td>R:</td>\n",
       "      <td>21</td>\n",
       "      <td>Sin datos</td>\n",
       "      <td>2024-02-12 01:00:00</td>\n",
       "      <td>1077</td>\n",
       "    </tr>\n",
       "    <tr>\n",
       "      <th>5626</th>\n",
       "      <td>-34.626183</td>\n",
       "      <td>-58.445645</td>\n",
       "      <td>11</td>\n",
       "      <td>&lt;b&gt;CORTE DE MEDIA TENSION&lt;/b&gt;, EDESUR S.A., Pa...</td>\n",
       "      <td>&lt;b&gt;CORTE DE MEDIA TENSION&lt;/b&gt;</td>\n",
       "      <td>EDESUR S.A.</td>\n",
       "      <td>CAPITAL RP</td>\n",
       "      <td>CABALLITO RP</td>\n",
       "      <td>ALBERDI</td>\n",
       "      <td>N:218-3-32/218-3-32</td>\n",
       "      <td>22</td>\n",
       "      <td>2024-02-12 13:58</td>\n",
       "      <td>2024-02-12 12:00:00</td>\n",
       "      <td>1077</td>\n",
       "    </tr>\n",
       "    <tr>\n",
       "      <th>1092</th>\n",
       "      <td>-34.614974</td>\n",
       "      <td>-58.432988</td>\n",
       "      <td>11</td>\n",
       "      <td>&lt;b&gt;CORTE DE MEDIA TENSION&lt;/b&gt;, EDESUR S.A., Pa...</td>\n",
       "      <td>&lt;b&gt;CORTE DE MEDIA TENSION&lt;/b&gt;</td>\n",
       "      <td>EDESUR S.A.</td>\n",
       "      <td>CAPITAL GP</td>\n",
       "      <td>CABALLITO GP</td>\n",
       "      <td>S/D</td>\n",
       "      <td>R:</td>\n",
       "      <td>478</td>\n",
       "      <td>2024-02-11 14:54</td>\n",
       "      <td>2024-02-11 02:00:00</td>\n",
       "      <td>1077</td>\n",
       "    </tr>\n",
       "    <tr>\n",
       "      <th>5944</th>\n",
       "      <td>-34.611786</td>\n",
       "      <td>-58.444079</td>\n",
       "      <td>11</td>\n",
       "      <td>&lt;b&gt;CORTE DE MEDIA TENSION&lt;/b&gt;, EDESUR S.A., Pa...</td>\n",
       "      <td>&lt;b&gt;CORTE DE MEDIA TENSION&lt;/b&gt;</td>\n",
       "      <td>EDESUR S.A.</td>\n",
       "      <td>CAPITAL GP</td>\n",
       "      <td>CABALLITO GP</td>\n",
       "      <td>S/D</td>\n",
       "      <td>R:</td>\n",
       "      <td>606</td>\n",
       "      <td>Sin datos</td>\n",
       "      <td>2024-02-11 23:00:00</td>\n",
       "      <td>1077</td>\n",
       "    </tr>\n",
       "    <tr>\n",
       "      <th>2645</th>\n",
       "      <td>-35.064371</td>\n",
       "      <td>-58.545159</td>\n",
       "      <td>11</td>\n",
       "      <td>&lt;b&gt;CORTE DE MEDIA TENSION&lt;/b&gt;, EDESUR S.A., Pa...</td>\n",
       "      <td>&lt;b&gt;CORTE DE MEDIA TENSION&lt;/b&gt;</td>\n",
       "      <td>EDESUR S.A.</td>\n",
       "      <td>SAN VICENTE</td>\n",
       "      <td>SAN VICENTE</td>\n",
       "      <td>GLEW</td>\n",
       "      <td>R:277-4-44/277-4-44/271-4-81</td>\n",
       "      <td>1</td>\n",
       "      <td>2024-02-11 14:41</td>\n",
       "      <td>2024-02-11 13:00:00</td>\n",
       "      <td>1077</td>\n",
       "    </tr>\n",
       "    <tr>\n",
       "      <th>9642</th>\n",
       "      <td>-34.852165</td>\n",
       "      <td>-58.259581</td>\n",
       "      <td>11</td>\n",
       "      <td>&lt;b&gt;CORTE DE MEDIA TENSION&lt;/b&gt;, EDESUR S.A., Pa...</td>\n",
       "      <td>&lt;b&gt;CORTE DE MEDIA TENSION&lt;/b&gt;</td>\n",
       "      <td>EDESUR S.A.</td>\n",
       "      <td>FLORENCIO VARELA</td>\n",
       "      <td>FLORENCIO VARELA</td>\n",
       "      <td>BOSQUES</td>\n",
       "      <td>R:185-2-25/185-2-25</td>\n",
       "      <td>5</td>\n",
       "      <td>2024-02-11 21:11</td>\n",
       "      <td>2024-02-11 14:00:00</td>\n",
       "      <td>1077</td>\n",
       "    </tr>\n",
       "    <tr>\n",
       "      <th>7036</th>\n",
       "      <td>-34.711000</td>\n",
       "      <td>-58.429800</td>\n",
       "      <td>21</td>\n",
       "      <td>&lt;b&gt;CORTE DE BAJA TENSION&lt;/b&gt;, EDESUR S.A., Par...</td>\n",
       "      <td>&lt;b&gt;CORTE DE BAJA TENSION&lt;/b&gt;</td>\n",
       "      <td>EDESUR S.A.</td>\n",
       "      <td>LANUS</td>\n",
       "      <td>LANUS</td>\n",
       "      <td>NaN</td>\n",
       "      <td>NaN</td>\n",
       "      <td>21</td>\n",
       "      <td>NaN</td>\n",
       "      <td>2024-02-12 07:00:00</td>\n",
       "      <td>1077</td>\n",
       "    </tr>\n",
       "  </tbody>\n",
       "</table>\n",
       "</div>"
      ],
      "text/plain": [
       "        latitud   longitud  misc  \\\n",
       "8714 -34.624256 -59.044691    12   \n",
       "2473 -34.767300 -58.221500    21   \n",
       "7210 -34.289506 -58.586989    12   \n",
       "9136 -34.628725 -58.436919    11   \n",
       "5626 -34.626183 -58.445645    11   \n",
       "1092 -34.614974 -58.432988    11   \n",
       "5944 -34.611786 -58.444079    11   \n",
       "2645 -35.064371 -58.545159    11   \n",
       "9642 -34.852165 -58.259581    11   \n",
       "7036 -34.711000 -58.429800    21   \n",
       "\n",
       "                                                  descr  \\\n",
       "8714  <b>CORTE DE MEDIA TENSION</b>, EDENOR S.A., Pa...   \n",
       "2473  <b>CORTE DE BAJA TENSION</b>, EDESUR S.A., Par...   \n",
       "7210  <b>CORTE DE MEDIA TENSION</b>, EDENOR S.A., Pa...   \n",
       "9136  <b>CORTE DE MEDIA TENSION</b>, EDESUR S.A., Pa...   \n",
       "5626  <b>CORTE DE MEDIA TENSION</b>, EDESUR S.A., Pa...   \n",
       "1092  <b>CORTE DE MEDIA TENSION</b>, EDESUR S.A., Pa...   \n",
       "5944  <b>CORTE DE MEDIA TENSION</b>, EDESUR S.A., Pa...   \n",
       "2645  <b>CORTE DE MEDIA TENSION</b>, EDESUR S.A., Pa...   \n",
       "9642  <b>CORTE DE MEDIA TENSION</b>, EDESUR S.A., Pa...   \n",
       "7036  <b>CORTE DE BAJA TENSION</b>, EDESUR S.A., Par...   \n",
       "\n",
       "                               tipo      empresa           partido  \\\n",
       "8714  <b>CORTE DE MEDIA TENSION</b>  EDENOR S.A.    GRAL RODRIGUEZ   \n",
       "2473   <b>CORTE DE BAJA TENSION</b>  EDESUR S.A.       BERAZATEGUI   \n",
       "7210  <b>CORTE DE MEDIA TENSION</b>  EDENOR S.A.             TIGRE   \n",
       "9136  <b>CORTE DE MEDIA TENSION</b>  EDESUR S.A.        CAPITAL RP   \n",
       "5626  <b>CORTE DE MEDIA TENSION</b>  EDESUR S.A.        CAPITAL RP   \n",
       "1092  <b>CORTE DE MEDIA TENSION</b>  EDESUR S.A.        CAPITAL GP   \n",
       "5944  <b>CORTE DE MEDIA TENSION</b>  EDESUR S.A.        CAPITAL GP   \n",
       "2645  <b>CORTE DE MEDIA TENSION</b>  EDESUR S.A.       SAN VICENTE   \n",
       "9642  <b>CORTE DE MEDIA TENSION</b>  EDESUR S.A.  FLORENCIO VARELA   \n",
       "7036   <b>CORTE DE BAJA TENSION</b>  EDESUR S.A.             LANUS   \n",
       "\n",
       "                   localidad subestacion  \\\n",
       "8714          GRAL RODRIGUEZ         S/D   \n",
       "2473             BERAZATEGUI         NaN   \n",
       "7210  DELTA 1RA SECCION (TI)         S/D   \n",
       "9136        PARQUE CHACABUCO         S/D   \n",
       "5626            CABALLITO RP     ALBERDI   \n",
       "1092            CABALLITO GP         S/D   \n",
       "5944            CABALLITO GP         S/D   \n",
       "2645             SAN VICENTE        GLEW   \n",
       "9642        FLORENCIO VARELA     BOSQUES   \n",
       "7036                   LANUS         NaN   \n",
       "\n",
       "                               alimentador  usuarios afectados  \\\n",
       "8714  R:MALVINAS/169-TR2/169-5476/255-5521                   5   \n",
       "2473                                   NaN                  69   \n",
       "7210              R:TIGRE/153-TR2/153-5526                  12   \n",
       "9136                                    R:                  21   \n",
       "5626                   N:218-3-32/218-3-32                  22   \n",
       "1092                                    R:                 478   \n",
       "5944                                    R:                 606   \n",
       "2645          R:277-4-44/277-4-44/271-4-81                   1   \n",
       "9642                   R:185-2-25/185-2-25                   5   \n",
       "7036                                   NaN                  21   \n",
       "\n",
       "     hora estimada de normalizacion           date_hour  region  \n",
       "8714               2024-02-12 01:00 2024-02-11 22:00:00    1078  \n",
       "2473                            NaN 2024-02-11 07:00:00    1077  \n",
       "7210                      Sin datos 2024-02-11 09:00:00    1078  \n",
       "9136                      Sin datos 2024-02-12 01:00:00    1077  \n",
       "5626               2024-02-12 13:58 2024-02-12 12:00:00    1077  \n",
       "1092               2024-02-11 14:54 2024-02-11 02:00:00    1077  \n",
       "5944                      Sin datos 2024-02-11 23:00:00    1077  \n",
       "2645               2024-02-11 14:41 2024-02-11 13:00:00    1077  \n",
       "9642               2024-02-11 21:11 2024-02-11 14:00:00    1077  \n",
       "7036                            NaN 2024-02-12 07:00:00    1077  "
      ]
     },
     "execution_count": 87,
     "metadata": {},
     "output_type": "execute_result"
    }
   ],
   "source": [
    "cortes_df.sample(10)"
   ]
  },
  {
   "cell_type": "code",
   "execution_count": 38,
   "id": "3354aae5",
   "metadata": {},
   "outputs": [
    {
     "data": {
      "text/plain": [
       "alimentador\n",
       "R:TIGRE/153-TR2/153-5526           5276\n",
       "R:15-2521                          4727\n",
       "R:                                 2531\n",
       "N:                                 2084\n",
       "R:185-1-16/185-1-16                2067\n",
       "                                   ... \n",
       "R:TORTUGUITAS/252-TR2/252-5534        1\n",
       "R:FORD/151-TR2/151-5531               1\n",
       "R:ALTOS/272-TR2/272-5533              1\n",
       "R:ARA SAN JUAN/362-TR2/362-5525       1\n",
       "R:SAN JUSTO/164-TR1/164-5512          1\n",
       "Name: latitud, Length: 454, dtype: int64"
      ]
     },
     "execution_count": 38,
     "metadata": {},
     "output_type": "execute_result"
    }
   ],
   "source": [
    "cortes_df.groupby('alimentador').latitud.count().sort_values(ascending=False)"
   ]
  },
  {
   "cell_type": "code",
   "execution_count": null,
   "id": "9cfba7b7",
   "metadata": {},
   "outputs": [],
   "source": []
  },
  {
   "cell_type": "code",
   "execution_count": 87,
   "id": "7d799f6e",
   "metadata": {},
   "outputs": [
    {
     "data": {
      "text/html": [
       "<div>\n",
       "<style scoped>\n",
       "    .dataframe tbody tr th:only-of-type {\n",
       "        vertical-align: middle;\n",
       "    }\n",
       "\n",
       "    .dataframe tbody tr th {\n",
       "        vertical-align: top;\n",
       "    }\n",
       "\n",
       "    .dataframe thead th {\n",
       "        text-align: right;\n",
       "    }\n",
       "</style>\n",
       "<table border=\"1\" class=\"dataframe\">\n",
       "  <thead>\n",
       "    <tr style=\"text-align: right;\">\n",
       "      <th></th>\n",
       "      <th>latitud</th>\n",
       "      <th>longitud</th>\n",
       "      <th>misc</th>\n",
       "      <th>descr</th>\n",
       "      <th>tipo</th>\n",
       "      <th>empresa</th>\n",
       "      <th>partido</th>\n",
       "      <th>localidad</th>\n",
       "      <th>subestacion</th>\n",
       "      <th>alimentador</th>\n",
       "      <th>usuarios afectados</th>\n",
       "      <th>hora estimada de normalizacion</th>\n",
       "      <th>date_hour</th>\n",
       "      <th>region</th>\n",
       "    </tr>\n",
       "  </thead>\n",
       "  <tbody>\n",
       "    <tr>\n",
       "      <th>8714</th>\n",
       "      <td>-34.624256</td>\n",
       "      <td>-59.044691</td>\n",
       "      <td>12</td>\n",
       "      <td>&lt;b&gt;CORTE DE MEDIA TENSION&lt;/b&gt;, EDENOR S.A., Pa...</td>\n",
       "      <td>&lt;b&gt;CORTE DE MEDIA TENSION&lt;/b&gt;</td>\n",
       "      <td>EDENOR S.A.</td>\n",
       "      <td>GRAL RODRIGUEZ</td>\n",
       "      <td>GRAL RODRIGUEZ</td>\n",
       "      <td>S/D</td>\n",
       "      <td>R:MALVINAS/169-TR2/169-5476/255-5521</td>\n",
       "      <td>5</td>\n",
       "      <td>2024-02-12 01:00</td>\n",
       "      <td>2024-02-11 22:00:00</td>\n",
       "      <td>1078</td>\n",
       "    </tr>\n",
       "    <tr>\n",
       "      <th>2473</th>\n",
       "      <td>-34.767300</td>\n",
       "      <td>-58.221500</td>\n",
       "      <td>21</td>\n",
       "      <td>&lt;b&gt;CORTE DE BAJA TENSION&lt;/b&gt;, EDESUR S.A., Par...</td>\n",
       "      <td>&lt;b&gt;CORTE DE BAJA TENSION&lt;/b&gt;</td>\n",
       "      <td>EDESUR S.A.</td>\n",
       "      <td>BERAZATEGUI</td>\n",
       "      <td>BERAZATEGUI</td>\n",
       "      <td>NaN</td>\n",
       "      <td>NaN</td>\n",
       "      <td>69</td>\n",
       "      <td>NaN</td>\n",
       "      <td>2024-02-11 07:00:00</td>\n",
       "      <td>1077</td>\n",
       "    </tr>\n",
       "    <tr>\n",
       "      <th>7210</th>\n",
       "      <td>-34.289506</td>\n",
       "      <td>-58.586989</td>\n",
       "      <td>12</td>\n",
       "      <td>&lt;b&gt;CORTE DE MEDIA TENSION&lt;/b&gt;, EDENOR S.A., Pa...</td>\n",
       "      <td>&lt;b&gt;CORTE DE MEDIA TENSION&lt;/b&gt;</td>\n",
       "      <td>EDENOR S.A.</td>\n",
       "      <td>TIGRE</td>\n",
       "      <td>DELTA 1RA SECCION (TI)</td>\n",
       "      <td>S/D</td>\n",
       "      <td>R:TIGRE/153-TR2/153-5526</td>\n",
       "      <td>12</td>\n",
       "      <td>Sin datos</td>\n",
       "      <td>2024-02-11 09:00:00</td>\n",
       "      <td>1078</td>\n",
       "    </tr>\n",
       "    <tr>\n",
       "      <th>9136</th>\n",
       "      <td>-34.628725</td>\n",
       "      <td>-58.436919</td>\n",
       "      <td>11</td>\n",
       "      <td>&lt;b&gt;CORTE DE MEDIA TENSION&lt;/b&gt;, EDESUR S.A., Pa...</td>\n",
       "      <td>&lt;b&gt;CORTE DE MEDIA TENSION&lt;/b&gt;</td>\n",
       "      <td>EDESUR S.A.</td>\n",
       "      <td>CAPITAL RP</td>\n",
       "      <td>PARQUE CHACABUCO</td>\n",
       "      <td>S/D</td>\n",
       "      <td>R:</td>\n",
       "      <td>21</td>\n",
       "      <td>Sin datos</td>\n",
       "      <td>2024-02-12 01:00:00</td>\n",
       "      <td>1077</td>\n",
       "    </tr>\n",
       "    <tr>\n",
       "      <th>5626</th>\n",
       "      <td>-34.626183</td>\n",
       "      <td>-58.445645</td>\n",
       "      <td>11</td>\n",
       "      <td>&lt;b&gt;CORTE DE MEDIA TENSION&lt;/b&gt;, EDESUR S.A., Pa...</td>\n",
       "      <td>&lt;b&gt;CORTE DE MEDIA TENSION&lt;/b&gt;</td>\n",
       "      <td>EDESUR S.A.</td>\n",
       "      <td>CAPITAL RP</td>\n",
       "      <td>CABALLITO RP</td>\n",
       "      <td>ALBERDI</td>\n",
       "      <td>N:218-3-32/218-3-32</td>\n",
       "      <td>22</td>\n",
       "      <td>2024-02-12 13:58</td>\n",
       "      <td>2024-02-12 12:00:00</td>\n",
       "      <td>1077</td>\n",
       "    </tr>\n",
       "    <tr>\n",
       "      <th>1092</th>\n",
       "      <td>-34.614974</td>\n",
       "      <td>-58.432988</td>\n",
       "      <td>11</td>\n",
       "      <td>&lt;b&gt;CORTE DE MEDIA TENSION&lt;/b&gt;, EDESUR S.A., Pa...</td>\n",
       "      <td>&lt;b&gt;CORTE DE MEDIA TENSION&lt;/b&gt;</td>\n",
       "      <td>EDESUR S.A.</td>\n",
       "      <td>CAPITAL GP</td>\n",
       "      <td>CABALLITO GP</td>\n",
       "      <td>S/D</td>\n",
       "      <td>R:</td>\n",
       "      <td>478</td>\n",
       "      <td>2024-02-11 14:54</td>\n",
       "      <td>2024-02-11 02:00:00</td>\n",
       "      <td>1077</td>\n",
       "    </tr>\n",
       "    <tr>\n",
       "      <th>5944</th>\n",
       "      <td>-34.611786</td>\n",
       "      <td>-58.444079</td>\n",
       "      <td>11</td>\n",
       "      <td>&lt;b&gt;CORTE DE MEDIA TENSION&lt;/b&gt;, EDESUR S.A., Pa...</td>\n",
       "      <td>&lt;b&gt;CORTE DE MEDIA TENSION&lt;/b&gt;</td>\n",
       "      <td>EDESUR S.A.</td>\n",
       "      <td>CAPITAL GP</td>\n",
       "      <td>CABALLITO GP</td>\n",
       "      <td>S/D</td>\n",
       "      <td>R:</td>\n",
       "      <td>606</td>\n",
       "      <td>Sin datos</td>\n",
       "      <td>2024-02-11 23:00:00</td>\n",
       "      <td>1077</td>\n",
       "    </tr>\n",
       "    <tr>\n",
       "      <th>2645</th>\n",
       "      <td>-35.064371</td>\n",
       "      <td>-58.545159</td>\n",
       "      <td>11</td>\n",
       "      <td>&lt;b&gt;CORTE DE MEDIA TENSION&lt;/b&gt;, EDESUR S.A., Pa...</td>\n",
       "      <td>&lt;b&gt;CORTE DE MEDIA TENSION&lt;/b&gt;</td>\n",
       "      <td>EDESUR S.A.</td>\n",
       "      <td>SAN VICENTE</td>\n",
       "      <td>SAN VICENTE</td>\n",
       "      <td>GLEW</td>\n",
       "      <td>R:277-4-44/277-4-44/271-4-81</td>\n",
       "      <td>1</td>\n",
       "      <td>2024-02-11 14:41</td>\n",
       "      <td>2024-02-11 13:00:00</td>\n",
       "      <td>1077</td>\n",
       "    </tr>\n",
       "    <tr>\n",
       "      <th>9642</th>\n",
       "      <td>-34.852165</td>\n",
       "      <td>-58.259581</td>\n",
       "      <td>11</td>\n",
       "      <td>&lt;b&gt;CORTE DE MEDIA TENSION&lt;/b&gt;, EDESUR S.A., Pa...</td>\n",
       "      <td>&lt;b&gt;CORTE DE MEDIA TENSION&lt;/b&gt;</td>\n",
       "      <td>EDESUR S.A.</td>\n",
       "      <td>FLORENCIO VARELA</td>\n",
       "      <td>FLORENCIO VARELA</td>\n",
       "      <td>BOSQUES</td>\n",
       "      <td>R:185-2-25/185-2-25</td>\n",
       "      <td>5</td>\n",
       "      <td>2024-02-11 21:11</td>\n",
       "      <td>2024-02-11 14:00:00</td>\n",
       "      <td>1077</td>\n",
       "    </tr>\n",
       "    <tr>\n",
       "      <th>7036</th>\n",
       "      <td>-34.711000</td>\n",
       "      <td>-58.429800</td>\n",
       "      <td>21</td>\n",
       "      <td>&lt;b&gt;CORTE DE BAJA TENSION&lt;/b&gt;, EDESUR S.A., Par...</td>\n",
       "      <td>&lt;b&gt;CORTE DE BAJA TENSION&lt;/b&gt;</td>\n",
       "      <td>EDESUR S.A.</td>\n",
       "      <td>LANUS</td>\n",
       "      <td>LANUS</td>\n",
       "      <td>NaN</td>\n",
       "      <td>NaN</td>\n",
       "      <td>21</td>\n",
       "      <td>NaN</td>\n",
       "      <td>2024-02-12 07:00:00</td>\n",
       "      <td>1077</td>\n",
       "    </tr>\n",
       "  </tbody>\n",
       "</table>\n",
       "</div>"
      ],
      "text/plain": [
       "        latitud   longitud  misc  \\\n",
       "8714 -34.624256 -59.044691    12   \n",
       "2473 -34.767300 -58.221500    21   \n",
       "7210 -34.289506 -58.586989    12   \n",
       "9136 -34.628725 -58.436919    11   \n",
       "5626 -34.626183 -58.445645    11   \n",
       "1092 -34.614974 -58.432988    11   \n",
       "5944 -34.611786 -58.444079    11   \n",
       "2645 -35.064371 -58.545159    11   \n",
       "9642 -34.852165 -58.259581    11   \n",
       "7036 -34.711000 -58.429800    21   \n",
       "\n",
       "                                                  descr  \\\n",
       "8714  <b>CORTE DE MEDIA TENSION</b>, EDENOR S.A., Pa...   \n",
       "2473  <b>CORTE DE BAJA TENSION</b>, EDESUR S.A., Par...   \n",
       "7210  <b>CORTE DE MEDIA TENSION</b>, EDENOR S.A., Pa...   \n",
       "9136  <b>CORTE DE MEDIA TENSION</b>, EDESUR S.A., Pa...   \n",
       "5626  <b>CORTE DE MEDIA TENSION</b>, EDESUR S.A., Pa...   \n",
       "1092  <b>CORTE DE MEDIA TENSION</b>, EDESUR S.A., Pa...   \n",
       "5944  <b>CORTE DE MEDIA TENSION</b>, EDESUR S.A., Pa...   \n",
       "2645  <b>CORTE DE MEDIA TENSION</b>, EDESUR S.A., Pa...   \n",
       "9642  <b>CORTE DE MEDIA TENSION</b>, EDESUR S.A., Pa...   \n",
       "7036  <b>CORTE DE BAJA TENSION</b>, EDESUR S.A., Par...   \n",
       "\n",
       "                               tipo      empresa           partido  \\\n",
       "8714  <b>CORTE DE MEDIA TENSION</b>  EDENOR S.A.    GRAL RODRIGUEZ   \n",
       "2473   <b>CORTE DE BAJA TENSION</b>  EDESUR S.A.       BERAZATEGUI   \n",
       "7210  <b>CORTE DE MEDIA TENSION</b>  EDENOR S.A.             TIGRE   \n",
       "9136  <b>CORTE DE MEDIA TENSION</b>  EDESUR S.A.        CAPITAL RP   \n",
       "5626  <b>CORTE DE MEDIA TENSION</b>  EDESUR S.A.        CAPITAL RP   \n",
       "1092  <b>CORTE DE MEDIA TENSION</b>  EDESUR S.A.        CAPITAL GP   \n",
       "5944  <b>CORTE DE MEDIA TENSION</b>  EDESUR S.A.        CAPITAL GP   \n",
       "2645  <b>CORTE DE MEDIA TENSION</b>  EDESUR S.A.       SAN VICENTE   \n",
       "9642  <b>CORTE DE MEDIA TENSION</b>  EDESUR S.A.  FLORENCIO VARELA   \n",
       "7036   <b>CORTE DE BAJA TENSION</b>  EDESUR S.A.             LANUS   \n",
       "\n",
       "                   localidad subestacion  \\\n",
       "8714          GRAL RODRIGUEZ         S/D   \n",
       "2473             BERAZATEGUI         NaN   \n",
       "7210  DELTA 1RA SECCION (TI)         S/D   \n",
       "9136        PARQUE CHACABUCO         S/D   \n",
       "5626            CABALLITO RP     ALBERDI   \n",
       "1092            CABALLITO GP         S/D   \n",
       "5944            CABALLITO GP         S/D   \n",
       "2645             SAN VICENTE        GLEW   \n",
       "9642        FLORENCIO VARELA     BOSQUES   \n",
       "7036                   LANUS         NaN   \n",
       "\n",
       "                               alimentador  usuarios afectados  \\\n",
       "8714  R:MALVINAS/169-TR2/169-5476/255-5521                   5   \n",
       "2473                                   NaN                  69   \n",
       "7210              R:TIGRE/153-TR2/153-5526                  12   \n",
       "9136                                    R:                  21   \n",
       "5626                   N:218-3-32/218-3-32                  22   \n",
       "1092                                    R:                 478   \n",
       "5944                                    R:                 606   \n",
       "2645          R:277-4-44/277-4-44/271-4-81                   1   \n",
       "9642                   R:185-2-25/185-2-25                   5   \n",
       "7036                                   NaN                  21   \n",
       "\n",
       "     hora estimada de normalizacion           date_hour  region  \n",
       "8714               2024-02-12 01:00 2024-02-11 22:00:00    1078  \n",
       "2473                            NaN 2024-02-11 07:00:00    1077  \n",
       "7210                      Sin datos 2024-02-11 09:00:00    1078  \n",
       "9136                      Sin datos 2024-02-12 01:00:00    1077  \n",
       "5626               2024-02-12 13:58 2024-02-12 12:00:00    1077  \n",
       "1092               2024-02-11 14:54 2024-02-11 02:00:00    1077  \n",
       "5944                      Sin datos 2024-02-11 23:00:00    1077  \n",
       "2645               2024-02-11 14:41 2024-02-11 13:00:00    1077  \n",
       "9642               2024-02-11 21:11 2024-02-11 14:00:00    1077  \n",
       "7036                            NaN 2024-02-12 07:00:00    1077  "
      ]
     },
     "execution_count": 87,
     "metadata": {},
     "output_type": "execute_result"
    }
   ],
   "source": [
    "cortes_df.sample(10)"
   ]
  },
  {
   "cell_type": "markdown",
   "id": "cc7b3e01",
   "metadata": {},
   "source": [
    "# Algoritmo duracion cortes"
   ]
  },
  {
   "cell_type": "code",
   "execution_count": 92,
   "id": "87c64b4d",
   "metadata": {},
   "outputs": [
    {
     "data": {
      "text/plain": [
       "0.24566469785328013"
      ]
     },
     "execution_count": 92,
     "metadata": {},
     "output_type": "execute_result"
    }
   ],
   "source": [
    "cortes_df.subestacion.isna().sum() / len(cortes_df)"
   ]
  },
  {
   "cell_type": "code",
   "execution_count": 20,
   "id": "34e29f9a",
   "metadata": {},
   "outputs": [],
   "source": [
    "for c in cortes:\n",
    "    if 'subestacion' in c:\n",
    "        c['id'] = c['subestacion']\n",
    "    else:\n",
    "        c['id'] = c['localidad']"
   ]
  },
  {
   "cell_type": "code",
   "execution_count": 134,
   "id": "2db25802",
   "metadata": {},
   "outputs": [
    {
     "name": "stdout",
     "output_type": "stream",
     "text": [
      "> \u001b[0;32m/var/folders/55/555sz06s5477c_l2bss1ndnwmmmmq7/T/ipykernel_4502/2065986696.py\u001b[0m(11)\u001b[0;36m<cell line: 6>\u001b[0;34m()\u001b[0m\n",
      "\u001b[0;32m     10 \u001b[0;31m    \u001b[0;32mimport\u001b[0m \u001b[0mipdb\u001b[0m\u001b[0;34m;\u001b[0m\u001b[0mipdb\u001b[0m\u001b[0;34m.\u001b[0m\u001b[0mset_trace\u001b[0m\u001b[0;34m(\u001b[0m\u001b[0;34m)\u001b[0m\u001b[0;34m\u001b[0m\u001b[0;34m\u001b[0m\u001b[0m\n",
      "\u001b[0m\u001b[0;32m---> 11 \u001b[0;31m    \u001b[0;32mfor\u001b[0m \u001b[0mcorte\u001b[0m \u001b[0;32min\u001b[0m \u001b[0mid_cortes\u001b[0m\u001b[0;34m:\u001b[0m\u001b[0;34m\u001b[0m\u001b[0;34m\u001b[0m\u001b[0m\n",
      "\u001b[0m\u001b[0;32m     12 \u001b[0;31m        \u001b[0;32mif\u001b[0m \u001b[0mlast_hour\u001b[0m \u001b[0;32mis\u001b[0m \u001b[0;32mNone\u001b[0m\u001b[0;34m:\u001b[0m\u001b[0;34m\u001b[0m\u001b[0;34m\u001b[0m\u001b[0m\n",
      "\u001b[0m\n",
      "ipdb> q\n"
     ]
    },
    {
     "ename": "BdbQuit",
     "evalue": "",
     "output_type": "error",
     "traceback": [
      "\u001b[0;31m---------------------------------------------------------------------------\u001b[0m",
      "\u001b[0;31mBdbQuit\u001b[0m                                   Traceback (most recent call last)",
      "Input \u001b[0;32mIn [134]\u001b[0m, in \u001b[0;36m<cell line: 6>\u001b[0;34m()\u001b[0m\n\u001b[1;32m      9\u001b[0m id_cortes \u001b[38;5;241m=\u001b[39m \u001b[38;5;28mlist\u001b[39m(id_cortes)\n\u001b[1;32m     10\u001b[0m \u001b[38;5;28;01mimport\u001b[39;00m \u001b[38;5;21;01mipdb\u001b[39;00m;ipdb\u001b[38;5;241m.\u001b[39mset_trace()\n\u001b[0;32m---> 11\u001b[0m \u001b[38;5;28;01mfor\u001b[39;00m corte \u001b[38;5;129;01min\u001b[39;00m \u001b[43mid_cortes\u001b[49m:\n\u001b[1;32m     12\u001b[0m     \u001b[38;5;28;01mif\u001b[39;00m last_hour \u001b[38;5;129;01mis\u001b[39;00m \u001b[38;5;28;01mNone\u001b[39;00m:\n\u001b[1;32m     13\u001b[0m         last_hour \u001b[38;5;241m=\u001b[39m corte[\u001b[38;5;124m'\u001b[39m\u001b[38;5;124mdate_hour\u001b[39m\u001b[38;5;124m'\u001b[39m]\n",
      "Input \u001b[0;32mIn [134]\u001b[0m, in \u001b[0;36m<cell line: 6>\u001b[0;34m()\u001b[0m\n\u001b[1;32m      9\u001b[0m id_cortes \u001b[38;5;241m=\u001b[39m \u001b[38;5;28mlist\u001b[39m(id_cortes)\n\u001b[1;32m     10\u001b[0m \u001b[38;5;28;01mimport\u001b[39;00m \u001b[38;5;21;01mipdb\u001b[39;00m;ipdb\u001b[38;5;241m.\u001b[39mset_trace()\n\u001b[0;32m---> 11\u001b[0m \u001b[38;5;28;01mfor\u001b[39;00m corte \u001b[38;5;129;01min\u001b[39;00m \u001b[43mid_cortes\u001b[49m:\n\u001b[1;32m     12\u001b[0m     \u001b[38;5;28;01mif\u001b[39;00m last_hour \u001b[38;5;129;01mis\u001b[39;00m \u001b[38;5;28;01mNone\u001b[39;00m:\n\u001b[1;32m     13\u001b[0m         last_hour \u001b[38;5;241m=\u001b[39m corte[\u001b[38;5;124m'\u001b[39m\u001b[38;5;124mdate_hour\u001b[39m\u001b[38;5;124m'\u001b[39m]\n",
      "File \u001b[0;32m~/miniconda3/envs/mlp2022/lib/python3.9/bdb.py:88\u001b[0m, in \u001b[0;36mBdb.trace_dispatch\u001b[0;34m(self, frame, event, arg)\u001b[0m\n\u001b[1;32m     86\u001b[0m     \u001b[38;5;28;01mreturn\u001b[39;00m \u001b[38;5;66;03m# None\u001b[39;00m\n\u001b[1;32m     87\u001b[0m \u001b[38;5;28;01mif\u001b[39;00m event \u001b[38;5;241m==\u001b[39m \u001b[38;5;124m'\u001b[39m\u001b[38;5;124mline\u001b[39m\u001b[38;5;124m'\u001b[39m:\n\u001b[0;32m---> 88\u001b[0m     \u001b[38;5;28;01mreturn\u001b[39;00m \u001b[38;5;28;43mself\u001b[39;49m\u001b[38;5;241;43m.\u001b[39;49m\u001b[43mdispatch_line\u001b[49m\u001b[43m(\u001b[49m\u001b[43mframe\u001b[49m\u001b[43m)\u001b[49m\n\u001b[1;32m     89\u001b[0m \u001b[38;5;28;01mif\u001b[39;00m event \u001b[38;5;241m==\u001b[39m \u001b[38;5;124m'\u001b[39m\u001b[38;5;124mcall\u001b[39m\u001b[38;5;124m'\u001b[39m:\n\u001b[1;32m     90\u001b[0m     \u001b[38;5;28;01mreturn\u001b[39;00m \u001b[38;5;28mself\u001b[39m\u001b[38;5;241m.\u001b[39mdispatch_call(frame, arg)\n",
      "File \u001b[0;32m~/miniconda3/envs/mlp2022/lib/python3.9/bdb.py:113\u001b[0m, in \u001b[0;36mBdb.dispatch_line\u001b[0;34m(self, frame)\u001b[0m\n\u001b[1;32m    111\u001b[0m \u001b[38;5;28;01mif\u001b[39;00m \u001b[38;5;28mself\u001b[39m\u001b[38;5;241m.\u001b[39mstop_here(frame) \u001b[38;5;129;01mor\u001b[39;00m \u001b[38;5;28mself\u001b[39m\u001b[38;5;241m.\u001b[39mbreak_here(frame):\n\u001b[1;32m    112\u001b[0m     \u001b[38;5;28mself\u001b[39m\u001b[38;5;241m.\u001b[39muser_line(frame)\n\u001b[0;32m--> 113\u001b[0m     \u001b[38;5;28;01mif\u001b[39;00m \u001b[38;5;28mself\u001b[39m\u001b[38;5;241m.\u001b[39mquitting: \u001b[38;5;28;01mraise\u001b[39;00m BdbQuit\n\u001b[1;32m    114\u001b[0m \u001b[38;5;28;01mreturn\u001b[39;00m \u001b[38;5;28mself\u001b[39m\u001b[38;5;241m.\u001b[39mtrace_dispatch\n",
      "\u001b[0;31mBdbQuit\u001b[0m: "
     ]
    }
   ],
   "source": [
    "from itertools import groupby\n",
    "\n",
    "# Algoritmo de Maru :heart:\n",
    "cortes.sort(key=lambda x: (x['id'], x['date_hour']))\n",
    "\n",
    "for id, id_cortes in groupby(cortes, key=lambda x: x['id']):\n",
    "    last_hour = None\n",
    "    current = []\n",
    "    id_cortes = list(id_cortes)\n",
    "    import ipdb;ipdb.set_trace()\n",
    "    for corte in id_cortes:\n",
    "        if last_hour is None:\n",
    "            last_hour = corte['date_hour']\n",
    "            current.append(corte)\n",
    "            \n",
    "        elif (corte['date_hour'] - last_hour).total_seconds() <= 30*60:\n",
    "            last_hour = corte['date_hour']\n",
    "            current.append(corte)\n",
    "            \n",
    "        else:\n",
    "            duration = current[-1]['date_hour'] - current[0]['date_hour']\n",
    "            for c in current:\n",
    "                c['real_duration'] = duration\n",
    "                \n",
    "            current = [corte]\n",
    "    \n",
    "    if current:\n",
    "        duration = current[-1]['date_hour'] - current[0]['date_hour']\n",
    "        for c in current:\n",
    "            c['real_duration'] = duration\n",
    "\n",
    "    \n",
    "    "
   ]
  },
  {
   "cell_type": "code",
   "execution_count": 21,
   "id": "6db32944",
   "metadata": {},
   "outputs": [
    {
     "ename": "TypeError",
     "evalue": "tuple indices must be integers or slices, not str",
     "output_type": "error",
     "traceback": [
      "\u001b[0;31m---------------------------------------------------------------------------\u001b[0m",
      "\u001b[0;31mTypeError\u001b[0m                                 Traceback (most recent call last)",
      "Input \u001b[0;32mIn [21]\u001b[0m, in \u001b[0;36m<cell line: 11>\u001b[0;34m()\u001b[0m\n\u001b[1;32m     10\u001b[0m data_points \u001b[38;5;241m=\u001b[39m []\n\u001b[1;32m     11\u001b[0m \u001b[38;5;28;01mfor\u001b[39;00m doc \u001b[38;5;129;01min\u001b[39;00m cortes_df\u001b[38;5;241m.\u001b[39mgroupby([\u001b[38;5;124m'\u001b[39m\u001b[38;5;124mlatitud\u001b[39m\u001b[38;5;124m'\u001b[39m, \u001b[38;5;124m'\u001b[39m\u001b[38;5;124mlongitud\u001b[39m\u001b[38;5;124m'\u001b[39m]):\n\u001b[0;32m---> 12\u001b[0m     data_points\u001b[38;5;241m.\u001b[39mappend((\u001b[43mdoc\u001b[49m\u001b[43m[\u001b[49m\u001b[38;5;124;43m'\u001b[39;49m\u001b[38;5;124;43mlatitud\u001b[39;49m\u001b[38;5;124;43m'\u001b[39;49m\u001b[43m]\u001b[49m, doc[\u001b[38;5;124m'\u001b[39m\u001b[38;5;124mlongitud\u001b[39m\u001b[38;5;124m'\u001b[39m], \u001b[38;5;28mint\u001b[39m(doc[\u001b[38;5;124m'\u001b[39m\u001b[38;5;124musuarios afectados\u001b[39m\u001b[38;5;124m'\u001b[39m])))\n\u001b[1;32m     14\u001b[0m \u001b[38;5;66;03m# Add a heatmap layer\u001b[39;00m\n\u001b[1;32m     15\u001b[0m HeatMap(data_points, radius\u001b[38;5;241m=\u001b[39m\u001b[38;5;241m20\u001b[39m)\u001b[38;5;241m.\u001b[39madd_to(m)\n",
      "\u001b[0;31mTypeError\u001b[0m: tuple indices must be integers or slices, not str"
     ]
    }
   ],
   "source": [
    "import folium\n",
    "from folium.plugins import HeatMap\n",
    "\n",
    "# Create a base map using OpenStreetMap\n",
    "\n",
    "m = folium.Map(location=[cortes_df.latitud.median(), cortes_df.longitud.median()], zoom_start=12)\n",
    "\n",
    "# Sample data points (replace with your own data)\n",
    "# data_points = [(latitude1, longitude1), (latitude2, longitude2), ...]\n",
    "data_points = []\n",
    "for doc in cortes_df.groupby(['latitud', 'longitud']):\n",
    "    data_points.append((doc['latitud'], doc['longitud'], int(doc['usuarios afectados'])))\n",
    "\n",
    "# Add a heatmap layer\n",
    "HeatMap(data_points, radius=20).add_to(m)\n",
    "\n",
    "# OR\n",
    "m"
   ]
  }
 ],
 "metadata": {
  "kernelspec": {
   "display_name": "Python 3 (ipykernel)",
   "language": "python",
   "name": "python3"
  },
  "language_info": {
   "codemirror_mode": {
    "name": "ipython",
    "version": 3
   },
   "file_extension": ".py",
   "mimetype": "text/x-python",
   "name": "python",
   "nbconvert_exporter": "python",
   "pygments_lexer": "ipython3",
   "version": "3.9.12"
  }
 },
 "nbformat": 4,
 "nbformat_minor": 5
}
