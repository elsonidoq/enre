{
 "cells": [
  {
   "cell_type": "code",
   "execution_count": 1,
   "id": "fb548201",
   "metadata": {},
   "outputs": [],
   "source": [
    "import requests\n",
    "from datetime import datetime\n",
    "\n",
    "import os\n",
    "from apiclient.http import MediaFileUpload, MediaIoBaseDownload\n",
    "from google.oauth2 import service_account\n",
    "from googleapiclient.discovery import build\n",
    "\n",
    "def setup_gdrive(credentials_secret):\n",
    "    with open('credentials.json', 'w') as f:\n",
    "        f.write(os.environ[credentials_secret])\n",
    "        \n",
    "    # Load the credentials from the JSON key file\n",
    "    credentials = service_account.Credentials.from_service_account_file(\n",
    "        'credentials.json',\n",
    "        scopes=['https://www.googleapis.com/auth/drive']\n",
    "    )\n",
    "\n",
    "    drive_service = build('drive', 'v3', credentials=credentials)\n",
    "    return drive_service\n",
    "\n"
   ]
  },
  {
   "cell_type": "code",
   "execution_count": 2,
   "id": "14622f0e",
   "metadata": {
    "scrolled": true
   },
   "outputs": [],
   "source": [
    "with open('enre-414003-3724f64a117f.json') as f:\n",
    "    credentials = f.read()\n",
    "\n",
    "os.environ['GDRIVE_SECRET'] = credentials"
   ]
  },
  {
   "cell_type": "code",
   "execution_count": 3,
   "id": "71258477",
   "metadata": {},
   "outputs": [],
   "source": [
    "drive_service = setup_gdrive('GDRIVE_SECRET')"
   ]
  },
  {
   "cell_type": "code",
   "execution_count": 4,
   "id": "e2a2ee45",
   "metadata": {},
   "outputs": [],
   "source": [
    "import os\n",
    "\n",
    "def download_file(file, path, skip_existing=False):\n",
    "    file_id = file['id']\n",
    "    request = drive_service.files().get_media(fileId=file_id)\n",
    "    if skip_existing and os.path.exists(os.path.join(path, file['name'])):\n",
    "        return False\n",
    "    \n",
    "    with open(os.path.join(path, file['name']), 'wb') as fh:\n",
    "        downloader = MediaIoBaseDownload(fh, request)\n",
    "        done = False\n",
    "        while not done:\n",
    "            status, done = downloader.next_chunk()\n",
    "            return True"
   ]
  },
  {
   "cell_type": "code",
   "execution_count": 5,
   "id": "48adda3e",
   "metadata": {},
   "outputs": [],
   "source": [
    "def download_all_files(path, skip_existing):\n",
    "    response = drive_service.files().list().execute()\n",
    "    \n",
    "    files = response['files']\n",
    "    page_no = 1\n",
    "    while response.get('nextPageToken'):\n",
    "        print('Downloading page', page_no)\n",
    "        for file in files:\n",
    "            download_file(file, path, skip_existing=skip_existing)\n",
    "        \n",
    "        response = drive_service.files().list(pageToken=response['nextPageToken']).execute()\n",
    "        files = response['files']\n",
    "        page_no += 1\n",
    "        \n",
    "    print('Finished Downloading')"
   ]
  },
  {
   "cell_type": "code",
   "execution_count": null,
   "id": "b938cab6",
   "metadata": {},
   "outputs": [
    {
     "name": "stdout",
     "output_type": "stream",
     "text": [
      "Downloading page 1\n",
      "Downloading page 2\n",
      "Downloading page 3\n"
     ]
    }
   ],
   "source": [
    "import os\n",
    "\n",
    "if not os.path.exists('data'): os.makedirs('data')\n",
    "    \n",
    "download_all_files('data', skip_existing=True)"
   ]
  },
  {
   "cell_type": "code",
   "execution_count": null,
   "id": "820f57d7",
   "metadata": {},
   "outputs": [],
   "source": []
  }
 ],
 "metadata": {
  "kernelspec": {
   "display_name": "Python 3 (ipykernel)",
   "language": "python",
   "name": "python3"
  },
  "language_info": {
   "codemirror_mode": {
    "name": "ipython",
    "version": 3
   },
   "file_extension": ".py",
   "mimetype": "text/x-python",
   "name": "python",
   "nbconvert_exporter": "python",
   "pygments_lexer": "ipython3",
   "version": "3.9.12"
  }
 },
 "nbformat": 4,
 "nbformat_minor": 5
}
